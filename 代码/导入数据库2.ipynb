{
 "cells": [
  {
   "cell_type": "code",
   "execution_count": 1,
   "id": "d53bb39b",
   "metadata": {},
   "outputs": [],
   "source": [
    "import pymysql\n",
    "# 引入python中的traceback模块，跟踪错误\n",
    "import traceback\n",
    "import sys\n",
    "\n",
    "\n",
    "class MysqlUtil():\n",
    "    def __init__(self):\n",
    "        '''\n",
    "            初始化方法，连接数据库\n",
    "        '''\n",
    "        host = '192.168.8.126'  # 主机名\n",
    "        user = 'root'  # 数据库用户名\n",
    "        password = '8008'  # 数据库密码\n",
    "        database = 'weibo'  # 数据库名称\n",
    "        self.db = pymysql.connect(host=host, user=user, password=password, db=database)  # 建立连接\n",
    "        self.cursor = self.db.cursor(cursor=pymysql.cursors.DictCursor)  # 设置游标，并将游标设置为字典类型\n",
    "\n",
    "    def insert(self, sql):\n",
    "        '''\n",
    "            插入数据库\n",
    "            sql:插入数据库的sql语句\n",
    "        '''\n",
    "        try:\n",
    "            # 执行sql语句\n",
    "            self.cursor.execute(sql)\n",
    "            # 提交到数据库执行\n",
    "            self.db.commit()\n",
    "        except Exception:  # 方法一：捕获所有异常\n",
    "            # 如果发生异常，则回滚\n",
    "            print(\"发生异常\", Exception)\n",
    "            self.db.rollback()\n",
    "        finally:\n",
    "            # 最终关闭数据库连接\n",
    "            self.db.close()\n",
    "\n",
    "    def fetchone(self, sql):\n",
    "        '''\n",
    "            查询数据库：单个结果集\n",
    "            fetchone(): 该方法获取下一个查询结果集。结果集是一个对象\n",
    "        '''\n",
    "        try:\n",
    "            # 执行sql语句\n",
    "            self.cursor.execute(sql)\n",
    "            result = self.cursor.fetchone()\n",
    "        except:  # 方法二：采用traceback模块查看异常\n",
    "            # 输出异常信息\n",
    "            traceback.print_exc()\n",
    "            # 如果发生异常，则回滚\n",
    "            self.db.rollback()\n",
    "            result = 'None'\n",
    "\n",
    "        finally:\n",
    "            # 最终关闭数据库连接\n",
    "            self.db.close()\n",
    "        return result\n",
    "\n",
    "    def fetchall(self, sql):\n",
    "        '''\n",
    "            查询数据库：多个结果集\n",
    "            fetchall(): 接收全部的返回结果行.\n",
    "        '''\n",
    "        try:\n",
    "            # 执行sql语句\n",
    "            self.cursor.execute(sql)\n",
    "            results = self.cursor.fetchall()\n",
    "        except:  # 方法三：采用sys模块回溯最后的异常\n",
    "            # 输出异常信息\n",
    "            info = sys.exc_info()\n",
    "            print(info[0], \":\", info[1])\n",
    "            # 如果发生异常，则回滚\n",
    "            self.db.rollback()\n",
    "            results = 'None'\n",
    "        finally:\n",
    "            # 最终关闭数据库连接\n",
    "            self.db.close()\n",
    "        return results\n",
    "\n",
    "    def delete(self, sql):\n",
    "        '''\n",
    "            删除结果集\n",
    "        '''\n",
    "        try:\n",
    "            # 执行sql语句\n",
    "            self.cursor.execute(sql)\n",
    "            self.db.commit()\n",
    "        except:  # 把这些异常保存到一个日志文件中，来分析这些异常\n",
    "            # 将错误日志输入到目录文件中\n",
    "            f = open(\"\\log.txt\", 'a')\n",
    "            traceback.print_exc(file=f)\n",
    "            f.flush()\n",
    "            f.close()\n",
    "            # 如果发生异常，则回滚\n",
    "            self.db.rollback()\n",
    "        finally:\n",
    "            # 最终关闭数据库连接\n",
    "            self.db.close()\n",
    "\n",
    "    def update(self, sql):\n",
    "        '''\n",
    "            更新结果集\n",
    "        '''\n",
    "        try:\n",
    "            # 执行sql语句\n",
    "            self.cursor.execute(sql)\n",
    "            self.db.commit()\n",
    "        except:\n",
    "            # 如果发生异常，则回滚\n",
    "            self.db.rollback()\n",
    "        finally:\n",
    "            # 最终关闭数据库连接\n",
    "            self.db.close()\n"
   ]
  },
  {
   "cell_type": "code",
   "execution_count": 2,
   "id": "7104f852",
   "metadata": {},
   "outputs": [
    {
     "name": "stdout",
     "output_type": "stream",
     "text": [
      "-f\n"
     ]
    },
    {
     "ename": "SystemExit",
     "evalue": "",
     "output_type": "error",
     "traceback": [
      "An exception has occurred, use %tb to see the full traceback.\n",
      "\u001b[0;31mSystemExit\u001b[0m\n"
     ]
    },
    {
     "name": "stderr",
     "output_type": "stream",
     "text": [
      "/Library/Frameworks/Python.framework/Versions/3.10/lib/python3.10/site-packages/IPython/core/interactiveshell.py:3450: UserWarning: To exit: use 'exit', 'quit', or Ctrl-D.\n",
      "  warn(\"To exit: use 'exit', 'quit', or Ctrl-D.\", stacklevel=1)\n"
     ]
    }
   ],
   "source": [
    "import requests\n",
    "from urllib.parse import urlencode\n",
    "import time\n",
    "import random\n",
    "from pyquery import PyQuery as pq\n",
    "import sys\n",
    "\n",
    "# 设置代理等（新浪微博的数据是用ajax异步下拉加载的，network->xhr）\n",
    "host = 'm.weibo.cn'\n",
    "base_url = 'https://%s/api/container/getIndex?' % host\n",
    "user_agent = 'Mozilla/5.0 (Linux; Android 6.0; Nexus 5 Build/MRA58N) AppleWebKit/537.36 (KHTML, like Gecko) Chrome/90.0.4430.93 Mobile Safari/537.36'\n",
    "\n",
    "# 设置请求头\n",
    "headers = {\n",
    "    'Host': host,\n",
    "    'keep': 'close',\n",
    "    # 'Referer': 'https://m.weibo.cn/search?containerid=231522type%3D1%26t%3D10%26q%3D%23%E5%A6%82%E4%BD%95%E7%9C%8B%E5%BE%85%E5%8F%8D%E5%86%85%E5%8D%B7%E7%83%AD%E6%BD%AE%23&extparam=%23%E5%A6%82%E4%BD%95%E7%9C%8B%E5%BE%85%E5%8F%8D%E5%86%85%E5%8D%B7%E7%83%AD%E6%BD%AE%23&luicode=10000011&lfid=100103type%3D38%26q%3D%E5%86%85%E5%8D%B7%26t%3D0',\n",
    "    'User-Agent': user_agent\n",
    "}\n",
    "\n",
    "save_per_n_page = 10\n",
    "\n",
    "from datetime import datetime\n",
    "\n",
    "\n",
    "def time_formater(input_time_str):\n",
    "    input_format = '%a %b %d %H:%M:%S %z %Y'\n",
    "    output_format = '%Y-%m-%d %H:%M:%S'\n",
    "\n",
    "    return datetime.strptime(input_time_str, input_format).strftime(output_format)\n",
    "\n",
    "\n",
    "# 按页数抓取数据\n",
    "def get_single_page(page, keyword):\n",
    "    # 请求参数\n",
    "    params = {\n",
    "        'containerid': f'100103type=1&q=#{keyword}#',  # 、、教育内卷、职场内卷、如何看待内卷的社会状态、如何避免婚姻内卷、\n",
    "        'page_type': 'searchall',\n",
    "        'page': page\n",
    "    }\n",
    "    url = base_url + urlencode(params)\n",
    "    print(url)\n",
    "    error_times = 3\n",
    "    while True:\n",
    "        response = requests.get(url, headers=headers)  # ,proxies=abstract_ip.get_proxy()\n",
    "        if response.status_code == 200:\n",
    "            if len(response.json().get('data').get('cards')) > 0:\n",
    "                return response.json()\n",
    "        time.sleep(3)\n",
    "        error_times += 1\n",
    "        # 连续出错次数超过 3\n",
    "        if error_times > 3:\n",
    "            return None\n",
    "\n",
    "\n",
    "# 长文本爬取代码段\n",
    "def getLongText(lid):  # lid为长文本对应的id\n",
    "    # 长文本请求头\n",
    "    headers_longtext = {\n",
    "        'Host': host,\n",
    "        'Referer': 'https://m.weibo.cn/status/' + lid,\n",
    "        'User-Agent': user_agent\n",
    "    }\n",
    "    params = {\n",
    "        'id': lid\n",
    "    }\n",
    "    url = 'https://m.weibo.cn/statuses/extend?' + urlencode(params)\n",
    "    try:\n",
    "        response = requests.get(url, headers=headers_longtext)  # proxies=abstract_ip.get_proxy()\n",
    "        if response.status_code == 200:  # 数据返回成功\n",
    "            jsondata = response.json()\n",
    "            tmp = jsondata.get('data')\n",
    "            return pq(tmp.get(\"longTextContent\")).text()  # 解析返回结构，获取长文本对应内容\n",
    "    except:\n",
    "        pass\n",
    "\n",
    "\n",
    "# 解析页面返回的json数据\n",
    "count = 0\n",
    "\n",
    "'''\n",
    "修改后的页面爬取解析函数\n",
    "'''\n",
    "\n",
    "\n",
    "def parse_page(json_data):\n",
    "    global count\n",
    "    items = json_data.get('data').get('cards')\n",
    "\n",
    "    for index, item in enumerate(items):\n",
    "        if item.get('card_type') == 7:\n",
    "            print('导语')\n",
    "            continue\n",
    "        elif item.get('card_type') == 8 or (item.get('card_type') == 11 and item.get('card_group') is None):\n",
    "            continue\n",
    "        # topic = json_data.get('data').get('cardlistInfo').get('cardlist_head_cards')[0]\n",
    "        # # 单独的关键词抓取不是超话，会有 topic == null\n",
    "        # if topic is None or topic.get('head_data', None) is None:\n",
    "        #     topic = keyword\n",
    "        # else:\n",
    "        #     topic = topic.get('head_data').get('title')\n",
    "        if item.get('mblog', None):\n",
    "            item = item.get('mblog')\n",
    "        else:\n",
    "            item = item.get('card_group')[0].get('mblog')\n",
    "        if item:\n",
    "            if item.get('isLongText') is False:  # 不是长文本\n",
    "                data = {\n",
    "                    'wid': item.get('id'),\n",
    "                    'user_name': item.get('user').get('screen_name'),\n",
    "                    'user_id': item.get('user').get('id'),\n",
    "                    'gender': item.get('user').get('gender'),\n",
    "                    'publish_time': time_formater(item.get('created_at')),\n",
    "                    'text': pq(item.get(\"text\")).text(),  # 仅提取内容中的文本\n",
    "                    'like_count': item.get('attitudes_count'),  # 点赞数\n",
    "                    'comment_count': item.get('comments_count'),  # 评论数\n",
    "                    'forward_count': item.get('reposts_count'),  # 转发数\n",
    "                }\n",
    "            else:  # 长文本涉及文本的展开\n",
    "                tmp = getLongText(item.get('id'))  # 调用函数\n",
    "                data = {\n",
    "                    'wid': item.get('id'),\n",
    "                    'user_name': item.get('user').get('screen_name'),\n",
    "                    'user_id': item.get('user').get('id'),\n",
    "                    'gender': item.get('user').get('gender'),\n",
    "                    'publish_time': time_formater(item.get('created_at')),\n",
    "                    'text': tmp,  # 仅提取内容中的文本\n",
    "                    'like_count': item.get('attitudes_count'),\n",
    "                    'comment_count': item.get('comments_count'),\n",
    "                    'forward_count': item.get('reposts_count'),\n",
    "                }\n",
    "            count += 1\n",
    "            print(f'total count: {count}')\n",
    "            yield data\n",
    "\n",
    "\n",
    "import os, csv\n",
    "\n",
    "if __name__ == '__main__':\n",
    "    keyword = '张新成 受伤'\n",
    "    keyword = sys.argv[1]\n",
    "    print (keyword)\n",
    "    sys.exit()\n",
    "    result_file = f'{keyword}.csv'\n",
    "    if not os.path.exists(result_file):\n",
    "        with open(result_file, mode='w', encoding='utf-8-sig', newline='') as f:\n",
    "            writer = csv.writer(f)\n",
    "            writer.writerow(['wid', 'user_name', 'user_id', 'gender',\n",
    "                             'publish_time', 'text', 'like_count', 'comment_count',\n",
    "                             'forward_count'])\n",
    "\n",
    "    temp_data = []\n",
    "\n",
    "    empty_times = 0\n",
    "\n",
    "    for page in range(1, 50000):  # 瀑布流下拉式，加载\n",
    "        print(f'page: {page}')\n",
    "        json_data = get_single_page(page, keyword)\n",
    "        if json_data == None:\n",
    "            print('json is none')\n",
    "            break\n",
    "\n",
    "        if len(json_data.get('data').get('cards')) <= 0:\n",
    "            empty_times += 1\n",
    "        else:\n",
    "            empty_times = 0\n",
    "        if empty_times > 3:\n",
    "            print('\\n\\n consist empty over 3 times \\n\\n')\n",
    "            break\n",
    "\n",
    "        for result in parse_page(json_data):  # 需要存入的字段\n",
    "            temp_data.append(result)\n",
    "        if page % save_per_n_page == 0:\n",
    "            with open(result_file, mode='a+', encoding='utf-8-sig', newline='') as f:\n",
    "                writer = csv.writer(f)\n",
    "                for d in temp_data:\n",
    "                    writer.writerow(\n",
    "                        [d['wid'], d['user_name'], d['user_id'], d['gender'],\n",
    "                         d['publish_time'], d['text'], d['like_count'], d['comment_count'],\n",
    "                         d['forward_count']])\n",
    "            print(f'\\n\\n------cur turn write {len(temp_data)} rows to csv------\\n\\n')\n",
    "            sys.exit()\n",
    "            temp_data = []\n",
    "        time.sleep(random.randint(2, 6))  # 爬取时间间隔\n"
   ]
  },
  {
   "cell_type": "code",
   "execution_count": 5,
   "id": "5dd24207",
   "metadata": {},
   "outputs": [
    {
     "name": "stderr",
     "output_type": "stream",
     "text": [
      "/var/folders/3f/hj3gtg8n3gz5xm84jn7ywct40000gn/T/ipykernel_2288/3786547022.py:13: FutureWarning: The demoji.download_codes attribute is deprecated and will be removed from demoji in a future version. It is an unused attribute as emoji codes are now distributed directly with the demoji package.\n",
      "  demoji.download_codes()\n"
     ]
    }
   ],
   "source": [
    "import csv\n",
    "import emoji\n",
    "title='多平台回应刑满释放人员变励志网红'\n",
    "with open(title+'.csv', 'r') as read_obj:\n",
    "    csv_reader = csv.reader(read_obj)\n",
    "    list_of_csv = list(csv_reader)\n",
    "\n",
    "for kk in range(len(list_of_csv)-1):\n",
    "    kk = kk + 1\n",
    "\n",
    "    ss=list_of_csv[kk][5]\n",
    "    import demoji\n",
    "    demoji.download_codes()\n",
    "    res = emoji.replace_emoji(ss, replace=\" \")\n",
    "    if res!=ss:\n",
    "        for o in demoji.findall(ss).values():\n",
    "            res=res+''\n",
    "            res=res+o\n",
    "        list_of_csv[kk][5]=res\n",
    "    sql = \"INSERT INTO weiboevents(wid,title,user_id,user_name,gender,publish_time,text,like_count,comment_count,forward_count) \\\n",
    "                       VALUES ('%s', '%s', '%s','%s','%s','%s','%s','%d','%d','%d')\" % (list_of_csv[kk][0], title,list_of_csv[kk][2],list_of_csv[kk][1],list_of_csv[kk][3],list_of_csv[kk][4],list_of_csv[kk][5],int(list_of_csv[kk][6]),int(list_of_csv[kk][7]),int(list_of_csv[kk][8]))\n",
    "    db = MysqlUtil()\n",
    "    db.insert(sql)"
   ]
  },
  {
   "cell_type": "code",
   "execution_count": 4,
   "id": "b2c5bf5a",
   "metadata": {},
   "outputs": [
    {
     "data": {
      "text/plain": [
       "\"INSERT INTO weiboevents(wid,title,user_id,user_name,gender,publish_time,text,like_count,comment_count,forward_count)                        VALUES ('4858986648052869', '多平台回应刑满释放人员变励志网红', '1647688972','环球人物杂志','m','2023-01-17 19:49:15','【#环球人物评刑释人员当网红#：污点不是卖点，包容绝非纵容】\\n近期，有媒体发现，“刑满释放”竟然被某些业内人士总结为短视频和直播的“新赛道”。真是资本无底线，万物都敢“赛道”。\\n\\n刑释人员可以当网红吗？法律并无明文限制，国家也鼓励他们回归社会。如果刑释人员真正找到了新的生活方式，重新实现了正向的人生价值，当然有权通过网络合法合规地分享其经历和感悟。这也是整个社会对刑释人员本着“宽严相济、治病救人”原则的体现。\\n\\n但是，如果刑释人员根本就没有走上洗心革面、自力更生之路，而是靠卖惨成了网红，靠晒“释放证明书”博人眼球，靠流量来走捷径“带货”，靠利用人们的同情心“躺赢”。这算哪门子励志？这有什么正能量？恰恰相反，平台大肆推送卖惨刑释人员的账号，是毫无底线，是流量资本的嗜血与围猎。为了流量，不惜违背“公序良俗”，不惜对受害者造成二次伤害。人们对刑释人员当网红一片哗然，原因就在此。\\n\\n污点不是卖点，包容绝非纵容。鼓励刑释人员寻找人生的多种可能性，绝不意味着可以把过去犯下的错误当作流量密码。“网红”已成为一种炙手可热的新职业，面对新的形势，法律法规如何细化？平台监管如何进行？社会和舆论如何引导帮助刑释人员重回正轨？诸多问题值得我们深思。\\n#多平台回应刑满释放人员变励志网红##刑释人员可不可以当网红#','6','1','1')\""
      ]
     },
     "execution_count": 4,
     "metadata": {},
     "output_type": "execute_result"
    }
   ],
   "source": [
    "sql"
   ]
  },
  {
   "cell_type": "code",
   "execution_count": 42,
   "id": "800e87f7",
   "metadata": {},
   "outputs": [
    {
     "data": {
      "text/plain": [
       "['4857921639556034',\n",
       " '张新成StevenZhang工作室',\n",
       " '7782851856',\n",
       " 'm',\n",
       " '2023-01-14 21:17:17',\n",
       " '本哥在节目录制期间，意外手臂受伤，已于第一时间送医治疗。现已无大碍，请大家不要担心～',\n",
       " '10230',\n",
       " '1866',\n",
       " '985']"
      ]
     },
     "execution_count": 42,
     "metadata": {},
     "output_type": "execute_result"
    }
   ],
   "source": [
    "list_of_csv[1]"
   ]
  },
  {
   "cell_type": "code",
   "execution_count": 80,
   "id": "7a9d52b0",
   "metadata": {},
   "outputs": [],
   "source": [
    "kk=163\n",
    "sql = \"INSERT INTO weiboevents(wid,title,user_id,user_name,gender,publish_time,text,like_count,comment_count,forward_count) \\\n",
    "                       VALUES ('%s', '%s', '%s','%s','%s','%s','%s','%d','%d','%d')\" % (list_of_csv[kk][0], title,list_of_csv[kk][2],list_of_csv[kk][1],list_of_csv[kk][3],list_of_csv[kk][4],list_of_csv[kk][5],int(list_of_csv[kk][6]),int(list_of_csv[kk][7]),int(list_of_csv[kk][8]))\n"
   ]
  },
  {
   "cell_type": "code",
   "execution_count": 81,
   "id": "d243008f",
   "metadata": {},
   "outputs": [
    {
     "data": {
      "text/plain": [
       "\"INSERT INTO weiboevents(wid,title,user_id,user_name,gender,publish_time,text,like_count,comment_count,forward_count)                        VALUES ('4857955029884528', '张新成 受伤', '6109698934','思马斯徂-','f','2023-01-14 23:29:58','#张新成 受伤#慢综 你没事儿吧😅😅😅','0','0','0')\""
      ]
     },
     "execution_count": 81,
     "metadata": {},
     "output_type": "execute_result"
    }
   ],
   "source": [
    "sql"
   ]
  },
  {
   "cell_type": "code",
   "execution_count": 191,
   "id": "af6ef5f6",
   "metadata": {},
   "outputs": [],
   "source": [
    "sql_4=\"select title,count(`id`) as t from weiboevents group by title\"\n",
    "db = MysqlUtil()\n",
    "count_number = db.fetchall(sql_4)"
   ]
  },
  {
   "cell_type": "code",
   "execution_count": 194,
   "id": "e25e6a90",
   "metadata": {},
   "outputs": [
    {
     "data": {
      "text/plain": [
       "[{'id': 1.0, 'title': '张新成 受伤', 't': 198}, {'id': 2.0, 'title': '新年', 't': 99}]"
      ]
     },
     "execution_count": 194,
     "metadata": {},
     "output_type": "execute_result"
    }
   ],
   "source": [
    "count_number"
   ]
  },
  {
   "cell_type": "code",
   "execution_count": 205,
   "id": "dd82a5cf",
   "metadata": {},
   "outputs": [],
   "source": [
    "sql_4=\"select (@id:=@id+1) as id,title,count(`id`) as t from weiboevents,(SELECT @id:=0 )as id_temp group by title\"\n",
    "db = MysqlUtil()\n",
    "count_number = db.fetchall(sql_4)"
   ]
  },
  {
   "cell_type": "code",
   "execution_count": 206,
   "id": "b0918bc7",
   "metadata": {},
   "outputs": [],
   "source": [
    "for i in range(len(count_number)):\n",
    "    count_number[i][\"id\"]=int(count_number[i][\"id\"])\n",
    "\n"
   ]
  },
  {
   "cell_type": "code",
   "execution_count": 207,
   "id": "4dc41728",
   "metadata": {},
   "outputs": [
    {
     "data": {
      "text/plain": [
       "[{'id': 1, 'title': '张新成 受伤', 't': 198}, {'id': 2, 'title': '新年', 't': 99}]"
      ]
     },
     "execution_count": 207,
     "metadata": {},
     "output_type": "execute_result"
    }
   ],
   "source": [
    " count_number"
   ]
  },
  {
   "cell_type": "code",
   "execution_count": null,
   "id": "1b851a34",
   "metadata": {},
   "outputs": [],
   "source": []
  }
 ],
 "metadata": {
  "kernelspec": {
   "display_name": "Python 3 (ipykernel)",
   "language": "python",
   "name": "python3"
  },
  "language_info": {
   "codemirror_mode": {
    "name": "ipython",
    "version": 3
   },
   "file_extension": ".py",
   "mimetype": "text/x-python",
   "name": "python",
   "nbconvert_exporter": "python",
   "pygments_lexer": "ipython3",
   "version": "3.10.9"
  }
 },
 "nbformat": 4,
 "nbformat_minor": 5
}
