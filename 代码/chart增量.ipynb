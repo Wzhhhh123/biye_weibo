{
 "cells": [
  {
   "cell_type": "code",
   "execution_count": null,
   "id": "c25d4267",
   "metadata": {},
   "outputs": [
    {
     "name": "stdout",
     "output_type": "stream",
     "text": [
      " * Serving Flask app '__main__'\n",
      " * Debug mode: off\n"
     ]
    },
    {
     "name": "stderr",
     "output_type": "stream",
     "text": [
      "WARNING: This is a development server. Do not use it in a production deployment. Use a production WSGI server instead.\n",
      " * Running on http://127.0.0.1:5000\n",
      "Press CTRL+C to quit\n"
     ]
    }
   ],
   "source": [
    "from random import randrange\n",
    "\n",
    "from flask.json import jsonify\n",
    "from flask import Flask, render_template\n",
    "\n",
    "from pyecharts import options as opts\n",
    "from pyecharts.charts import Line\n",
    "\n",
    "\n",
    "app = Flask(__name__, static_folder=\"templates\")\n",
    "\n",
    "\n",
    "def line_base() -> Line:\n",
    "    line = (\n",
    "        Line()\n",
    "        .add_xaxis([\"{}\".format(i) for i in range(10)])\n",
    "        .add_yaxis(\n",
    "            series_name=\"\",\n",
    "            y_axis=[randrange(50, 80) for _ in range(10)],\n",
    "            is_smooth=True,\n",
    "            label_opts=opts.LabelOpts(is_show=False),\n",
    "        )\n",
    "        .set_global_opts(\n",
    "            title_opts=opts.TitleOpts(title=\"动态数据\"),\n",
    "            xaxis_opts=opts.AxisOpts(type_=\"value\"),\n",
    "            yaxis_opts=opts.AxisOpts(type_=\"value\"),\n",
    "        )\n",
    "    )\n",
    "    return line\n",
    "\n",
    "\n",
    "@app.route(\"/\")\n",
    "def index():\n",
    "    return render_template(\"test.html\")\n",
    "\n",
    "\n",
    "@app.route(\"/lineChart\")\n",
    "def get_line_chart():\n",
    "    c = line_base()\n",
    "    return c.dump_options_with_quotes()\n",
    "\n",
    "\n",
    "idx = 9\n",
    "\n",
    "\n",
    "@app.route(\"/lineDynamicData\")\n",
    "def update_line_data():\n",
    "    global idx\n",
    "    idx = idx + 1\n",
    "    return jsonify({\"name\": idx, \"value\": randrange(50, 80)})\n",
    "\n",
    "\n",
    "if __name__ == \"__main__\":\n",
    "    app.run()"
   ]
  },
  {
   "cell_type": "code",
   "execution_count": 3,
   "id": "d0985ddc",
   "metadata": {},
   "outputs": [
    {
     "data": {
      "text/plain": [
       "[55, 70, 61, 53, 66, 77, 53, 70, 53, 71]"
      ]
     },
     "execution_count": 3,
     "metadata": {},
     "output_type": "execute_result"
    }
   ],
   "source": [
    "[randrange(50, 80) for _ in range(10)]"
   ]
  },
  {
   "cell_type": "code",
   "execution_count": null,
   "id": "3dd1c580",
   "metadata": {},
   "outputs": [],
   "source": []
  }
 ],
 "metadata": {
  "kernelspec": {
   "display_name": "Python 3 (ipykernel)",
   "language": "python",
   "name": "python3"
  },
  "language_info": {
   "codemirror_mode": {
    "name": "ipython",
    "version": 3
   },
   "file_extension": ".py",
   "mimetype": "text/x-python",
   "name": "python",
   "nbconvert_exporter": "python",
   "pygments_lexer": "ipython3",
   "version": "3.9.13"
  }
 },
 "nbformat": 4,
 "nbformat_minor": 5
}
