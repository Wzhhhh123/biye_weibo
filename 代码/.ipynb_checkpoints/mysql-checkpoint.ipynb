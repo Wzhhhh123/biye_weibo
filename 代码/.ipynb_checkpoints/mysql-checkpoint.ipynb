{
 "cells": [
  {
   "cell_type": "code",
   "execution_count": 2,
   "id": "67f0a86b",
   "metadata": {},
   "outputs": [
    {
     "ename": "ModuleNotFoundError",
     "evalue": "No module named 'mysql_util'",
     "output_type": "error",
     "traceback": [
      "\u001b[0;31m---------------------------------------------------------------------------\u001b[0m",
      "\u001b[0;31mModuleNotFoundError\u001b[0m                       Traceback (most recent call last)",
      "Cell \u001b[0;32mIn[2], line 1\u001b[0m\n\u001b[0;32m----> 1\u001b[0m \u001b[38;5;28;01mfrom\u001b[39;00m \u001b[38;5;21;01mmysql_util\u001b[39;00m \u001b[38;5;28;01mimport\u001b[39;00m MysqlUtil\n\u001b[1;32m      2\u001b[0m db \u001b[38;5;241m=\u001b[39m MysqlUtil() \n",
      "\u001b[0;31mModuleNotFoundError\u001b[0m: No module named 'mysql_util'"
     ]
    }
   ],
   "source": [
    "import pymysql\n",
    "# 引入python中的traceback模块，跟踪错误\n",
    "import traceback\n",
    "import sys\n",
    "\n",
    "db = MysqlUtil() "
   ]
  },
  {
   "cell_type": "code",
   "execution_count": 15,
   "id": "1d1cdc29",
   "metadata": {},
   "outputs": [],
   "source": [
    "db = pymysql.connect(host='192.168.8.161', user='root', password='Wzh010310*', db='notebook')"
   ]
  },
  {
   "cell_type": "code",
   "execution_count": null,
   "id": "6bf5fe03",
   "metadata": {},
   "outputs": [],
   "source": []
  },
  {
   "cell_type": "code",
   "execution_count": null,
   "id": "c236f6ba",
   "metadata": {},
   "outputs": [],
   "source": [
    "\n",
    "\n",
    "class MysqlUtil():\n",
    "    def __init__(self):\n",
    "        '''\n",
    "            初始化方法，连接数据库\n",
    "        '''\n",
    "        host = '192.168.8.236'  # 主机名\n",
    "        user = 'root'  # 数据库用户名\n",
    "        password = 'Wzh010310*'  # 数据库密码\n",
    "        database = 'notebook'  # 数据库名称\n",
    "        self.db = pymysql.connect(host=host, user=user, password=password, db=database)  # 建立连接\n",
    "        self.cursor = self.db.cursor(cursor=pymysql.cursors.DictCursor)  # 设置游标，并将游标设置为字典类型\n",
    "\n",
    "    def insert(self, sql):\n",
    "        '''\n",
    "            插入数据库\n",
    "            sql:插入数据库的sql语句\n",
    "        '''\n",
    "        try:\n",
    "            # 执行sql语句\n",
    "            self.cursor.execute(sql)\n",
    "            # 提交到数据库执行\n",
    "            self.db.commit()\n",
    "        except Exception:  # 方法一：捕获所有异常\n",
    "            # 如果发生异常，则回滚\n",
    "            print(\"发生异常\", Exception)\n",
    "            self.db.rollback()\n",
    "        finally:\n",
    "            # 最终关闭数据库连接\n",
    "            self.db.close()\n",
    "\n",
    "    def fetchone(self, sql):\n",
    "        '''\n",
    "            查询数据库：单个结果集\n",
    "            fetchone(): 该方法获取下一个查询结果集。结果集是一个对象\n",
    "        '''\n",
    "        try:\n",
    "            # 执行sql语句\n",
    "            self.cursor.execute(sql)\n",
    "            result = self.cursor.fetchone()\n",
    "        except:  # 方法二：采用traceback模块查看异常\n",
    "            # 输出异常信息\n",
    "            traceback.print_exc()\n",
    "            # 如果发生异常，则回滚\n",
    "            self.db.rollback()\n",
    "            result = 'None'\n",
    "\n",
    "        finally:\n",
    "            # 最终关闭数据库连接\n",
    "            self.db.close()\n",
    "        return result\n",
    "\n",
    "    def fetchall(self, sql):\n",
    "        '''\n",
    "            查询数据库：多个结果集\n",
    "            fetchall(): 接收全部的返回结果行.\n",
    "        '''\n",
    "        try:\n",
    "            # 执行sql语句\n",
    "            self.cursor.execute(sql)\n",
    "            results = self.cursor.fetchall()\n",
    "        except:  # 方法三：采用sys模块回溯最后的异常\n",
    "            # 输出异常信息\n",
    "            info = sys.exc_info()\n",
    "            print(info[0], \":\", info[1])\n",
    "            # 如果发生异常，则回滚\n",
    "            self.db.rollback()\n",
    "            results = 'None'\n",
    "        finally:\n",
    "            # 最终关闭数据库连接\n",
    "            self.db.close()\n",
    "        return results\n",
    "\n",
    "    def delete(self, sql):\n",
    "        '''\n",
    "            删除结果集\n",
    "        '''\n",
    "        try:\n",
    "            # 执行sql语句\n",
    "            self.cursor.execute(sql)\n",
    "            self.db.commit()\n",
    "        except:  # 把这些异常保存到一个日志文件中，来分析这些异常\n",
    "            # 将错误日志输入到目录文件中\n",
    "            f = open(\"\\log.txt\", 'a')\n",
    "            traceback.print_exc(file=f)\n",
    "            f.flush()\n",
    "            f.close()\n",
    "            # 如果发生异常，则回滚\n",
    "            self.db.rollback()\n",
    "        finally:\n",
    "            # 最终关闭数据库连接\n",
    "            self.db.close()\n",
    "\n",
    "    def update(self, sql):\n",
    "        '''\n",
    "            更新结果集\n",
    "        '''\n",
    "        try:\n",
    "            # 执行sql语句\n",
    "            self.cursor.execute(sql)\n",
    "            self.db.commit()\n",
    "        except:\n",
    "            # 如果发生异常，则回滚\n",
    "            self.db.rollback()\n",
    "        finally:\n",
    "            # 最终关闭数据库连接\n",
    "            self.db.close()\n"
   ]
  },
  {
   "cell_type": "code",
   "execution_count": 14,
   "id": "481cf8b3",
   "metadata": {},
   "outputs": [
    {
     "data": {
      "text/plain": [
       "'2023-01-11 13:55:26'"
      ]
     },
     "execution_count": 14,
     "metadata": {},
     "output_type": "execute_result"
    }
   ],
   "source": [
    "import time\n",
    "time.strftime(\"%Y-%m-%d %H:%M:%S\", time.localtime())"
   ]
  },
  {
   "cell_type": "code",
   "execution_count": null,
   "id": "49f0e99e",
   "metadata": {},
   "outputs": [],
   "source": []
  }
 ],
 "metadata": {
  "kernelspec": {
   "display_name": "Python 3 (ipykernel)",
   "language": "python",
   "name": "python3"
  },
  "language_info": {
   "codemirror_mode": {
    "name": "ipython",
    "version": 3
   },
   "file_extension": ".py",
   "mimetype": "text/x-python",
   "name": "python",
   "nbconvert_exporter": "python",
   "pygments_lexer": "ipython3",
   "version": "3.8.8"
  }
 },
 "nbformat": 4,
 "nbformat_minor": 5
}
