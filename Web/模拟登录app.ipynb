{
 "cells": [
  {
   "cell_type": "code",
   "execution_count": null,
   "id": "9076ca8e",
   "metadata": {},
   "outputs": [],
   "source": [
    "import socket\n",
    "import _thread\n",
    "import re\n",
    "import sys\n",
    "server = socket.socket()\n",
    "server.bind(('127.0.0.1',8000))\n",
    "server.listen(3)\n",
    "conn, addr = server.accept()\n",
    "data = True\n",
    "while data :\n",
    "    data = conn.recv(1024)\n",
    "    msg = raw_input()\n",
    "    if msq==\"any code you mean to exit\": break\n",
    "    conn.sendall(msg)\n",
    "conn.close()\n",
    "server.close()\n",
    "\n"
   ]
  },
  {
   "cell_type": "code",
   "execution_count": 21,
   "id": "bf999e1b",
   "metadata": {},
   "outputs": [
    {
     "name": "stdout",
     "output_type": "stream",
     "text": [
      "b'GET http://8.131.54.75:7500/ HTTP/1.1\\r\\nHost: 8.131.54.75:7500\\r\\nAccept: text/html,application/xhtml+xml,application/xml;q=0.9,*/*;q=0.8\\r\\nProxy-Connection: keep-alive\\r\\nUpgrade-Insecure-Requests: 1\\r\\nCookie: wp-settings-1=libraryContent%3Dbrowse%26ampeditor%3Dtinymce%26ampmfold%3Do%26ampposts_list_mode%3Dlist; wp-settings-time-1=1637148760; QZpU_2132_ulastactivity=5f3cPzH9yUjXxPtdvoBWhFZQtqjnEr1t3PB3ozg5FOrIbp5cq0tD; wp-settings-time-4=1626229301\\r\\nUser-Agent: Mozilla/5.0 (iPhone; CPU iPhone OS 14_3 like Mac OS X) AppleWebKit/605.1.15 (KHTML, like Gecko) Version/14.0.2 Mobile/15E148 Safari/604.1\\r\\nAccept-Language: zh-cn\\r\\nAccept-Encoding: gzip, deflate\\r\\nConnection: keep-alive\\r\\n\\r\\n'\n"
     ]
    },
    {
     "ename": "NameError",
     "evalue": "name 'getHost' is not defined",
     "output_type": "error",
     "traceback": [
      "\u001b[0;31m---------------------------------------------------------------------------\u001b[0m",
      "\u001b[0;31mNameError\u001b[0m                                 Traceback (most recent call last)",
      "\u001b[0;32m/var/folders/ch/43_ylpr14gj7_x367vf0hm8w0000gn/T/ipykernel_1286/725860094.py\u001b[0m in \u001b[0;36m<module>\u001b[0;34m\u001b[0m\n\u001b[1;32m      6\u001b[0m \u001b[0mprint\u001b[0m\u001b[0;34m(\u001b[0m\u001b[0mdata\u001b[0m\u001b[0;34m)\u001b[0m\u001b[0;34m\u001b[0m\u001b[0;34m\u001b[0m\u001b[0m\n\u001b[1;32m      7\u001b[0m \u001b[0;31m# 假装已经实现了getHost\u001b[0m\u001b[0;34m\u001b[0m\u001b[0;34m\u001b[0m\u001b[0m\n\u001b[0;32m----> 8\u001b[0;31m \u001b[0mhost\u001b[0m\u001b[0;34m,\u001b[0m \u001b[0mport\u001b[0m \u001b[0;34m=\u001b[0m \u001b[0mgetHost\u001b[0m\u001b[0;34m(\u001b[0m\u001b[0mdata\u001b[0m\u001b[0;34m)\u001b[0m\u001b[0;34m\u001b[0m\u001b[0;34m\u001b[0m\u001b[0m\n\u001b[0m\u001b[1;32m      9\u001b[0m \u001b[0mtarget\u001b[0m \u001b[0;34m=\u001b[0m \u001b[0msocket\u001b[0m\u001b[0;34m.\u001b[0m\u001b[0msocket\u001b[0m\u001b[0;34m(\u001b[0m\u001b[0msocket\u001b[0m\u001b[0;34m.\u001b[0m\u001b[0mAF_INET\u001b[0m\u001b[0;34m,\u001b[0m \u001b[0msocket\u001b[0m\u001b[0;34m.\u001b[0m\u001b[0mSOCK_STREAM\u001b[0m\u001b[0;34m)\u001b[0m\u001b[0;34m\u001b[0m\u001b[0;34m\u001b[0m\u001b[0m\n\u001b[1;32m     10\u001b[0m \u001b[0mtarget\u001b[0m\u001b[0;34m.\u001b[0m\u001b[0mconnect\u001b[0m\u001b[0;34m(\u001b[0m\u001b[0;34m(\u001b[0m\u001b[0mhost\u001b[0m\u001b[0;34m,\u001b[0m \u001b[0mport\u001b[0m\u001b[0;34m)\u001b[0m\u001b[0;34m)\u001b[0m\u001b[0;34m\u001b[0m\u001b[0;34m\u001b[0m\u001b[0m\n",
      "\u001b[0;31mNameError\u001b[0m: name 'getHost' is not defined"
     ]
    }
   ],
   "source": [
    "server = socket.socket(socket.AF_INET, socket.SOCK_STREAM)\n",
    "server.bind(('192.168.20.218', 8005))\n",
    "server.listen(3)\n",
    "conn, addr = server.accept()\n",
    "data = conn.recv(1024)\n",
    "print(data)\n",
    "# 假装已经实现了getHost\n",
    "host, port = getHost(data)\n",
    "target = socket.socket(socket.AF_INET, socket.SOCK_STREAM)\n",
    "target.connect((host, port))\n",
    "target.sendall(data)\n",
    " \n",
    "data = target.recv(1024)\n",
    "print(data)\n",
    "conn.sendall(data)\n",
    " \n",
    "target.close()\n",
    "conn.close()\n",
    "server.close()\n",
    "\n"
   ]
  },
  {
   "cell_type": "code",
   "execution_count": 12,
   "id": "912793a9",
   "metadata": {},
   "outputs": [],
   "source": [
    " \n",
    "\n",
    "server.close()"
   ]
  },
  {
   "cell_type": "code",
   "execution_count": 25,
   "id": "1d4407ca",
   "metadata": {},
   "outputs": [
    {
     "ename": "TypeError",
     "evalue": "main() takes from 1 to 2 positional arguments but 3 were given",
     "output_type": "error",
     "traceback": [
      "\u001b[0;31m---------------------------------------------------------------------------\u001b[0m",
      "\u001b[0;31mTypeError\u001b[0m                                 Traceback (most recent call last)",
      "\u001b[0;32m/var/folders/ch/43_ylpr14gj7_x367vf0hm8w0000gn/T/ipykernel_1286/3836394213.py\u001b[0m in \u001b[0;36m<module>\u001b[0;34m\u001b[0m\n\u001b[1;32m     10\u001b[0m \u001b[0;34m\u001b[0m\u001b[0m\n\u001b[1;32m     11\u001b[0m \u001b[0;32mif\u001b[0m \u001b[0m__name__\u001b[0m \u001b[0;34m==\u001b[0m \u001b[0;34m'__main__'\u001b[0m\u001b[0;34m:\u001b[0m\u001b[0;34m\u001b[0m\u001b[0;34m\u001b[0m\u001b[0m\n\u001b[0;32m---> 12\u001b[0;31m     \u001b[0mmain\u001b[0m\u001b[0;34m(\u001b[0m\u001b[0;34m*\u001b[0m\u001b[0msys\u001b[0m\u001b[0;34m.\u001b[0m\u001b[0margv\u001b[0m\u001b[0;34m)\u001b[0m\u001b[0;34m\u001b[0m\u001b[0;34m\u001b[0m\u001b[0m\n\u001b[0m\u001b[1;32m     13\u001b[0m     \u001b[0msys\u001b[0m\u001b[0;34m.\u001b[0m\u001b[0mexit\u001b[0m\u001b[0;34m(\u001b[0m\u001b[0;36m0\u001b[0m\u001b[0;34m)\u001b[0m\u001b[0;34m\u001b[0m\u001b[0;34m\u001b[0m\u001b[0m\n\u001b[1;32m     14\u001b[0m \u001b[0;34m\u001b[0m\u001b[0m\n",
      "\u001b[0;31mTypeError\u001b[0m: main() takes from 1 to 2 positional arguments but 3 were given"
     ]
    }
   ],
   "source": [
    "def main(_, port=8099):\n",
    "    myserver = socket.socket()\n",
    "    myserver.bind(('127.0.0.1', port))\n",
    "    myserver.listen(1024)\n",
    "    while True:\n",
    "        conn, addr = myserver.accept()\n",
    "        thread_p = threading.Thread(target=thread_proxy, args=(conn, addr))\n",
    "        thread_p.setDaemon(True)\n",
    "        thread_p.start()\n",
    " \n",
    "if __name__ == '__main__':\n",
    "    main(*sys.argv)\n",
    "    sys.exit(0)\n",
    "\n"
   ]
  },
  {
   "cell_type": "code",
   "execution_count": 29,
   "id": "e8549f30",
   "metadata": {},
   "outputs": [
    {
     "name": "stderr",
     "output_type": "stream",
     "text": [
      "ERROR:root:Internal Python error in the inspect module.\n",
      "Below is the traceback from this internal error.\n",
      "\n"
     ]
    },
    {
     "name": "stdout",
     "output_type": "stream",
     "text": [
      "[error] read the readme.md first!\n",
      "Traceback (most recent call last):\n",
      "  File \"/var/folders/ch/43_ylpr14gj7_x367vf0hm8w0000gn/T/ipykernel_1286/2941418075.py\", line 219, in <module>\n",
      "    opts, _ = getopt.getopt(sys.argv[1:], 'h:p:l:b:d:', ['host=', 'port=', 'listen=', 'bufsize=', 'delay='])\n",
      "  File \"/Library/Frameworks/Python.framework/Versions/3.10/lib/python3.10/getopt.py\", line 95, in getopt\n",
      "    opts, args = do_shorts(opts, args[0][1:], shortopts, args[1:])\n",
      "  File \"/Library/Frameworks/Python.framework/Versions/3.10/lib/python3.10/getopt.py\", line 195, in do_shorts\n",
      "    if short_has_arg(opt, shortopts):\n",
      "  File \"/Library/Frameworks/Python.framework/Versions/3.10/lib/python3.10/getopt.py\", line 211, in short_has_arg\n",
      "    raise GetoptError(_('option -%s not recognized') % opt, opt)\n",
      "getopt.GetoptError: option -f not recognized\n",
      "\n",
      "During handling of the above exception, another exception occurred:\n",
      "\n",
      "Traceback (most recent call last):\n",
      "  File \"/Library/Frameworks/Python.framework/Versions/3.10/lib/python3.10/site-packages/IPython/core/interactiveshell.py\", line 3457, in run_code\n",
      "    exec(code_obj, self.user_global_ns, self.user_ns)\n",
      "  File \"/var/folders/ch/43_ylpr14gj7_x367vf0hm8w0000gn/T/ipykernel_1286/2941418075.py\", line 233, in <module>\n",
      "    sys.exit()\n",
      "SystemExit\n",
      "\n",
      "During handling of the above exception, another exception occurred:\n",
      "\n",
      "Traceback (most recent call last):\n",
      "  File \"/Library/Frameworks/Python.framework/Versions/3.10/lib/python3.10/site-packages/IPython/core/ultratb.py\", line 1101, in get_records\n",
      "    return _fixed_getinnerframes(etb, number_of_lines_of_context, tb_offset)\n",
      "  File \"/Library/Frameworks/Python.framework/Versions/3.10/lib/python3.10/site-packages/IPython/core/ultratb.py\", line 248, in wrapped\n",
      "    return f(*args, **kwargs)\n",
      "  File \"/Library/Frameworks/Python.framework/Versions/3.10/lib/python3.10/site-packages/IPython/core/ultratb.py\", line 281, in _fixed_getinnerframes\n",
      "    records = fix_frame_records_filenames(inspect.getinnerframes(etb, context))\n",
      "  File \"/Library/Frameworks/Python.framework/Versions/3.10/lib/python3.10/inspect.py\", line 1667, in getinnerframes\n",
      "    frameinfo = (tb.tb_frame,) + getframeinfo(tb, context)\n",
      "AttributeError: 'tuple' object has no attribute 'tb_frame'\n"
     ]
    },
    {
     "ename": "TypeError",
     "evalue": "object of type 'NoneType' has no len()",
     "output_type": "error",
     "traceback": [
      "\u001b[0;31m---------------------------------------------------------------------------\u001b[0m",
      "\u001b[0;31mGetoptError\u001b[0m                               Traceback (most recent call last)",
      "\u001b[0;32m/var/folders/ch/43_ylpr14gj7_x367vf0hm8w0000gn/T/ipykernel_1286/2941418075.py\u001b[0m in \u001b[0;36m<module>\u001b[0;34m\u001b[0m\n\u001b[1;32m    218\u001b[0m     \u001b[0;32mtry\u001b[0m\u001b[0;34m:\u001b[0m\u001b[0;34m\u001b[0m\u001b[0;34m\u001b[0m\u001b[0m\n\u001b[0;32m--> 219\u001b[0;31m         \u001b[0mopts\u001b[0m\u001b[0;34m,\u001b[0m \u001b[0m_\u001b[0m \u001b[0;34m=\u001b[0m \u001b[0mgetopt\u001b[0m\u001b[0;34m.\u001b[0m\u001b[0mgetopt\u001b[0m\u001b[0;34m(\u001b[0m\u001b[0msys\u001b[0m\u001b[0;34m.\u001b[0m\u001b[0margv\u001b[0m\u001b[0;34m[\u001b[0m\u001b[0;36m1\u001b[0m\u001b[0;34m:\u001b[0m\u001b[0;34m]\u001b[0m\u001b[0;34m,\u001b[0m \u001b[0;34m'h:p:l:b:d:'\u001b[0m\u001b[0;34m,\u001b[0m \u001b[0;34m[\u001b[0m\u001b[0;34m'host='\u001b[0m\u001b[0;34m,\u001b[0m \u001b[0;34m'port='\u001b[0m\u001b[0;34m,\u001b[0m \u001b[0;34m'listen='\u001b[0m\u001b[0;34m,\u001b[0m \u001b[0;34m'bufsize='\u001b[0m\u001b[0;34m,\u001b[0m \u001b[0;34m'delay='\u001b[0m\u001b[0;34m]\u001b[0m\u001b[0;34m)\u001b[0m\u001b[0;34m\u001b[0m\u001b[0;34m\u001b[0m\u001b[0m\n\u001b[0m\u001b[1;32m    220\u001b[0m         \u001b[0;32mfor\u001b[0m \u001b[0mopt\u001b[0m\u001b[0;34m,\u001b[0m \u001b[0marg\u001b[0m \u001b[0;32min\u001b[0m \u001b[0mopts\u001b[0m\u001b[0;34m:\u001b[0m\u001b[0;34m\u001b[0m\u001b[0;34m\u001b[0m\u001b[0m\n",
      "\u001b[0;32m/Library/Frameworks/Python.framework/Versions/3.10/lib/python3.10/getopt.py\u001b[0m in \u001b[0;36mgetopt\u001b[0;34m(args, shortopts, longopts)\u001b[0m\n\u001b[1;32m     94\u001b[0m         \u001b[0;32melse\u001b[0m\u001b[0;34m:\u001b[0m\u001b[0;34m\u001b[0m\u001b[0;34m\u001b[0m\u001b[0m\n\u001b[0;32m---> 95\u001b[0;31m             \u001b[0mopts\u001b[0m\u001b[0;34m,\u001b[0m \u001b[0margs\u001b[0m \u001b[0;34m=\u001b[0m \u001b[0mdo_shorts\u001b[0m\u001b[0;34m(\u001b[0m\u001b[0mopts\u001b[0m\u001b[0;34m,\u001b[0m \u001b[0margs\u001b[0m\u001b[0;34m[\u001b[0m\u001b[0;36m0\u001b[0m\u001b[0;34m]\u001b[0m\u001b[0;34m[\u001b[0m\u001b[0;36m1\u001b[0m\u001b[0;34m:\u001b[0m\u001b[0;34m]\u001b[0m\u001b[0;34m,\u001b[0m \u001b[0mshortopts\u001b[0m\u001b[0;34m,\u001b[0m \u001b[0margs\u001b[0m\u001b[0;34m[\u001b[0m\u001b[0;36m1\u001b[0m\u001b[0;34m:\u001b[0m\u001b[0;34m]\u001b[0m\u001b[0;34m)\u001b[0m\u001b[0;34m\u001b[0m\u001b[0;34m\u001b[0m\u001b[0m\n\u001b[0m\u001b[1;32m     96\u001b[0m \u001b[0;34m\u001b[0m\u001b[0m\n",
      "\u001b[0;32m/Library/Frameworks/Python.framework/Versions/3.10/lib/python3.10/getopt.py\u001b[0m in \u001b[0;36mdo_shorts\u001b[0;34m(opts, optstring, shortopts, args)\u001b[0m\n\u001b[1;32m    194\u001b[0m         \u001b[0mopt\u001b[0m\u001b[0;34m,\u001b[0m \u001b[0moptstring\u001b[0m \u001b[0;34m=\u001b[0m \u001b[0moptstring\u001b[0m\u001b[0;34m[\u001b[0m\u001b[0;36m0\u001b[0m\u001b[0;34m]\u001b[0m\u001b[0;34m,\u001b[0m \u001b[0moptstring\u001b[0m\u001b[0;34m[\u001b[0m\u001b[0;36m1\u001b[0m\u001b[0;34m:\u001b[0m\u001b[0;34m]\u001b[0m\u001b[0;34m\u001b[0m\u001b[0;34m\u001b[0m\u001b[0m\n\u001b[0;32m--> 195\u001b[0;31m         \u001b[0;32mif\u001b[0m \u001b[0mshort_has_arg\u001b[0m\u001b[0;34m(\u001b[0m\u001b[0mopt\u001b[0m\u001b[0;34m,\u001b[0m \u001b[0mshortopts\u001b[0m\u001b[0;34m)\u001b[0m\u001b[0;34m:\u001b[0m\u001b[0;34m\u001b[0m\u001b[0;34m\u001b[0m\u001b[0m\n\u001b[0m\u001b[1;32m    196\u001b[0m             \u001b[0;32mif\u001b[0m \u001b[0moptstring\u001b[0m \u001b[0;34m==\u001b[0m \u001b[0;34m''\u001b[0m\u001b[0;34m:\u001b[0m\u001b[0;34m\u001b[0m\u001b[0;34m\u001b[0m\u001b[0m\n",
      "\u001b[0;32m/Library/Frameworks/Python.framework/Versions/3.10/lib/python3.10/getopt.py\u001b[0m in \u001b[0;36mshort_has_arg\u001b[0;34m(opt, shortopts)\u001b[0m\n\u001b[1;32m    210\u001b[0m             \u001b[0;32mreturn\u001b[0m \u001b[0mshortopts\u001b[0m\u001b[0;34m.\u001b[0m\u001b[0mstartswith\u001b[0m\u001b[0;34m(\u001b[0m\u001b[0;34m':'\u001b[0m\u001b[0;34m,\u001b[0m \u001b[0mi\u001b[0m\u001b[0;34m+\u001b[0m\u001b[0;36m1\u001b[0m\u001b[0;34m)\u001b[0m\u001b[0;34m\u001b[0m\u001b[0;34m\u001b[0m\u001b[0m\n\u001b[0;32m--> 211\u001b[0;31m     \u001b[0;32mraise\u001b[0m \u001b[0mGetoptError\u001b[0m\u001b[0;34m(\u001b[0m\u001b[0m_\u001b[0m\u001b[0;34m(\u001b[0m\u001b[0;34m'option -%s not recognized'\u001b[0m\u001b[0;34m)\u001b[0m \u001b[0;34m%\u001b[0m \u001b[0mopt\u001b[0m\u001b[0;34m,\u001b[0m \u001b[0mopt\u001b[0m\u001b[0;34m)\u001b[0m\u001b[0;34m\u001b[0m\u001b[0;34m\u001b[0m\u001b[0m\n\u001b[0m\u001b[1;32m    212\u001b[0m \u001b[0;34m\u001b[0m\u001b[0m\n",
      "\u001b[0;31mGetoptError\u001b[0m: option -f not recognized",
      "\nDuring handling of the above exception, another exception occurred:\n",
      "\u001b[0;31mSystemExit\u001b[0m                                Traceback (most recent call last)",
      "    \u001b[0;31m[... skipping hidden 1 frame]\u001b[0m\n",
      "\u001b[0;32m/var/folders/ch/43_ylpr14gj7_x367vf0hm8w0000gn/T/ipykernel_1286/2941418075.py\u001b[0m in \u001b[0;36m<module>\u001b[0;34m\u001b[0m\n\u001b[1;32m    232\u001b[0m         \u001b[0mdebug\u001b[0m\u001b[0;34m(\u001b[0m\u001b[0;34m'error'\u001b[0m\u001b[0;34m,\u001b[0m \u001b[0;34m'read the readme.md first!'\u001b[0m\u001b[0;34m)\u001b[0m\u001b[0;34m\u001b[0m\u001b[0;34m\u001b[0m\u001b[0m\n\u001b[0;32m--> 233\u001b[0;31m         \u001b[0msys\u001b[0m\u001b[0;34m.\u001b[0m\u001b[0mexit\u001b[0m\u001b[0;34m(\u001b[0m\u001b[0;34m)\u001b[0m\u001b[0;34m\u001b[0m\u001b[0;34m\u001b[0m\u001b[0m\n\u001b[0m\u001b[1;32m    234\u001b[0m \u001b[0;34m\u001b[0m\u001b[0m\n",
      "\u001b[0;31mSystemExit\u001b[0m: ",
      "\nDuring handling of the above exception, another exception occurred:\n",
      "\u001b[0;31mTypeError\u001b[0m                                 Traceback (most recent call last)",
      "    \u001b[0;31m[... skipping hidden 1 frame]\u001b[0m\n",
      "\u001b[0;32m/Library/Frameworks/Python.framework/Versions/3.10/lib/python3.10/site-packages/IPython/core/interactiveshell.py\u001b[0m in \u001b[0;36mshowtraceback\u001b[0;34m(self, exc_tuple, filename, tb_offset, exception_only, running_compiled_code)\u001b[0m\n\u001b[1;32m   2068\u001b[0m                     stb = ['An exception has occurred, use %tb to see '\n\u001b[1;32m   2069\u001b[0m                            'the full traceback.\\n']\n\u001b[0;32m-> 2070\u001b[0;31m                     stb.extend(self.InteractiveTB.get_exception_only(etype,\n\u001b[0m\u001b[1;32m   2071\u001b[0m                                                                      value))\n\u001b[1;32m   2072\u001b[0m                 \u001b[0;32melse\u001b[0m\u001b[0;34m:\u001b[0m\u001b[0;34m\u001b[0m\u001b[0;34m\u001b[0m\u001b[0m\n",
      "\u001b[0;32m/Library/Frameworks/Python.framework/Versions/3.10/lib/python3.10/site-packages/IPython/core/ultratb.py\u001b[0m in \u001b[0;36mget_exception_only\u001b[0;34m(self, etype, value)\u001b[0m\n\u001b[1;32m    752\u001b[0m         \u001b[0mvalue\u001b[0m \u001b[0;34m:\u001b[0m \u001b[0mexception\u001b[0m \u001b[0mvalue\u001b[0m\u001b[0;34m\u001b[0m\u001b[0;34m\u001b[0m\u001b[0m\n\u001b[1;32m    753\u001b[0m         \"\"\"\n\u001b[0;32m--> 754\u001b[0;31m         \u001b[0;32mreturn\u001b[0m \u001b[0mListTB\u001b[0m\u001b[0;34m.\u001b[0m\u001b[0mstructured_traceback\u001b[0m\u001b[0;34m(\u001b[0m\u001b[0mself\u001b[0m\u001b[0;34m,\u001b[0m \u001b[0metype\u001b[0m\u001b[0;34m,\u001b[0m \u001b[0mvalue\u001b[0m\u001b[0;34m)\u001b[0m\u001b[0;34m\u001b[0m\u001b[0;34m\u001b[0m\u001b[0m\n\u001b[0m\u001b[1;32m    755\u001b[0m \u001b[0;34m\u001b[0m\u001b[0m\n\u001b[1;32m    756\u001b[0m     \u001b[0;32mdef\u001b[0m \u001b[0mshow_exception_only\u001b[0m\u001b[0;34m(\u001b[0m\u001b[0mself\u001b[0m\u001b[0;34m,\u001b[0m \u001b[0metype\u001b[0m\u001b[0;34m,\u001b[0m \u001b[0mevalue\u001b[0m\u001b[0;34m)\u001b[0m\u001b[0;34m:\u001b[0m\u001b[0;34m\u001b[0m\u001b[0;34m\u001b[0m\u001b[0m\n",
      "\u001b[0;32m/Library/Frameworks/Python.framework/Versions/3.10/lib/python3.10/site-packages/IPython/core/ultratb.py\u001b[0m in \u001b[0;36mstructured_traceback\u001b[0;34m(self, etype, evalue, etb, tb_offset, context)\u001b[0m\n\u001b[1;32m    627\u001b[0m             \u001b[0mchained_exceptions_tb_offset\u001b[0m \u001b[0;34m=\u001b[0m \u001b[0;36m0\u001b[0m\u001b[0;34m\u001b[0m\u001b[0;34m\u001b[0m\u001b[0m\n\u001b[1;32m    628\u001b[0m             out_list = (\n\u001b[0;32m--> 629\u001b[0;31m                 self.structured_traceback(\n\u001b[0m\u001b[1;32m    630\u001b[0m                     \u001b[0metype\u001b[0m\u001b[0;34m,\u001b[0m \u001b[0mevalue\u001b[0m\u001b[0;34m,\u001b[0m \u001b[0;34m(\u001b[0m\u001b[0metb\u001b[0m\u001b[0;34m,\u001b[0m \u001b[0mchained_exc_ids\u001b[0m\u001b[0;34m)\u001b[0m\u001b[0;34m,\u001b[0m\u001b[0;34m\u001b[0m\u001b[0;34m\u001b[0m\u001b[0m\n\u001b[1;32m    631\u001b[0m                     chained_exceptions_tb_offset, context)\n",
      "\u001b[0;32m/Library/Frameworks/Python.framework/Versions/3.10/lib/python3.10/site-packages/IPython/core/ultratb.py\u001b[0m in \u001b[0;36mstructured_traceback\u001b[0;34m(self, etype, value, tb, tb_offset, number_of_lines_of_context)\u001b[0m\n\u001b[1;32m   1365\u001b[0m         \u001b[0;32melse\u001b[0m\u001b[0;34m:\u001b[0m\u001b[0;34m\u001b[0m\u001b[0;34m\u001b[0m\u001b[0m\n\u001b[1;32m   1366\u001b[0m             \u001b[0mself\u001b[0m\u001b[0;34m.\u001b[0m\u001b[0mtb\u001b[0m \u001b[0;34m=\u001b[0m \u001b[0mtb\u001b[0m\u001b[0;34m\u001b[0m\u001b[0;34m\u001b[0m\u001b[0m\n\u001b[0;32m-> 1367\u001b[0;31m         return FormattedTB.structured_traceback(\n\u001b[0m\u001b[1;32m   1368\u001b[0m             self, etype, value, tb, tb_offset, number_of_lines_of_context)\n\u001b[1;32m   1369\u001b[0m \u001b[0;34m\u001b[0m\u001b[0m\n",
      "\u001b[0;32m/Library/Frameworks/Python.framework/Versions/3.10/lib/python3.10/site-packages/IPython/core/ultratb.py\u001b[0m in \u001b[0;36mstructured_traceback\u001b[0;34m(self, etype, value, tb, tb_offset, number_of_lines_of_context)\u001b[0m\n\u001b[1;32m   1265\u001b[0m         \u001b[0;32mif\u001b[0m \u001b[0mmode\u001b[0m \u001b[0;32min\u001b[0m \u001b[0mself\u001b[0m\u001b[0;34m.\u001b[0m\u001b[0mverbose_modes\u001b[0m\u001b[0;34m:\u001b[0m\u001b[0;34m\u001b[0m\u001b[0;34m\u001b[0m\u001b[0m\n\u001b[1;32m   1266\u001b[0m             \u001b[0;31m# Verbose modes need a full traceback\u001b[0m\u001b[0;34m\u001b[0m\u001b[0;34m\u001b[0m\u001b[0m\n\u001b[0;32m-> 1267\u001b[0;31m             return VerboseTB.structured_traceback(\n\u001b[0m\u001b[1;32m   1268\u001b[0m                 \u001b[0mself\u001b[0m\u001b[0;34m,\u001b[0m \u001b[0metype\u001b[0m\u001b[0;34m,\u001b[0m \u001b[0mvalue\u001b[0m\u001b[0;34m,\u001b[0m \u001b[0mtb\u001b[0m\u001b[0;34m,\u001b[0m \u001b[0mtb_offset\u001b[0m\u001b[0;34m,\u001b[0m \u001b[0mnumber_of_lines_of_context\u001b[0m\u001b[0;34m\u001b[0m\u001b[0;34m\u001b[0m\u001b[0m\n\u001b[1;32m   1269\u001b[0m             )\n",
      "\u001b[0;32m/Library/Frameworks/Python.framework/Versions/3.10/lib/python3.10/site-packages/IPython/core/ultratb.py\u001b[0m in \u001b[0;36mstructured_traceback\u001b[0;34m(self, etype, evalue, etb, tb_offset, number_of_lines_of_context)\u001b[0m\n\u001b[1;32m   1122\u001b[0m         \u001b[0;34m\"\"\"Return a nice text document describing the traceback.\"\"\"\u001b[0m\u001b[0;34m\u001b[0m\u001b[0;34m\u001b[0m\u001b[0m\n\u001b[1;32m   1123\u001b[0m \u001b[0;34m\u001b[0m\u001b[0m\n\u001b[0;32m-> 1124\u001b[0;31m         formatted_exception = self.format_exception_as_a_whole(etype, evalue, etb, number_of_lines_of_context,\n\u001b[0m\u001b[1;32m   1125\u001b[0m                                                                tb_offset)\n\u001b[1;32m   1126\u001b[0m \u001b[0;34m\u001b[0m\u001b[0m\n",
      "\u001b[0;32m/Library/Frameworks/Python.framework/Versions/3.10/lib/python3.10/site-packages/IPython/core/ultratb.py\u001b[0m in \u001b[0;36mformat_exception_as_a_whole\u001b[0;34m(self, etype, evalue, etb, number_of_lines_of_context, tb_offset)\u001b[0m\n\u001b[1;32m   1080\u001b[0m \u001b[0;34m\u001b[0m\u001b[0m\n\u001b[1;32m   1081\u001b[0m \u001b[0;34m\u001b[0m\u001b[0m\n\u001b[0;32m-> 1082\u001b[0;31m         \u001b[0mlast_unique\u001b[0m\u001b[0;34m,\u001b[0m \u001b[0mrecursion_repeat\u001b[0m \u001b[0;34m=\u001b[0m \u001b[0mfind_recursion\u001b[0m\u001b[0;34m(\u001b[0m\u001b[0morig_etype\u001b[0m\u001b[0;34m,\u001b[0m \u001b[0mevalue\u001b[0m\u001b[0;34m,\u001b[0m \u001b[0mrecords\u001b[0m\u001b[0;34m)\u001b[0m\u001b[0;34m\u001b[0m\u001b[0;34m\u001b[0m\u001b[0m\n\u001b[0m\u001b[1;32m   1083\u001b[0m \u001b[0;34m\u001b[0m\u001b[0m\n\u001b[1;32m   1084\u001b[0m         \u001b[0mframes\u001b[0m \u001b[0;34m=\u001b[0m \u001b[0mself\u001b[0m\u001b[0;34m.\u001b[0m\u001b[0mformat_records\u001b[0m\u001b[0;34m(\u001b[0m\u001b[0mrecords\u001b[0m\u001b[0;34m,\u001b[0m \u001b[0mlast_unique\u001b[0m\u001b[0;34m,\u001b[0m \u001b[0mrecursion_repeat\u001b[0m\u001b[0;34m)\u001b[0m\u001b[0;34m\u001b[0m\u001b[0;34m\u001b[0m\u001b[0m\n",
      "\u001b[0;32m/Library/Frameworks/Python.framework/Versions/3.10/lib/python3.10/site-packages/IPython/core/ultratb.py\u001b[0m in \u001b[0;36mfind_recursion\u001b[0;34m(etype, value, records)\u001b[0m\n\u001b[1;32m    380\u001b[0m     \u001b[0;31m# first frame (from in to out) that looks different.\u001b[0m\u001b[0;34m\u001b[0m\u001b[0;34m\u001b[0m\u001b[0m\n\u001b[1;32m    381\u001b[0m     \u001b[0;32mif\u001b[0m \u001b[0;32mnot\u001b[0m \u001b[0mis_recursion_error\u001b[0m\u001b[0;34m(\u001b[0m\u001b[0metype\u001b[0m\u001b[0;34m,\u001b[0m \u001b[0mvalue\u001b[0m\u001b[0;34m,\u001b[0m \u001b[0mrecords\u001b[0m\u001b[0;34m)\u001b[0m\u001b[0;34m:\u001b[0m\u001b[0;34m\u001b[0m\u001b[0;34m\u001b[0m\u001b[0m\n\u001b[0;32m--> 382\u001b[0;31m         \u001b[0;32mreturn\u001b[0m \u001b[0mlen\u001b[0m\u001b[0;34m(\u001b[0m\u001b[0mrecords\u001b[0m\u001b[0;34m)\u001b[0m\u001b[0;34m,\u001b[0m \u001b[0;36m0\u001b[0m\u001b[0;34m\u001b[0m\u001b[0;34m\u001b[0m\u001b[0m\n\u001b[0m\u001b[1;32m    383\u001b[0m \u001b[0;34m\u001b[0m\u001b[0m\n\u001b[1;32m    384\u001b[0m     \u001b[0;31m# Select filename, lineno, func_name to track frames with\u001b[0m\u001b[0;34m\u001b[0m\u001b[0;34m\u001b[0m\u001b[0m\n",
      "\u001b[0;31mTypeError\u001b[0m: object of type 'NoneType' has no len()"
     ]
    }
   ],
   "source": [
    "#!/usr/bin/env python\n",
    "# -*- coding: utf-8 -*-\n",
    "\"\"\"\n",
    "    simple-http-proxy ( https://github.com/WengChaoxi/simple-http-proxy )\n",
    "    ~ ~ ~ ~ ~ ~\n",
    "    一个简单的http代理\n",
    "    \n",
    "    :copyright: (c) 2021 by WengChaoxi.\n",
    "    :license: MIT, see LICENSE for more details.\n",
    "\"\"\"\n",
    "from __future__ import print_function\n",
    "\n",
    "import socket\n",
    "import select\n",
    "import time\n",
    "\n",
    "def debug(tag, msg):\n",
    "    print('[%s] %s' % (tag, msg))\n",
    "\n",
    "class HttpRequestPacket(object):\n",
    "    '''\n",
    "    HTTP请求包\n",
    "    '''\n",
    "    def __init__(self, data):\n",
    "        self.__parse(data)\n",
    "\n",
    "    def __parse(self, data):\n",
    "        '''\n",
    "        解析一个HTTP请求数据包\n",
    "        GET http://test.wengcx.top/index.html HTTP/1.1\\r\\nHost: test.wengcx.top\\r\\nProxy-Connection: keep-alive\\r\\nCache-Control: max-age=0\\r\\n\\r\\n\n",
    "        \n",
    "        参数：data 原始数据\n",
    "        '''\n",
    "        i0 = data.find(b'\\r\\n') # 请求行与请求头的分隔位置\n",
    "        i1 = data.find(b'\\r\\n\\r\\n') # 请求头与请求数据的分隔位置\n",
    "    \n",
    "        # 请求行 Request-Line\n",
    "        self.req_line = data[:i0]\n",
    "        self.method, self.req_uri, self.version = self.req_line.split() # 请求行由method、request uri、version组成\n",
    "        \n",
    "        # 请求头域 Request Header Fields\n",
    "        self.req_header = data[i0+2:i1]\n",
    "        self.headers = {}\n",
    "        for header in self.req_header.split(b'\\r\\n'):\n",
    "            k, v = header.split(b': ')\n",
    "            self.headers[k] = v\n",
    "        self.host = self.headers.get(b'Host')\n",
    "        \n",
    "        # 请求数据\n",
    "        self.req_data = data[i1+4:]\n",
    "\n",
    "class SimpleHttpProxy(object):\n",
    "    '''\n",
    "    简单的HTTP代理\n",
    "    客户端(client) <=> 代理端(proxy) <=> 服务端(server)\n",
    "    '''\n",
    "    def __init__(self, host='0.0.0.0', port=8080, listen=10, bufsize=8, delay=1):\n",
    "        '''\n",
    "        初始化代理套接字，用于与客户端、服务端通信\n",
    "        参数：host 监听地址，默认0.0.0.0，代表本机任意ipv4地址\n",
    "        参数：port 监听端口，默认8080\n",
    "        参数：listen 监听客户端数量，默认10\n",
    "        参数：bufsize 数据传输缓冲区大小，单位kb，默认8kb\n",
    "        参数：delay 数据转发延迟，单位ms，默认1ms\n",
    "        '''\n",
    "        self.socket_proxy = socket.socket(socket.AF_INET, socket.SOCK_STREAM)\n",
    "        self.socket_proxy.setsockopt(socket.SOL_SOCKET, socket.SO_REUSEADDR, 1) # 将SO_REUSEADDR标记为True, 当socket关闭后，立刻回收该socket的端口\n",
    "        self.socket_proxy.bind((host, port))\n",
    "        self.socket_proxy.listen(listen)\n",
    "\n",
    "        self.socket_recv_bufsize = bufsize*1024\n",
    "        self.delay = delay/1000.0\n",
    "\n",
    "        debug('info', 'bind=%s:%s' % (host, port))\n",
    "        debug('info', 'listen=%s' % listen)\n",
    "        debug('info', 'bufsize=%skb, delay=%sms' % (bufsize, delay))\n",
    "\n",
    "    def __del__(self):\n",
    "        self.socket_proxy.close()\n",
    "    \n",
    "    def __connect(self, host, port):\n",
    "        '''\n",
    "        解析DNS得到套接字地址并与之建立连接\n",
    "        参数：host 主机\n",
    "        参数：port 端口\n",
    "        返回：与目标主机建立连接的套接字\n",
    "        '''\n",
    "        # 解析DNS获取对应协议簇、socket类型、目标地址\n",
    "        # getaddrinfo -> [(family, sockettype, proto, canonname, target_addr),]\n",
    "        (family, sockettype, _, _, target_addr) = socket.getaddrinfo(host, port)[0]\n",
    "        \n",
    "        tmp_socket = socket.socket(family, sockettype)\n",
    "        tmp_socket.setblocking(0)\n",
    "        tmp_socket.settimeout(5)\n",
    "        tmp_socket.connect(target_addr)\n",
    "        return tmp_socket\n",
    "         \n",
    "    def __proxy(self, socket_client):\n",
    "        '''\n",
    "        代理核心程序\n",
    "        参数：socket_client 代理端与客户端之间建立的套接字\n",
    "        '''\n",
    "        # 接收客户端请求数据\n",
    "        req_data = socket_client.recv(self.socket_recv_bufsize)\n",
    "        if req_data == b'':\n",
    "            return\n",
    "\n",
    "        # 解析http请求数据\n",
    "        http_packet = HttpRequestPacket(req_data)\n",
    "\n",
    "        # 获取服务端host、port\n",
    "        if b':' in http_packet.host:\n",
    "            server_host, server_port = http_packet.host.split(b':')\n",
    "        else:\n",
    "            server_host, server_port = http_packet.host, 80\n",
    "\n",
    "        # 修正http请求数据\n",
    "        tmp = b'%s//%s' % (http_packet.req_uri.split(b'//')[0], http_packet.host)\n",
    "        req_data = req_data.replace(tmp, b'')\n",
    "\n",
    "        # HTTP\n",
    "        if http_packet.method in [b'GET', b'POST', b'PUT', b'DELETE', b'HEAD']:\n",
    "            socket_server = self.__connect(server_host, server_port) # 建立连接\n",
    "            socket_server.send(req_data) # 将客户端请求数据发给服务端\n",
    "\n",
    "        # HTTPS，会先通过CONNECT方法建立TCP连接\n",
    "        elif http_packet.method == b'CONNECT':\n",
    "            socket_server = self.__connect(server_host, server_port) # 建立连接\n",
    "\n",
    "            success_msg = b'%s %d Connection Established\\r\\nConnection: close\\r\\n\\r\\n'\\\n",
    "                %(http_packet.version, 200)\n",
    "            socket_client.send(success_msg) # 完成连接，通知客户端\n",
    "            \n",
    "            # 客户端得知连接建立，会将真实请求数据发送给代理服务端\n",
    "            req_data = socket_client.recv(self.socket_recv_bufsize) # 接收客户端真实数据\n",
    "            socket_server.send(req_data) # 将客户端真实请求数据发给服务端\n",
    "\n",
    "        # 使用select异步处理，不阻塞\n",
    "        self.__nonblocking(socket_client, socket_server)\n",
    "\n",
    "    def __nonblocking(self, socket_client, socket_server):\n",
    "        '''\n",
    "        使用select实现异步处理数据\n",
    "        参数：socket_client 代理端与客户端之间建立的套接字\n",
    "        参数：socket_server 代理端与服务端之间建立的套接字\n",
    "        '''\n",
    "        _rlist = [socket_client, socket_server]\n",
    "        is_recv = True\n",
    "        while is_recv:\n",
    "            try:\n",
    "                # rlist, wlist, elist = select.select(_rlist, _wlist, _elist, [timeout])\n",
    "                # 参数1：当列表_rlist中的文件描述符fd状态为readable时，fd将被添加到rlist中\n",
    "                # 参数2：当列表_wlist中存在文件描述符fd时，fd将被添加到wlist\n",
    "                # 参数3：当列表_xlist中的文件描述符fd发生错误时，fd将被添加到elist\n",
    "                # 参数4：超时时间timeout\n",
    "                #  1) 当timeout==None时，select将一直阻塞，直到监听的文件描述符fd发生变化时返回\n",
    "                #  2) 当timeout==0时，select不会阻塞，无论文件描述符fd是否有变化，都立刻返回\n",
    "                #  3) 当timeout>0时，若文件描述符fd无变化，select将被阻塞timeout秒再返回\n",
    "                rlist, _, elist = select.select(_rlist, [], [], 2)\n",
    "                if elist:\n",
    "                    break\n",
    "                for tmp_socket in rlist:\n",
    "                    is_recv = True\n",
    "                    # 接收数据\n",
    "                    data = tmp_socket.recv(self.socket_recv_bufsize)\n",
    "                    if data == b'':\n",
    "                        is_recv = False\n",
    "                        continue\n",
    "                    \n",
    "                    # socket_client状态为readable, 当前接收的数据来自客户端\n",
    "                    if tmp_socket is socket_client: \n",
    "                        socket_server.send(data) # 将客户端请求数据发往服务端\n",
    "                        # debug('proxy', 'client -> server')\n",
    "\n",
    "                    # socket_server状态为readable, 当前接收的数据来自服务端\n",
    "                    elif tmp_socket is socket_server:\n",
    "                        socket_client.send(data) # 将服务端响应数据发往客户端\n",
    "                        # debug('proxy', 'client <- server')\n",
    "                        \n",
    "                time.sleep(self.delay) # 适当延迟以降低CPU占用\n",
    "            except Exception as e:\n",
    "                break\n",
    "\n",
    "        socket_client.close()\n",
    "        socket_server.close()\n",
    "\n",
    "    def client_socket_accept(self):\n",
    "        '''\n",
    "        获取已经与代理端建立连接的客户端套接字，如无则阻塞，直到可以获取一个建立连接套接字\n",
    "        返回：socket_client 代理端与客户端之间建立的套接字\n",
    "        '''\n",
    "        socket_client, _ = self.socket_proxy.accept()\n",
    "        return socket_client\n",
    "\n",
    "    def handle_client_request(self, socket_client):\n",
    "        try:\n",
    "            self.__proxy(socket_client)\n",
    "        except:\n",
    "            pass\n",
    "\n",
    "    def start(self):\n",
    "        try:\n",
    "            import _thread as thread # py3\n",
    "        except ImportError:\n",
    "            import thread # py2\n",
    "        while True:\n",
    "            try:\n",
    "                # self.handle_client_request(self.client_socket_accept())\n",
    "                thread.start_new_thread(self.handle_client_request, (self.client_socket_accept(), ))\n",
    "            except KeyboardInterrupt:\n",
    "                break\n",
    "\n",
    "if __name__ == '__main__':\n",
    "    # 默认参数\n",
    "    host, port, listen, bufsize, delay = '0.0.0.0', 8080, 10, 8, 1\n",
    "    \n",
    "    import sys, getopt\n",
    "    try:\n",
    "        opts, _ = getopt.getopt(sys.argv[1:], 'h:p:l:b:d:', ['host=', 'port=', 'listen=', 'bufsize=', 'delay='])        \n",
    "        for opt, arg in opts:\n",
    "            if opt in ('-h', '--host'):\n",
    "                host = arg\n",
    "            elif opt in ('-p', '--port'):\n",
    "                port = int(arg)\n",
    "            elif opt in ('-l', '--listen'):\n",
    "                listen = int(arg)\n",
    "            elif opt in ('-b', '--bufsize'):\n",
    "                bufsize = int(arg)\n",
    "            elif opt in ('-d', '--delay'):\n",
    "                delay = float(arg)\n",
    "    except:\n",
    "        debug('error', 'read the readme.md first!')\n",
    "        sys.exit()\n",
    "    \n",
    "    # 启动代理\n",
    "    SimpleHttpProxy(host, port, listen, bufsize, delay).start()"
   ]
  },
  {
   "cell_type": "code",
   "execution_count": 346,
   "id": "e05b71db",
   "metadata": {},
   "outputs": [
    {
     "name": "stdout",
     "output_type": "stream",
     "text": [
      "https://pass.cppu.net/tpass/appLogin?uuid=a0e1cc41-3780-4993-90c8-494e80bef6d6&service=https://one.cppu.net/tp_up/\n",
      "https:\\/\\/pass.cppu.net\\/tpass\\/appLogin?uuid=a0e1cc41-3780-4993-90c8-494e80bef6d6&service=https:\\/\\/one.cppu.net\\/tp_up\\/\n",
      "<class 'str'>\n",
      "{'qrcode': 'https://pass.cppu.net/tpass/appLogin?uuid=a0e1cc41-3780-4993-90c8-494e80bef6d6&service=https://one.cppu.net/tp_up/'}\n"
     ]
    }
   ],
   "source": [
    "a=input()\n",
    "b=\"\"\n",
    "for i in range(len(a)):\n",
    "    k=a[i]\n",
    "    if (a[i]==\"/\"):\n",
    "        k=chr(92)+a[i]\n",
    "        \n",
    "    b=b+k\n",
    "data={}\n",
    "print(b)\n",
    "#b=repr(b)\n",
    "#data[\"a\"]=b\n",
    "\n",
    "#data[\"a\"]=eval(repr(data[\"a\"]).replace('\\\\\\\\', '\\\\')) \n",
    "\n",
    "import json\n",
    "\n",
    "jsonData = '{\"qrcode\":\"'+b+'\"}';\n",
    "print(type(jsonData))\n",
    "text = json.loads(jsonData)\n",
    "print(text)\n",
    "\n",
    "\n",
    "\n"
   ]
  },
  {
   "cell_type": "code",
   "execution_count": 248,
   "id": "a523adf9",
   "metadata": {},
   "outputs": [
    {
     "ename": "SyntaxError",
     "evalue": "':' expected after dictionary key (2963799283.py, line 19)",
     "output_type": "error",
     "traceback": [
      "\u001b[0;36m  File \u001b[0;32m\"/var/folders/ch/43_ylpr14gj7_x367vf0hm8w0000gn/T/ipykernel_1286/2963799283.py\"\u001b[0;36m, line \u001b[0;32m19\u001b[0m\n\u001b[0;31m    data = {\"qrcode\":\"%s\",img}\u001b[0m\n\u001b[0m                            ^\u001b[0m\n\u001b[0;31mSyntaxError\u001b[0m\u001b[0;31m:\u001b[0m ':' expected after dictionary key\n"
     ]
    }
   ],
   "source": [
    "import re\n",
    "b=input()\n",
    "a=b\n",
    "b=re.findall(r'uuid=(.*)//one.cppu.net',b)\n",
    "root_dir = 'https:\\\\'\n",
    "img_dir1 = '\\\\'\n",
    "img_dir2 = 'pass.cppu.net\\\\'\n",
    "img_dir3 = ''\n",
    "img_dir4 = 'tpass\\\\'\n",
    "img_dir5 = 'appLogin?uuid='+b[0]+\"\\\\\"\n",
    "img_dir6 = '\\\\'\n",
    "img_dir7 = 'one.cppu.net\\\\'\n",
    "img_dir8 = ''\n",
    "img_dir9 = 'tp_up\\\\'\n",
    "img_dir10 = ''\n",
    "img = os.path.join(root_dir, img_dir1, img_dir2,img_dir3,img_dir4,img_dir5,img_dir6,img_dir7,img_dir8,img_dir9,img_dir10)\n",
    "print(img)\n",
    "\n",
    "data = {\"qrcode\":\"%s\",img}\n",
    "\n",
    "\n"
   ]
  },
  {
   "cell_type": "code",
   "execution_count": 265,
   "id": "b0881029",
   "metadata": {},
   "outputs": [
    {
     "name": "stdout",
     "output_type": "stream",
     "text": [
      "\\\n"
     ]
    }
   ],
   "source": [
    "print(chr(92))"
   ]
  },
  {
   "cell_type": "code",
   "execution_count": 345,
   "id": "06843e64",
   "metadata": {},
   "outputs": [
    {
     "name": "stdout",
     "output_type": "stream",
     "text": [
      "Status code: 200\n",
      "{\"msg\":\"无法识别的二维码\",\"result\":1035}\n",
      "{'qrcode': 'https://pass.cppu.net/tpass/appLogin?uuid=6cc73b7f-ab0b-44ce-af96-56c7d53662bd&service=https://one.cppu.net/tp_up/'}\n"
     ]
    }
   ],
   "source": [
    "import requests\n",
    "import json\n",
    "url = \"https://app.cppu.net:8303/cas/client\"\n",
    "# 设置消息头\n",
    "headers = {\n",
    "    \"Appnest_sessionid\": \"0f9e8597-230c-49cd-9f36-c36a6b8f9158\",\n",
    "    \"Accept\": \"*/*\",\n",
    "    \"Appnest_language\": \"0\",\n",
    "    \"Appnest_version\": \"1.0\",\n",
    "    \"Content-Type\":\"application/json\",\n",
    "    \"Accept-Language\": \"zh-Hans-CN;q=1, en-CN;q=0.9, ko-CN;q=0.8\",\n",
    "    \"Accept-Encoding\": \"gzip, deflate\",\n",
    "    \"Content-Length\": \"177\",\n",
    "    \"User-Agent\": \"AppNest-iOS\",\n",
    "    \"Appnest_method\": \"appnest.client.basic.qrcodeconfirm\",\n",
    "    \"Connection\": \"close\"\n",
    "    }\n",
    "# 设置消息体\n",
    "data = {\"qrcode\":\"https://pass.cppu.net/tpass/appLogin?uuid=6cc73b7f-ab0b-44ce-af96-56c7d53662bd&service=https://one.cppu.net/tp_up/\"}\n",
    "# 获取相应\n",
    "response=requests.post(url,headers=headers,data=json.dumps(data))\n",
    "print(\"Status code:\",response.status_code)\n",
    "print(response.text)\n",
    "# 解析相应\n",
    "info=response.json()\n",
    "\n",
    "print(data)\n",
    "\n"
   ]
  },
  {
   "cell_type": "code",
   "execution_count": 318,
   "id": "d7397235",
   "metadata": {},
   "outputs": [
    {
     "name": "stdout",
     "output_type": "stream",
     "text": [
      "{\"s\": \"https://test\\\\/test\"}\n"
     ]
    }
   ],
   "source": [
    "#b=u\"https://pass.cppu.net/tpass/appLogin?uuid=57fe1328-1df3-44be-a2eb-9a067a5ed87b&service=https://one.cppu.net/tp_up/\"\n",
    "b=\"https://pass.cppu.net\"+\"\\\\\"+\"tpa\"\n",
    "\n",
    "#b = eval(repr(b).replace('/', chr(92)+\"/\")) \n",
    "#print(b)\n",
    "\n",
    "#data = {\"qrcode\":eval(repr(b).replace('/', chr(92)+\"/\"))}\n",
    "data={\"s\": \"https://test\\/test\"}\n",
    "print(json.dumps(data))\n",
    "#我想要的结果是{\"s\": \"https://test\\/test\"}"
   ]
  },
  {
   "cell_type": "code",
   "execution_count": 236,
   "id": "75fcc2b5",
   "metadata": {},
   "outputs": [
    {
     "name": "stdout",
     "output_type": "stream",
     "text": [
      "['7e8e5831-ef48-400d-80ca-92428806127d&service=https:']\n"
     ]
    }
   ],
   "source": [
    "\n",
    "\n",
    "b=re.findall(r'uuid=(.*)//one.cppu.net',b)\n",
    "print(b)"
   ]
  },
  {
   "cell_type": "code",
   "execution_count": 319,
   "id": "5ddc40c6",
   "metadata": {},
   "outputs": [
    {
     "ename": "SyntaxError",
     "evalue": "invalid character '）' (U+FF09) (2049928736.py, line 1)",
     "output_type": "error",
     "traceback": [
      "\u001b[0;36m  File \u001b[0;32m\"/var/folders/ch/43_ylpr14gj7_x367vf0hm8w0000gn/T/ipykernel_1286/2049928736.py\"\u001b[0;36m, line \u001b[0;32m1\u001b[0m\n\u001b[0;31m    json.dumps(obj, skipkeys=False）\u001b[0m\n\u001b[0m                                  ^\u001b[0m\n\u001b[0;31mSyntaxError\u001b[0m\u001b[0;31m:\u001b[0m invalid character '）' (U+FF09)\n"
     ]
    }
   ],
   "source": [
    "json.dumps(obj, skipkeys=False）"
   ]
  },
  {
   "cell_type": "code",
   "execution_count": null,
   "id": "708cf905",
   "metadata": {},
   "outputs": [],
   "source": [
    "https:\\/\\/pass.cppu.net\\/tpass\\/appLogin?uuid=d3f87aa2-2aac-4dd2-a6f6-3aa57476ff86&service=https:\\/\\/one.cppu.net\\/tp_up\\/\"}"
   ]
  },
  {
   "cell_type": "code",
   "execution_count": 343,
   "id": "9c278e5d",
   "metadata": {},
   "outputs": [
    {
     "name": "stdout",
     "output_type": "stream",
     "text": [
      "{\"qrcode\": \"https://pass.cppu.net/tpass/appLogin?uuid=6cc73b7f-ab0b-44ce-af96-56c7d53662bd&service=https://one.cppu.net/tp_up/\"}\n"
     ]
    }
   ],
   "source": [
    "data = {\"qrcode\":\"https://pass.cppu.net/tpass/appLogin?uuid=6cc73b7f-ab0b-44ce-af96-56c7d53662bd&service=https://one.cppu.net/tp_up/\"}\n",
    "data=json.dumps(data)\n",
    "\n",
    "print(data)"
   ]
  },
  {
   "cell_type": "code",
   "execution_count": null,
   "id": "c7db90d9",
   "metadata": {},
   "outputs": [],
   "source": [
    "import json\n",
    "\n",
    "jsonData = '{\"a\":1,\"b\":2,\"c\":3,\"d\":4,\"e\":5}';\n",
    "\n",
    "text = json.loads(jsonData)\n",
    "print(text)"
   ]
  },
  {
   "cell_type": "code",
   "execution_count": 347,
   "id": "e642fb59",
   "metadata": {},
   "outputs": [
    {
     "ename": "SyntaxError",
     "evalue": "invalid decimal literal (366050686.py, line 7)",
     "output_type": "error",
     "traceback": [
      "\u001b[0;36m  File \u001b[0;32m\"/var/folders/ch/43_ylpr14gj7_x367vf0hm8w0000gn/T/ipykernel_1286/366050686.py\"\u001b[0;36m, line \u001b[0;32m7\u001b[0m\n\u001b[0;31m    Appnest_sessionid: 0f9e8597-230c-49cd-9f36-c36a6b8f9158\u001b[0m\n\u001b[0m                       ^\u001b[0m\n\u001b[0;31mSyntaxError\u001b[0m\u001b[0;31m:\u001b[0m invalid decimal literal\n"
     ]
    }
   ],
   "source": [
    "POST /cas/client HTTP/1.1\n",
    "Host: app.cppu.net:8303\n",
    "Content-Type: application/json\n",
    "Accept: */*\n",
    "Appnest_language: 0\n",
    "Appnest_version: 1.0\n",
    "Appnest_sessionid: 0f9e8597-230c-49cd-9f36-c36a6b8f9158\n",
    "Accept-Language: zh-Hans-CN;q=1, en-CN;q=0.9, ko-CN;q=0.8\n",
    "Accept-Encoding: gzip, deflate\n",
    "Content-Length: 177\n",
    "User-Agent: AppNest-iOS\n",
    "Appnest_method: appnest.client.basic.qrcodeconfirm\n",
    "Connection: close\n",
    "\n",
    "{\"param\":\"https://pass.cppu.net/tpass/appLogin?uuid=a0e1cc41-3780-4993-90c8-494e80bef6d6&service=https://one.cppu.net/tp_up/&token=appnest_0f9e8597-230c-49cd-9f36-c36a6b8f9158\"}"
   ]
  },
  {
   "cell_type": "code",
   "execution_count": 8,
   "id": "c0999bc4",
   "metadata": {},
   "outputs": [
    {
     "name": "stdout",
     "output_type": "stream",
     "text": [
      "https://pass.cppu.net/tpass/appLogin?uuid=889d2ad2-6db8-4176-aaee-ca93d28d5d3c&service=https://one.cppu.net/tp_up/\n",
      "{\"msg\":\"成功！\",\"result\":0}\n"
     ]
    }
   ],
   "source": [
    "import requests\n",
    "import time\n",
    "ahs=input()\n",
    "\n",
    "session = requests.session()\n",
    "\n",
    "burp0_url = \"https://app.cppu.net:8303/cas/client\"\n",
    "burp0_headers = {\"Content-Type\": \"application/json\", \"Accept\": \"*/*\", \"Appnest_language\": \"0\", \"Appnest_version\": \"1.0\", \"Appnest_sessionid\": \"d0a7d3ce-d6aa-41c5-9f53-0f10cdaee71c\", \"Accept-Language\": \"zh-Hans-CN;q=1, en-CN;q=0.9, ko-CN;q=0.8\", \"Accept-Encoding\": \"gzip, deflate\", \"User-Agent\": \"AppNest-iOS\", \"Appnest_method\": \"appnest.client.basic.qrcoderequest\", \"Connection\": \"close\"}\n",
    "burp0_json={\"qrcode\": ahs}\n",
    "\n",
    "aab=session.post(burp0_url, headers=burp0_headers, json=burp0_json).text\n",
    "\n",
    "aabb=re.findall(r'param\\\":\\\"(.*)\\\",\\\"result\\\":0,\\\"type\\\":\\\"0',aab)\n",
    "\n",
    "time.sleep(4)\n",
    "session = requests.session()\n",
    "\n",
    "burp0_url = \"https://app.cppu.net:8303/cas/client\"\n",
    "burp0_headers = {\"Content-Type\": \"application/json\", \"Accept\": \"*/*\", \"Appnest_language\": \"0\", \"Appnest_version\": \"1.0\", \"Appnest_sessionid\": \"d0a7d3ce-d6aa-41c5-9f53-0f10cdaee71c\", \"Accept-Language\": \"zh-Hans-CN;q=1, en-CN;q=0.9, ko-CN;q=0.8\", \"Accept-Encoding\": \"gzip, deflate\", \"User-Agent\": \"AppNest-iOS\", \"Appnest_method\": \"appnest.client.basic.qrcodeconfirm\", \"Connection\": \"close\"}\n",
    "burp0_json={\"param\": aabb[0]}\n",
    "\n",
    "print(session.post(burp0_url, headers=burp0_headers, json=burp0_json).text)"
   ]
  },
  {
   "cell_type": "code",
   "execution_count": 7,
   "id": "789e77d4",
   "metadata": {},
   "outputs": [
    {
     "name": "stdout",
     "output_type": "stream",
     "text": [
      "登录失败\n"
     ]
    }
   ],
   "source": [
    "#模拟登录app\n",
    "import requests\n",
    "import time\n",
    "import re\n",
    "session = requests.session()\n",
    "\n",
    "burp0_url = \"https://app.cppu.net:8303/cas/client\"\n",
    "burp0_headers = {\"Appnest_Version\": \"1.1\", \"Content-Type\": \"application/json\", \"Accept\": \"*/*\", \"Connection\": \"close\", \"Appnest_Method\": \"appnest.client.basic.login\", \"Accept-Language\": \"zh-Hans-CN;q=1, en-CN;q=0.9, ko-CN;q=0.8\", \"User-Agent\": \"AppNest-iOS\", \"Accept-Encoding\": \"gzip, deflate\", \"Appnest_Language\": \"0\"}\n",
    "burp0_json={\"clientid\": \"com.cppu.zhydpt\", \"clientversion\": \"5.6.9\", \"ecid\": \"jcdx\", \"handset_id\": \"e645ab9486e248e4a9af5513f8d7dba2\", \"hsetmodel\": \"iPhone11,2\", \"hsetname\": \"Apple\", \"imsi\": \"e645ab9486e248e4a9af5513f8d7dba2\", \"ispad\": \"0\", \"loginid\": \"2019160053\", \"logintype\": 0, \"network\": \"wifi\", \"ostype\": \"ios\", \"osversion\": \"14.3\", \"password\": \"9f98ca109cbc417e0bd1aed356c84a59\", \"serverip\": \"app.cppu.net\", \"serverport\": \"8303\", \"wifimac\": \"02:00:00:00:00:00\"}\n",
    "dengluapp=session.post(burp0_url, headers=burp0_headers, json=burp0_json).text\n",
    "\n",
    "try:\n",
    "    print(re.findall(r'\\\"username\\\":\\\"(.*)\\\",\\\"us',dengluapp)[0]+\",登录成功\")\n",
    "except:\n",
    "    print(\"登录失败\")\n",
    "\n"
   ]
  },
  {
   "cell_type": "code",
   "execution_count": 17,
   "id": "69ba47bb",
   "metadata": {},
   "outputs": [],
   "source": [
    "url1=\"https://one.cppu.net\"\n",
    "params=\"\"\n",
    "response1 = session.get(url1,params=params,headers=burp0_headers)"
   ]
  },
  {
   "cell_type": "code",
   "execution_count": 4,
   "id": "cc5ac2ea",
   "metadata": {},
   "outputs": [
    {
     "name": "stdout",
     "output_type": "stream",
     "text": [
      "https://pass.cppu.net/tpass/appLogin?uuid=07fbfd84-124a-47aa…95-efeaeb6e4f9c&service=https://one.cppu.net/tp_up/view?m=up\n",
      "{\"msg\":\"成功！\",\"result\":0}\n"
     ]
    }
   ],
   "source": [
    "#模拟扫码登录\n",
    "import requests\n",
    "import time\n",
    "ahs=input()\n",
    "\n",
    "session = requests.session()\n",
    "\n",
    "burp0_url = \"https://app.cppu.net:8303/cas/client\"\n",
    "burp0_headers = {\"Content-Type\": \"application/json\", \"Accept\": \"*/*\", \"Appnest_language\": \"0\", \"Appnest_version\": \"1.0\", \"Appnest_sessionid\": re.findall(r'\\\"sessionid\\\":\\\"(.*)\\\"\\,\\\"token\\\":',dengluapp)[0], \"Accept-Language\": \"zh-Hans-CN;q=1, en-CN;q=0.9, ko-CN;q=0.8\", \"Accept-Encoding\": \"gzip, deflate\", \"User-Agent\": \"AppNest-iOS\", \"Appnest_method\": \"appnest.client.basic.qrcoderequest\", \"Connection\": \"close\"}\n",
    "burp0_json={\"qrcode\": ahs}\n",
    "\n",
    "aab=session.post(burp0_url, headers=burp0_headers, json=burp0_json).text\n",
    "\n",
    "aabb=re.findall(r'param\\\":\\\"(.*)\\\",\\\"result\\\":0,\\\"type\\\":\\\"0',aab)\n",
    "\n",
    "time.sleep(4)\n",
    "session = requests.session()\n",
    "\n",
    "burp0_url = \"https://app.cppu.net:8303/cas/client\"\n",
    "burp0_headers = {\"Content-Type\": \"application/json\", \"Accept\": \"*/*\", \"Appnest_language\": \"0\", \"Appnest_version\": \"1.0\", \"Appnest_sessionid\": re.findall(r'\\\"sessionid\\\":\\\"(.*)\\\"\\,\\\"token\\\":',dengluapp)[0], \"Accept-Language\": \"zh-Hans-CN;q=1, en-CN;q=0.9, ko-CN;q=0.8\", \"Accept-Encoding\": \"gzip, deflate\", \"User-Agent\": \"AppNest-iOS\", \"Appnest_method\": \"appnest.client.basic.qrcodeconfirm\", \"Connection\": \"close\"}\n",
    "burp0_json={\"param\": aabb[0]}\n",
    "\n",
    "print(session.post(burp0_url, headers=burp0_headers, json=burp0_json).text)"
   ]
  },
  {
   "cell_type": "code",
   "execution_count": 14,
   "id": "83e6a4c2",
   "metadata": {},
   "outputs": [],
   "source": [
    "a={\"abilitylist\":{\"avmeetingability\":0,\"calendarability\":0,\"contactability\":1,\"imability\":1,\"mailability\":0,\"mamability\":1,\"mcmability\":1,\"mdmability\":0,\"momentsability\":0,\"noticeability\":1,\"remotedesktopability\":0,\"scheduleability\":1,\"subscribeability\":0},\"bindphonenumber\":\"\",\"bindstatus\":0,\"bindtype\":1,\"defaultpage\":\"firstPage\",\"firstLogin\":\"false\",\"isallowmodifypwd\":1,\"latestclientversion\":\"\",\"locationstatus\":0,\"logoinfos\":[],\"msg\":\"成功！\",\"orgUuid\":\"a69514d7-c8f1-4842-9db0-3ae0259de803\",\"pageparams\":[{\"alias\":\"firstPage\",\"enginetype\":0,\"hiddenbackbutton\":0,\"hiddenclosebutton\":0,\"hiddenstatusbutton\":0,\"hiddentitlebutton\":0,\"htmlname\":\"\",\"jssdkflag\":0,\"name\":\"首页\",\"param\":\"\",\"scheme\":\"\",\"title\":\"首页\",\"type\":\"firstPage\"},{\"alias\":\"message\",\"enginetype\":0,\"hiddenbackbutton\":0,\"hiddenclosebutton\":0,\"hiddenstatusbutton\":0,\"hiddentitlebutton\":0,\"htmlname\":\"\",\"jssdkflag\":0,\"name\":\"消息\",\"param\":\"\",\"scheme\":\"\",\"title\":\"消息\",\"type\":\"message\"},{\"alias\":\"worktable\",\"enginetype\":0,\"hiddenbackbutton\":0,\"hiddenclosebutton\":0,\"hiddenstatusbutton\":0,\"hiddentitlebutton\":0,\"htmlname\":\"\",\"jssdkflag\":0,\"name\":\"校园工作台\",\"param\":\"\",\"scheme\":\"\",\"title\":\"校园工作台\",\"type\":\"worktable\"},{\"alias\":\"contact\",\"enginetype\":0,\"hiddenbackbutton\":0,\"hiddenclosebutton\":0,\"hiddenstatusbutton\":0,\"hiddentitlebutton\":0,\"htmlname\":\"\",\"jssdkflag\":0,\"name\":\"校园通讯录\",\"param\":\"\",\"scheme\":\"\",\"title\":\"校园通讯录\",\"type\":\"contact\"},{\"alias\":\"more\",\"enginetype\":0,\"hiddenbackbutton\":0,\"hiddenclosebutton\":0,\"hiddenstatusbutton\":0,\"hiddentitlebutton\":0,\"htmlname\":\"\",\"jssdkflag\":0,\"name\":\"我的\",\"param\":\"\",\"scheme\":\"\",\"title\":\"我的\",\"type\":\"more\"}],\"policies\":{\"adminmode\":1,\"adminsession\":60,\"adminsessionflag\":1,\"allowchangeheadportrait\":1,\"allowsecretchat\":1,\"appcleaninvalidday\":15,\"cdnhost\":\"\",\"channelcleaninvalidday\":30,\"clientautologinvalidtime\":72,\"clientqrcodeflag\":1,\"collectionflag\":1,\"groupchatvote\":1,\"groupflag\":1,\"grouptaskflag\":1,\"hidecircleapp\":1,\"hideclouddiskapp\":1,\"hideconcatapp\":1,\"hideemailapp\":1,\"hidescheduleapp\":1,\"hideserverconfig\":1,\"hidewatermark\":0,\"imgrouplimit\":250,\"imlocalmsgsavetime\":-1,\"imsendfilesize\":512,\"isallowmodifypwd\":1,\"isopencdn\":0,\"mdmconfigurl\":\"\",\"mdmstatus\":0,\"meetingclientid\":\"0\",\"meetingclientsecretkey\":\"0\",\"meetingmax\":30,\"meetingmaxusers\":30,\"meetingmaxvideos\":6,\"meetingorgcode\":\"0\",\"modifypwdnow\":0,\"momentsanonymous\":0,\"msgrevocationtime\":5,\"netdiskfilemaxlimit\":512,\"noticeattachsize\":10,\"noticecleaninvalidday\":30,\"pconlineflag\":1,\"personalflag\":0,\"photovideoflag\":1,\"positionleveldiff\":1,\"readedflag\":1,\"remotedesktopopenid\":\"\",\"remotedesktopopenkey\":\"\",\"secretchatdestructiontime\":30,\"secretchatflag\":1,\"sensitivewords\":\"3e0d73f2-30f7-441d-a198-a191fdbb5442\",\"vcardflag\":1,\"verificationinterval\":-1,\"verificationtype\":0,\"watermarkcontent\":\"username@loginid@appname\",\"watermarkscope\":[]},\"releasenotes\":\"\",\"result\":0,\"serveraddress\":{\"avurl\":\"\",\"imurl\":\"app.cppu.net:8305\",\"mailurl\":\"app.cppu.net:8311\",\"pnstcpurl\":\"app.cppu.net:8302\",\"pnsurl\":\"app.cppu.net:8301\"},\"sessionid\":\"e189df09-e431-4679-af9a-0e2df28c80fa\",\"token\":\"appnest_e189df09-e431-4679-af9a-0e2df28c80fa\",\"tokentimeout\":259200,\"updateflag\":\"0\",\"updateurl\":\"\",\"userinfo\":{\"email\":\"\",\"imaccount\":\"254559\",\"loginid\":\"2019160053\",\"nickname\":\"杨群\",\"onwerdepartments\":[{\"departmentid\":\"2b9333b5-42be-0271-4df8-abc56b674022\",\"departmentname\":\"智慧警务四队_s\",\"departmenttype\":0}],\"orgname\":\"中国人民警察大学\",\"photoid\":\"\",\"positionlevel\":0,\"signature\":\"\",\"skey\":\"02040a537ee446d82a7d948b5d9a1add\",\"username\":\"魏志豪\",\"useruuid\":\"71142c62-ef7d-4fe6-b3d9-ca7f5f8fcdc5\"}}"
   ]
  },
  {
   "cell_type": "code",
   "execution_count": 61,
   "id": "14d7471e",
   "metadata": {},
   "outputs": [
    {
     "name": "stdout",
     "output_type": "stream",
     "text": [
      "<class 'str'>\n"
     ]
    }
   ],
   "source": [
    "http://lfwjxy.fysso.chaoxing.com/sso/lfwjxy"
   ]
  },
  {
   "cell_type": "code",
   "execution_count": 67,
   "id": "f8c80c81",
   "metadata": {},
   "outputs": [
    {
     "data": {
      "text/plain": [
       "['71142c62-ef7d-4fe6-b3d9-ca7f5f8fcdc5']"
      ]
     },
     "execution_count": 67,
     "metadata": {},
     "output_type": "execute_result"
    }
   ],
   "source": [
    "import re\n",
    "re.findall(r'\\\"useruuid\\\":\\\"(.*)\\\"}}',dengluapp)"
   ]
  },
  {
   "cell_type": "code",
   "execution_count": 38,
   "id": "a0c2acad",
   "metadata": {},
   "outputs": [
    {
     "data": {
      "text/plain": [
       "dict_keys(['abilitylist', 'bindphonenumber', 'bindstatus', 'bindtype', 'defaultpage', 'firstLogin', 'isallowmodifypwd', 'latestclientversion', 'locationstatus', 'logoinfos', 'msg', 'orgUuid', 'pageparams', 'policies', 'releasenotes', 'result', 'serveraddress', 'sessionid', 'token', 'tokentimeout', 'updateflag', 'updateurl', 'userinfo'])"
      ]
     },
     "execution_count": 38,
     "metadata": {},
     "output_type": "execute_result"
    }
   ],
   "source": [
    "a.keys()\n"
   ]
  },
  {
   "cell_type": "code",
   "execution_count": 41,
   "id": "fcd7692c",
   "metadata": {},
   "outputs": [
    {
     "data": {
      "text/plain": [
       "'魏志豪'"
      ]
     },
     "execution_count": 41,
     "metadata": {},
     "output_type": "execute_result"
    }
   ],
   "source": [
    "a[\"userinfo\"][\"username\"]"
   ]
  },
  {
   "cell_type": "code",
   "execution_count": 43,
   "id": "89d5cd96",
   "metadata": {},
   "outputs": [
    {
     "data": {
      "text/plain": [
       "'2019160053'"
      ]
     },
     "execution_count": 43,
     "metadata": {},
     "output_type": "execute_result"
    }
   ],
   "source": [
    "a[\"userinfo\"]['loginid']"
   ]
  },
  {
   "cell_type": "code",
   "execution_count": 46,
   "id": "e6f72056",
   "metadata": {},
   "outputs": [
    {
     "data": {
      "text/plain": [
       "'e189df09-e431-4679-af9a-0e2df28c80fa'"
      ]
     },
     "execution_count": 46,
     "metadata": {},
     "output_type": "execute_result"
    }
   ],
   "source": [
    "a[\"sessionid\"]"
   ]
  },
  {
   "cell_type": "code",
   "execution_count": 93,
   "id": "d8f6207c",
   "metadata": {},
   "outputs": [
    {
     "data": {
      "text/plain": [
       "['c8aed86e-76cd-4bce-903e-0e6272cae24e']"
      ]
     },
     "execution_count": 93,
     "metadata": {},
     "output_type": "execute_result"
    }
   ],
   "source": [
    "re.findall(r'\\\"sessionid\\\":\\\"(.*)\\\"\\,\\\"token\\\":',dengluapp)"
   ]
  },
  {
   "cell_type": "code",
   "execution_count": 79,
   "id": "795fd0a6",
   "metadata": {},
   "outputs": [
    {
     "data": {
      "text/plain": [
       "'71142c62-ef7d-4fe6-b3d9-ca7f5f8fcdc5'"
      ]
     },
     "execution_count": 79,
     "metadata": {},
     "output_type": "execute_result"
    }
   ],
   "source": [
    "re.findall(r'\\\"useruuid\\\":\\\"(.*)\\\"}}',dengluapp)[0]"
   ]
  },
  {
   "cell_type": "code",
   "execution_count": 34,
   "id": "a5859450",
   "metadata": {},
   "outputs": [
    {
     "ename": "SyntaxError",
     "evalue": "invalid syntax (2664094856.py, line 1)",
     "output_type": "error",
     "traceback": [
      "\u001b[0;36m  File \u001b[0;32m\"/var/folders/ch/43_ylpr14gj7_x367vf0hm8w0000gn/T/ipykernel_739/2664094856.py\"\u001b[0;36m, line \u001b[0;32m1\u001b[0m\n\u001b[0;31m    var qrcodehtml =  document.getElementById(\"qrcode_template\").innerHTML;\u001b[0m\n\u001b[0m        ^\u001b[0m\n\u001b[0;31mSyntaxError\u001b[0m\u001b[0;31m:\u001b[0m invalid syntax\n"
     ]
    }
   ],
   "source": [
    "var qrcodehtml =  document.getElementById(\"qrcode\").innerHTML;"
   ]
  }
 ],
 "metadata": {
  "kernelspec": {
   "display_name": "Python 3 (ipykernel)",
   "language": "python",
   "name": "python3"
  },
  "language_info": {
   "codemirror_mode": {
    "name": "ipython",
    "version": 3
   },
   "file_extension": ".py",
   "mimetype": "text/x-python",
   "name": "python",
   "nbconvert_exporter": "python",
   "pygments_lexer": "ipython3",
   "version": "3.9.2"
  }
 },
 "nbformat": 4,
 "nbformat_minor": 5
}
