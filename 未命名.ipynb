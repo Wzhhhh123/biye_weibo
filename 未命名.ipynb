{
 "cells": [
  {
   "cell_type": "code",
   "execution_count": 1,
   "id": "e576e24c",
   "metadata": {},
   "outputs": [
    {
     "name": "stderr",
     "output_type": "stream",
     "text": [
      "/Library/Frameworks/Python.framework/Versions/3.8/lib/python3.8/site-packages/umap/distances.py:1063: NumbaDeprecationWarning: The 'nopython' keyword argument was not supplied to the 'numba.jit' decorator. The implicit default value for this argument is currently False, but it will be changed to True in Numba 0.59.0. See https://numba.readthedocs.io/en/stable/reference/deprecation.html#deprecation-of-object-mode-fall-back-behaviour-when-using-jit for details.\n",
      "  @numba.jit()\n",
      "/Library/Frameworks/Python.framework/Versions/3.8/lib/python3.8/site-packages/umap/distances.py:1071: NumbaDeprecationWarning: The 'nopython' keyword argument was not supplied to the 'numba.jit' decorator. The implicit default value for this argument is currently False, but it will be changed to True in Numba 0.59.0. See https://numba.readthedocs.io/en/stable/reference/deprecation.html#deprecation-of-object-mode-fall-back-behaviour-when-using-jit for details.\n",
      "  @numba.jit()\n",
      "/Library/Frameworks/Python.framework/Versions/3.8/lib/python3.8/site-packages/umap/distances.py:1086: NumbaDeprecationWarning: The 'nopython' keyword argument was not supplied to the 'numba.jit' decorator. The implicit default value for this argument is currently False, but it will be changed to True in Numba 0.59.0. See https://numba.readthedocs.io/en/stable/reference/deprecation.html#deprecation-of-object-mode-fall-back-behaviour-when-using-jit for details.\n",
      "  @numba.jit()\n",
      "/Library/Frameworks/Python.framework/Versions/3.8/lib/python3.8/site-packages/umap/umap_.py:660: NumbaDeprecationWarning: The 'nopython' keyword argument was not supplied to the 'numba.jit' decorator. The implicit default value for this argument is currently False, but it will be changed to True in Numba 0.59.0. See https://numba.readthedocs.io/en/stable/reference/deprecation.html#deprecation-of-object-mode-fall-back-behaviour-when-using-jit for details.\n",
      "  @numba.jit()\n"
     ]
    },
    {
     "ename": "ModuleNotFoundError",
     "evalue": "No module named 'bertopic.visualization'",
     "output_type": "error",
     "traceback": [
      "\u001b[0;31m---------------------------------------------------------------------------\u001b[0m",
      "\u001b[0;31mModuleNotFoundError\u001b[0m                       Traceback (most recent call last)",
      "Cell \u001b[0;32mIn[1], line 2\u001b[0m\n\u001b[1;32m      1\u001b[0m \u001b[38;5;28;01mfrom\u001b[39;00m \u001b[38;5;21;01mbertopic\u001b[39;00m \u001b[38;5;28;01mimport\u001b[39;00m BERTopic\n\u001b[0;32m----> 2\u001b[0m \u001b[38;5;28;01mfrom\u001b[39;00m \u001b[38;5;21;01mbertopic\u001b[39;00m\u001b[38;5;21;01m.\u001b[39;00m\u001b[38;5;21;01mvisualization\u001b[39;00m \u001b[38;5;28;01mimport\u001b[39;00m visualize_topics\n",
      "\u001b[0;31mModuleNotFoundError\u001b[0m: No module named 'bertopic.visualization'"
     ]
    }
   ],
   "source": [
    "from bertopic import BERTopic\n",
    "from bertopic.visualization import visualize_topics\n"
   ]
  },
  {
   "cell_type": "code",
   "execution_count": 13,
   "id": "082897df",
   "metadata": {},
   "outputs": [
    {
     "data": {
      "text/plain": [
       "0     #赵灵儿李逍遥的十年之约#\\n微博King 胡歌 和微博Queen刘亦菲！ #胡歌代表了文化...\n",
       "1     #赵灵儿李逍遥的十年之约# 讲真！@胡歌 这段高质量获奖感言，是👖一早还想复诵的程度！因为灵...\n",
       "2     #赵灵儿李逍遥的十年之约##胡歌微博King# #刘亦菲微博queen#\\n说句得罪人的话：...\n",
       "3     网友说微博之夜最抓马的一幕：\\n\\n1.大合照时杨幂上台后让刘诗诗baby往前走站在刘亦菲旁...\n",
       "4     投稿\\n胡歌，刘亦菲\\n微博King和微博Queen\\n\\n#胡歌微博King# ，#赵灵儿...\n",
       "5              #赵灵儿李逍遥的十年之约# 仙剑十年之约，江湖阔别十余载，归来仍是少年时。恭喜🎉\n",
       "6     十八年后，仙剑奇侠传一正式大结局。\\n#赵灵儿李逍遥的十年之约#\\n#刘亦菲微博Queen#...\n",
       "7     🇰🇷网友评昨晚的微博之夜👇\\n\\n怎么能让虞书欣、王鹤棣、白鹿坐一起呢？\\n王一博、迪丽热巴...\n",
       "8     胡歌、刘亦菲同台领奖现场视频，仙剑今晚很圆满\\n\\n“赵灵儿当年的愿望是希望全天下所有的人都...\n",
       "9     吃瓜投稿：如何评价刘亦菲?\\n\\n我玩仙剑一的时候哭过两次，第一次就是赵灵儿死的时候，当时我...\n",
       "10    #赵灵儿李逍遥的十年之约# #胡歌微博King# 泪奔！！胡歌谈《仙剑奇侠传》，谈刘亦菲的十...\n",
       "11    #赵灵儿李逍遥的十年之约#\\n真好啊真好啊真好啊\\n我哭死\\n顺便记录一下 联谊结束之后比想...\n",
       "12    #赵灵儿李逍遥的十年之约# 微博King 胡歌 和微博Queen刘亦菲，李逍遥和赵灵儿，十年...\n",
       "13       不愧是老胡的发言，真的哭亖😭\\n十年之约！圆满了！！\\n#赵灵儿李逍遥的十年之约#胡歌刘亦菲\n",
       "14    仙剑早就没有十年之约了\\n因为赵灵儿死在了她十七岁的那年\\n我无心顾及李逍遥的结局\\n孤独终...\n",
       "15    #赵灵儿李逍遥的十年之约#恭喜微博king 胡歌 微博Queen刘亦菲 ，梦回仙剑胡歌还说了...\n",
       "16    刘亦菲lyf#刘亦菲微博Queen#\\n\\n你就是我生命中唯一的光！\\n有你，在任何黑暗的地...\n",
       "17    人生之中的误会都是需要机缘去解开的。\\n情感能互通的时刻也是还有缘分的时刻。\\n人与人的无缘...\n",
       "18    刘亦菲#赵灵儿李逍遥的十年之约# #刘亦菲孔雀公主#\\n连光都是温柔的～看到你便觉得看到了世...\n",
       "19    刘亦菲#赵灵儿李逍遥的十年之约##刘亦菲孔雀公主#\\n\\n怎么这么美怎么这么美怎么这么美怎么...\n",
       "20                        愿所有人都会幸福下去[2023]#赵灵儿李逍遥的十年之约#\n",
       "21                                  #赵灵儿李逍遥的十年之约#我错过了什么\n",
       "22                        #赵灵儿李逍遥的十年之约#梦回仙剑，终于同框了#微博之夜#\n",
       "23    #赵灵儿李逍遥的十年之约##胡歌微博King# #刘亦菲微博queen#\\n说句得罪人的话：...\n",
       "24    刘亦菲#刘亦菲孔雀公主# #赵灵儿李逍遥的十年之约#\\n我的公主～连背影都这么美好～好爱好爱...\n",
       "25    仙剑一YYDS\\n这是每周大家在电视机前等待的第一古偶啊\\n这可是当初网络红利都没吃到的第一...\n",
       "26    刘亦菲lyf#刘亦菲微博Queen# lyf#赵灵儿李逍遥的十年之约#\\n\\n刘亦菲@刘亦菲...\n",
       "27    十八年后，仙剑奇侠传一正式大结局。\\n#赵灵儿李逍遥的十年之约#\\n#刘亦菲微博Queen#...\n",
       "28                      胡歌的左颈和刘亦菲的右颈，连痣都对称#赵灵儿李逍遥的十年之约#\n",
       "29    刘亦菲#赵灵儿李逍遥的十年之约##刘亦菲微博Queen#时隔二十年再度同框不经意间泪目......\n",
       "30    刘亦菲#刘亦菲微博Queen#lyf#赵灵儿李逍遥的十年之约#\\n这个我知道！repo里面写...\n",
       "31                                  #赵灵儿李逍遥的十年之约#\\n打卡留念\n",
       "32    #早安,南充人# 用热忱的心去拥抱生活，用真挚的爱迎接新一天。早安，加油！ 早安 #赵灵儿李...\n",
       "33    我们今日一别，让我们十年后再相见，我们一定会达成心中的理想的，不见不散。#赵灵儿李逍遥的十年...\n",
       "34    🇰🇷网友评昨晚的微博之夜👇\\n\\n怎么能让虞书欣、王鹤棣、白鹿坐一起呢？\\n王一博、迪丽热巴...\n",
       "35                     我的青春啊#仙剑一仙剑三剧粉都圆满了##赵灵儿李逍遥的十年之约#\n",
       "36                            #赵灵儿李逍遥的十年之约#感觉自己长大了，又没长大\n",
       "37    #赵灵儿李逍遥的十年之约#\\n【胡歌刘亦菲在微博之夜完成赵灵儿李逍遥十年之约】\\n虽然胡歌刘...\n",
       "38        #赵灵儿李逍遥的十年之约#\\n这俩人，连脖子上的痣都是对称的！！\\n\\n尼 玛，我 磕 死\n",
       "39    \"从今以后你出师生辰满师，成亲生子满宴，发财开张，寿终正寝，全部与我赵灵儿无关。\"\\n\\n后...\n",
       "40        #赵灵儿李逍遥的十年之约#\\n这俩人，连脖子上的痣都是对称的！！\\n\\n尼 玛，我 磕 死\n",
       "41    \"从今以后你出师生辰满师，成亲生子满宴，发财开张，寿终正寝，全部与我赵灵儿无关。\"\\n\\n后...\n",
       "42                        #赵灵儿李逍遥的十年之约#逍遥和灵儿，青春啊，一直磕的他俩\n",
       "43    歌菲#赵灵儿李逍遥的十年之约# 彻底be了！被刀的不行！深深感到不舍，遗憾但是也算是赴了仙一...\n",
       "44    #刘亦菲微博Queen# lyf#赵灵儿李逍遥的十年之约#\\n\\n一时兴起来发个刘亦菲的肌肉...\n",
       "45    #赵灵儿李逍遥的十年之约#赵灵儿（刘亦菲）和李逍遥（胡歌）同框了，当天赵灵儿为救苍生，牺牲自...\n",
       "46    #赵灵儿李逍遥的十年之约#\\n果然时间会冲淡一切情感，\\n比如我，已经磕不动了\\n但会纪念那...\n",
       "47    #赵灵儿李逍遥的十年之约# 仙剑一真的我心中古偶be美学第一名🥇\\n看n遍都无限上头\\n灵儿...\n",
       "48                             #赵灵儿李逍遥的十年之约#去重温一下我的唐钰小宝\n",
       "49    🦚 刘亦菲 / 微博之夜\\n\\n漂亮仙仙台下镜头纯享直拍\\n每个小表情都好可爱~\\n\\n#刘...\n",
       "50    #赵灵儿李逍遥的十年之约#\\n是不是只有先嫁娶，此生才能相见啊！\\n歌菲给我的感觉就和遥灵一...\n",
       "51                          #赵灵儿李逍遥的十年之约# 仗剑走天涯 我的仙侠梦🗡️\n",
       "52    #刘亦菲微博Queen#丨#刘亦菲#\\n\\n居然才看到这个，怎么不是呢哈哈哈哈哈哈哈哈哈哈哈...\n",
       "53                       #赵灵儿李逍遥的十年之约# 还是有交流滴 童话心事的微博视频\n",
       "54                 #赵灵儿李逍遥的十年之约#\\n给你的爱一直很安静，我从一开始就下定决心。\n",
       "55                                   #赵灵儿李逍遥的十年之约#\\n挺好的\n",
       "56                            是灵儿和逍遥哥哥\\n\\n#赵灵儿李逍遥的十年之约#\n",
       "57    #赵灵儿李逍遥的十年之约#\\n所以我们歌菲党就真的be了😭😭\\n虽然就在老大官宣那一刻就已经be了\n",
       "58    刘亦菲#刘亦菲微博Queen# #赵灵儿李逍遥的十年之约#\\n\\n他们都说 有爱真好 而我不...\n",
       "59    #刘亦菲微博Queen#\\n\\n是闪闪发光的实力派演员刘亦菲，看公主漫不经心的美出高级感@刘...\n",
       "Name: text, dtype: object"
      ]
     },
     "execution_count": 13,
     "metadata": {},
     "output_type": "execute_result"
    }
   ],
   "source": [
    "docs.text"
   ]
  },
  {
   "cell_type": "code",
   "execution_count": 19,
   "id": "8674e492",
   "metadata": {},
   "outputs": [
    {
     "data": {
      "text/plain": [
       "0     #赵灵儿李逍遥的十年之约#\\n微博King 胡歌 和微博Queen刘亦菲！ #胡歌代表了文化...\n",
       "1     #赵灵儿李逍遥的十年之约# 讲真！@胡歌 这段高质量获奖感言，是👖一早还想复诵的程度！因为灵...\n",
       "2     #赵灵儿李逍遥的十年之约##胡歌微博King# #刘亦菲微博queen#\\n说句得罪人的话：...\n",
       "3     网友说微博之夜最抓马的一幕：\\n\\n1.大合照时杨幂上台后让刘诗诗baby往前走站在刘亦菲旁...\n",
       "4     投稿\\n胡歌，刘亦菲\\n微博King和微博Queen\\n\\n#胡歌微博King# ，#赵灵儿...\n",
       "5              #赵灵儿李逍遥的十年之约# 仙剑十年之约，江湖阔别十余载，归来仍是少年时。恭喜🎉\n",
       "6     十八年后，仙剑奇侠传一正式大结局。\\n#赵灵儿李逍遥的十年之约#\\n#刘亦菲微博Queen#...\n",
       "7     🇰🇷网友评昨晚的微博之夜👇\\n\\n怎么能让虞书欣、王鹤棣、白鹿坐一起呢？\\n王一博、迪丽热巴...\n",
       "8     胡歌、刘亦菲同台领奖现场视频，仙剑今晚很圆满\\n\\n“赵灵儿当年的愿望是希望全天下所有的人都...\n",
       "9     吃瓜投稿：如何评价刘亦菲?\\n\\n我玩仙剑一的时候哭过两次，第一次就是赵灵儿死的时候，当时我...\n",
       "10    #赵灵儿李逍遥的十年之约# #胡歌微博King# 泪奔！！胡歌谈《仙剑奇侠传》，谈刘亦菲的十...\n",
       "11    #赵灵儿李逍遥的十年之约#\\n真好啊真好啊真好啊\\n我哭死\\n顺便记录一下 联谊结束之后比想...\n",
       "12    #赵灵儿李逍遥的十年之约# 微博King 胡歌 和微博Queen刘亦菲，李逍遥和赵灵儿，十年...\n",
       "13       不愧是老胡的发言，真的哭亖😭\\n十年之约！圆满了！！\\n#赵灵儿李逍遥的十年之约#胡歌刘亦菲\n",
       "14    仙剑早就没有十年之约了\\n因为赵灵儿死在了她十七岁的那年\\n我无心顾及李逍遥的结局\\n孤独终...\n",
       "15    #赵灵儿李逍遥的十年之约#恭喜微博king 胡歌 微博Queen刘亦菲 ，梦回仙剑胡歌还说了...\n",
       "16    刘亦菲lyf#刘亦菲微博Queen#\\n\\n你就是我生命中唯一的光！\\n有你，在任何黑暗的地...\n",
       "17    人生之中的误会都是需要机缘去解开的。\\n情感能互通的时刻也是还有缘分的时刻。\\n人与人的无缘...\n",
       "18    刘亦菲#赵灵儿李逍遥的十年之约# #刘亦菲孔雀公主#\\n连光都是温柔的～看到你便觉得看到了世...\n",
       "19    刘亦菲#赵灵儿李逍遥的十年之约##刘亦菲孔雀公主#\\n\\n怎么这么美怎么这么美怎么这么美怎么...\n",
       "20                        愿所有人都会幸福下去[2023]#赵灵儿李逍遥的十年之约#\n",
       "21                                  #赵灵儿李逍遥的十年之约#我错过了什么\n",
       "22                        #赵灵儿李逍遥的十年之约#梦回仙剑，终于同框了#微博之夜#\n",
       "23    #赵灵儿李逍遥的十年之约##胡歌微博King# #刘亦菲微博queen#\\n说句得罪人的话：...\n",
       "24    刘亦菲#刘亦菲孔雀公主# #赵灵儿李逍遥的十年之约#\\n我的公主～连背影都这么美好～好爱好爱...\n",
       "25    仙剑一YYDS\\n这是每周大家在电视机前等待的第一古偶啊\\n这可是当初网络红利都没吃到的第一...\n",
       "26    刘亦菲lyf#刘亦菲微博Queen# lyf#赵灵儿李逍遥的十年之约#\\n\\n刘亦菲@刘亦菲...\n",
       "27    十八年后，仙剑奇侠传一正式大结局。\\n#赵灵儿李逍遥的十年之约#\\n#刘亦菲微博Queen#...\n",
       "28                      胡歌的左颈和刘亦菲的右颈，连痣都对称#赵灵儿李逍遥的十年之约#\n",
       "29    刘亦菲#赵灵儿李逍遥的十年之约##刘亦菲微博Queen#时隔二十年再度同框不经意间泪目......\n",
       "30    刘亦菲#刘亦菲微博Queen#lyf#赵灵儿李逍遥的十年之约#\\n这个我知道！repo里面写...\n",
       "31                                  #赵灵儿李逍遥的十年之约#\\n打卡留念\n",
       "32    #早安,南充人# 用热忱的心去拥抱生活，用真挚的爱迎接新一天。早安，加油！ 早安 #赵灵儿李...\n",
       "33    我们今日一别，让我们十年后再相见，我们一定会达成心中的理想的，不见不散。#赵灵儿李逍遥的十年...\n",
       "34    🇰🇷网友评昨晚的微博之夜👇\\n\\n怎么能让虞书欣、王鹤棣、白鹿坐一起呢？\\n王一博、迪丽热巴...\n",
       "35                     我的青春啊#仙剑一仙剑三剧粉都圆满了##赵灵儿李逍遥的十年之约#\n",
       "36                            #赵灵儿李逍遥的十年之约#感觉自己长大了，又没长大\n",
       "37    #赵灵儿李逍遥的十年之约#\\n【胡歌刘亦菲在微博之夜完成赵灵儿李逍遥十年之约】\\n虽然胡歌刘...\n",
       "38        #赵灵儿李逍遥的十年之约#\\n这俩人，连脖子上的痣都是对称的！！\\n\\n尼 玛，我 磕 死\n",
       "39    \"从今以后你出师生辰满师，成亲生子满宴，发财开张，寿终正寝，全部与我赵灵儿无关。\"\\n\\n后...\n",
       "40        #赵灵儿李逍遥的十年之约#\\n这俩人，连脖子上的痣都是对称的！！\\n\\n尼 玛，我 磕 死\n",
       "41    \"从今以后你出师生辰满师，成亲生子满宴，发财开张，寿终正寝，全部与我赵灵儿无关。\"\\n\\n后...\n",
       "42                        #赵灵儿李逍遥的十年之约#逍遥和灵儿，青春啊，一直磕的他俩\n",
       "43    歌菲#赵灵儿李逍遥的十年之约# 彻底be了！被刀的不行！深深感到不舍，遗憾但是也算是赴了仙一...\n",
       "44    #刘亦菲微博Queen# lyf#赵灵儿李逍遥的十年之约#\\n\\n一时兴起来发个刘亦菲的肌肉...\n",
       "45    #赵灵儿李逍遥的十年之约#赵灵儿（刘亦菲）和李逍遥（胡歌）同框了，当天赵灵儿为救苍生，牺牲自...\n",
       "46    #赵灵儿李逍遥的十年之约#\\n果然时间会冲淡一切情感，\\n比如我，已经磕不动了\\n但会纪念那...\n",
       "47    #赵灵儿李逍遥的十年之约# 仙剑一真的我心中古偶be美学第一名🥇\\n看n遍都无限上头\\n灵儿...\n",
       "48                             #赵灵儿李逍遥的十年之约#去重温一下我的唐钰小宝\n",
       "49    🦚 刘亦菲 / 微博之夜\\n\\n漂亮仙仙台下镜头纯享直拍\\n每个小表情都好可爱~\\n\\n#刘...\n",
       "50    #赵灵儿李逍遥的十年之约#\\n是不是只有先嫁娶，此生才能相见啊！\\n歌菲给我的感觉就和遥灵一...\n",
       "51                          #赵灵儿李逍遥的十年之约# 仗剑走天涯 我的仙侠梦🗡️\n",
       "52    #刘亦菲微博Queen#丨#刘亦菲#\\n\\n居然才看到这个，怎么不是呢哈哈哈哈哈哈哈哈哈哈哈...\n",
       "53                       #赵灵儿李逍遥的十年之约# 还是有交流滴 童话心事的微博视频\n",
       "54                 #赵灵儿李逍遥的十年之约#\\n给你的爱一直很安静，我从一开始就下定决心。\n",
       "55                                   #赵灵儿李逍遥的十年之约#\\n挺好的\n",
       "56                            是灵儿和逍遥哥哥\\n\\n#赵灵儿李逍遥的十年之约#\n",
       "57    #赵灵儿李逍遥的十年之约#\\n所以我们歌菲党就真的be了😭😭\\n虽然就在老大官宣那一刻就已经be了\n",
       "58    刘亦菲#刘亦菲微博Queen# #赵灵儿李逍遥的十年之约#\\n\\n他们都说 有爱真好 而我不...\n",
       "59    #刘亦菲微博Queen#\\n\\n是闪闪发光的实力派演员刘亦菲，看公主漫不经心的美出高级感@刘...\n",
       "Name: text, dtype: object"
      ]
     },
     "execution_count": 19,
     "metadata": {},
     "output_type": "execute_result"
    }
   ],
   "source": [
    "docs.text"
   ]
  },
  {
   "cell_type": "code",
   "execution_count": 15,
   "id": "90624b1d",
   "metadata": {},
   "outputs": [
    {
     "name": "stderr",
     "output_type": "stream",
     "text": [
      "Some weights of the model checkpoint at hfl/chinese-bert-wwm-ext were not used when initializing BertModel: ['cls.seq_relationship.bias', 'cls.predictions.transform.LayerNorm.weight', 'cls.seq_relationship.weight', 'cls.predictions.transform.dense.weight', 'cls.predictions.bias', 'cls.predictions.decoder.weight', 'cls.predictions.transform.LayerNorm.bias', 'cls.predictions.transform.dense.bias']\n",
      "- This IS expected if you are initializing BertModel from the checkpoint of a model trained on another task or with another architecture (e.g. initializing a BertForSequenceClassification model from a BertForPreTraining model).\n",
      "- This IS NOT expected if you are initializing BertModel from the checkpoint of a model that you expect to be exactly identical (initializing a BertForSequenceClassification model from a BertForSequenceClassification model).\n"
     ]
    }
   ],
   "source": [
    "from bertopic import BERTopic\n",
    "\n",
    "import pandas as pd\n",
    "from transformers import BertTokenizer, BertModel\n",
    "\n",
    "docs = pd.read_csv(\"多平台回应刑满释放人员变励志网红.csv\")\n",
    "tokenizer = BertTokenizer.from_pretrained(\"hfl/chinese-bert-wwm-ext\")\n",
    "model = BertModel.from_pretrained(\"hfl/chinese-bert-wwm-ext\")\n",
    "\n",
    "\n",
    "topic_model = BERTopic(language=\"chinese\", embedding_model=model)\n",
    "\n",
    "# 创建模型\n",
    "topics, _ = topic_model.fit_transform(docs.text)\n"
   ]
  },
  {
   "cell_type": "code",
   "execution_count": 2,
   "id": "bc88ff87",
   "metadata": {},
   "outputs": [
    {
     "ename": "NameError",
     "evalue": "name 'BertTokenizer' is not defined",
     "output_type": "error",
     "traceback": [
      "\u001b[0;31m---------------------------------------------------------------------------\u001b[0m",
      "\u001b[0;31mNameError\u001b[0m                                 Traceback (most recent call last)",
      "Cell \u001b[0;32mIn[2], line 7\u001b[0m\n\u001b[1;32m      5\u001b[0m model_path \u001b[38;5;241m=\u001b[39m \u001b[38;5;124m\"\u001b[39m\u001b[38;5;124mpublish/bert_model.ckpt.data-00000-of-00001\u001b[39m\u001b[38;5;124m\"\u001b[39m\n\u001b[1;32m      6\u001b[0m topic_model \u001b[38;5;241m=\u001b[39m BERTopic(language\u001b[38;5;241m=\u001b[39m\u001b[38;5;124m\"\u001b[39m\u001b[38;5;124mchinese\u001b[39m\u001b[38;5;124m\"\u001b[39m, embedding_model\u001b[38;5;241m=\u001b[39mmodel_path)\n\u001b[0;32m----> 7\u001b[0m tokenizer \u001b[38;5;241m=\u001b[39m \u001b[43mBertTokenizer\u001b[49m\u001b[38;5;241m.\u001b[39mfrom_pretrained(model_path)\n\u001b[1;32m      8\u001b[0m model \u001b[38;5;241m=\u001b[39m BertModel\u001b[38;5;241m.\u001b[39mfrom_pretrained(model_path)\n\u001b[1;32m      9\u001b[0m \u001b[38;5;66;03m# 创建模型\u001b[39;00m\n",
      "\u001b[0;31mNameError\u001b[0m: name 'BertTokenizer' is not defined"
     ]
    }
   ],
   "source": [
    "from bertopic import BERTopic\n",
    "\n",
    "from transformers import AutoTokenizer, AutoModel\n",
    "# 加载预训练的BERT模型\n",
    "model_path = \"publish/bert_model.ckpt.data-00000-of-00001\"\n",
    "topic_model = BERTopic(language=\"chinese\", embedding_model=model_path)\n",
    "tokenizer = BertTokenizer.from_pretrained(model_path)\n",
    "model = BertModel.from_pretrained(model_path)\n",
    "# 创建模型\n",
    "topics, _ = topic_model.fit_transform(docs.text)\n"
   ]
  },
  {
   "cell_type": "code",
   "execution_count": 17,
   "id": "be9ba5f6",
   "metadata": {},
   "outputs": [],
   "source": [
    "from bertopic import BERTopic\n",
    "import pandas as pd\n",
    "\n",
    "\n",
    "docs = pd.read_csv(\"赵灵儿李逍遥的十年之约.csv\")\n",
    "topic_model = BERTopic()\n",
    "topics, probs = topic_model.fit_transform(docs.text)"
   ]
  },
  {
   "cell_type": "code",
   "execution_count": 16,
   "id": "c242dd03",
   "metadata": {},
   "outputs": [
    {
     "data": {
      "text/html": [
       "<div>\n",
       "<style scoped>\n",
       "    .dataframe tbody tr th:only-of-type {\n",
       "        vertical-align: middle;\n",
       "    }\n",
       "\n",
       "    .dataframe tbody tr th {\n",
       "        vertical-align: top;\n",
       "    }\n",
       "\n",
       "    .dataframe thead th {\n",
       "        text-align: right;\n",
       "    }\n",
       "</style>\n",
       "<table border=\"1\" class=\"dataframe\">\n",
       "  <thead>\n",
       "    <tr style=\"text-align: right;\">\n",
       "      <th></th>\n",
       "      <th>Topic</th>\n",
       "      <th>Count</th>\n",
       "      <th>Name</th>\n",
       "    </tr>\n",
       "  </thead>\n",
       "  <tbody>\n",
       "    <tr>\n",
       "      <th>0</th>\n",
       "      <td>-1</td>\n",
       "      <td>5</td>\n",
       "      <td>-1_第一_无论其犯的是什么罪_都可以一刀切_毕竟</td>\n",
       "    </tr>\n",
       "    <tr>\n",
       "      <th>1</th>\n",
       "      <td>0</td>\n",
       "      <td>29</td>\n",
       "      <td>0_网红的门槛越来越低了_来聊聊_你怎么看待此类账号_网页链接</td>\n",
       "    </tr>\n",
       "    <tr>\n",
       "      <th>2</th>\n",
       "      <td>1</td>\n",
       "      <td>27</td>\n",
       "      <td>1_浪子回头励志网红_这样的_新赛道_首先</td>\n",
       "    </tr>\n",
       "    <tr>\n",
       "      <th>3</th>\n",
       "      <td>2</td>\n",
       "      <td>25</td>\n",
       "      <td>2_辱骂援鄂医疗人员_闫忠文_现在摇身一变_成网红了</td>\n",
       "    </tr>\n",
       "    <tr>\n",
       "      <th>4</th>\n",
       "      <td>3</td>\n",
       "      <td>24</td>\n",
       "      <td>3_红星新闻_素材来源_综合网络_网页链接</td>\n",
       "    </tr>\n",
       "    <tr>\n",
       "      <th>5</th>\n",
       "      <td>4</td>\n",
       "      <td>22</td>\n",
       "      <td>4_挣钱我就继续潇洒去_洗完澡之后直接就是按摩找妹唱歌_轮岗之后起来叠被_以后再拿这事整没有用了</td>\n",
       "    </tr>\n",
       "    <tr>\n",
       "      <th>6</th>\n",
       "      <td>5</td>\n",
       "      <td>21</td>\n",
       "      <td>5_ks岩少的微博视频_ks岩少_曾经都蹲过监狱_现在都很励志</td>\n",
       "    </tr>\n",
       "    <tr>\n",
       "      <th>7</th>\n",
       "      <td>6</td>\n",
       "      <td>21</td>\n",
       "      <td>6_媒体评刑满释放人员成励志网红_以服刑为亮点博流量令人不敢苟同_北京青年报_用短视频或者直...</td>\n",
       "    </tr>\n",
       "    <tr>\n",
       "      <th>8</th>\n",
       "      <td>7</td>\n",
       "      <td>21</td>\n",
       "      <td>7_木森观察_明确哪些行业哪些职位必须持有无犯罪记录_抖音用户也必须需要持有无犯罪记录吧_希...</td>\n",
       "    </tr>\n",
       "    <tr>\n",
       "      <th>9</th>\n",
       "      <td>8</td>\n",
       "      <td>21</td>\n",
       "      <td>8_没什么毛病_放下屠刀_好像压根就没有部门在管_立地成佛</td>\n",
       "    </tr>\n",
       "    <tr>\n",
       "      <th>10</th>\n",
       "      <td>9</td>\n",
       "      <td>21</td>\n",
       "      <td>9_有些可能是真改过自新吧_但是好奇图里这种为什么会火_刑释人员可不可以当网红_多平台回应刑...</td>\n",
       "    </tr>\n",
       "    <tr>\n",
       "      <th>11</th>\n",
       "      <td>10</td>\n",
       "      <td>21</td>\n",
       "      <td>10_但有一个共同点就是流量都不小_随便一搜出来了好多啊_大肆宣传其犯罪行为及服刑经历_但是...</td>\n",
       "    </tr>\n",
       "    <tr>\n",
       "      <th>12</th>\n",
       "      <td>11</td>\n",
       "      <td>21</td>\n",
       "      <td>11_大家都去犯罪吧_坏事变好事_多平台回应刑满释放人员变励志网红_</td>\n",
       "    </tr>\n",
       "    <tr>\n",
       "      <th>13</th>\n",
       "      <td>12</td>\n",
       "      <td>21</td>\n",
       "      <td>12_一问自己长大做什么_那会有多少孩子去犯罪_你奋斗四年_但是也带来众多问题</td>\n",
       "    </tr>\n",
       "    <tr>\n",
       "      <th>14</th>\n",
       "      <td>13</td>\n",
       "      <td>20</td>\n",
       "      <td>13_污点不是卖点_包容绝非纵容_万物都敢_绝不意味着可以把过去犯下的错误当作流量密码</td>\n",
       "    </tr>\n",
       "    <tr>\n",
       "      <th>15</th>\n",
       "      <td>14</td>\n",
       "      <td>18</td>\n",
       "      <td>14_对此_多家平台回应_澎湃新闻的微博视频_其中部分行为引发讨论</td>\n",
       "    </tr>\n",
       "    <tr>\n",
       "      <th>16</th>\n",
       "      <td>15</td>\n",
       "      <td>17</td>\n",
       "      <td>15_还是有的人就是病态_正义小黄鸭的微博视频_是社会变化快_出狱就能购买法拉利</td>\n",
       "    </tr>\n",
       "    <tr>\n",
       "      <th>17</th>\n",
       "      <td>16</td>\n",
       "      <td>17</td>\n",
       "      <td>16_把这种经历当成了一种资本来炫耀_很多直播的_就可以不设底线_实际在变相炫耀</td>\n",
       "    </tr>\n",
       "    <tr>\n",
       "      <th>18</th>\n",
       "      <td>17</td>\n",
       "      <td>16</td>\n",
       "      <td>17_涉及金额较大_户外第一人_快手自称_希望有关部门监督</td>\n",
       "    </tr>\n",
       "    <tr>\n",
       "      <th>19</th>\n",
       "      <td>18</td>\n",
       "      <td>15</td>\n",
       "      <td>18_大家怎么看_刑满释放人员成为网红到底励了谁的志_不说歧视与否_多平台回应刑满释放人员变...</td>\n",
       "    </tr>\n",
       "  </tbody>\n",
       "</table>\n",
       "</div>"
      ],
      "text/plain": [
       "    Topic  Count                                               Name\n",
       "0      -1      5                          -1_第一_无论其犯的是什么罪_都可以一刀切_毕竟\n",
       "1       0     29                    0_网红的门槛越来越低了_来聊聊_你怎么看待此类账号_网页链接\n",
       "2       1     27                              1_浪子回头励志网红_这样的_新赛道_首先\n",
       "3       2     25                         2_辱骂援鄂医疗人员_闫忠文_现在摇身一变_成网红了\n",
       "4       3     24                              3_红星新闻_素材来源_综合网络_网页链接\n",
       "5       4     22   4_挣钱我就继续潇洒去_洗完澡之后直接就是按摩找妹唱歌_轮岗之后起来叠被_以后再拿这事整没有用了\n",
       "6       5     21                    5_ks岩少的微博视频_ks岩少_曾经都蹲过监狱_现在都很励志\n",
       "7       6     21  6_媒体评刑满释放人员成励志网红_以服刑为亮点博流量令人不敢苟同_北京青年报_用短视频或者直...\n",
       "8       7     21  7_木森观察_明确哪些行业哪些职位必须持有无犯罪记录_抖音用户也必须需要持有无犯罪记录吧_希...\n",
       "9       8     21                      8_没什么毛病_放下屠刀_好像压根就没有部门在管_立地成佛\n",
       "10      9     21  9_有些可能是真改过自新吧_但是好奇图里这种为什么会火_刑释人员可不可以当网红_多平台回应刑...\n",
       "11     10     21  10_但有一个共同点就是流量都不小_随便一搜出来了好多啊_大肆宣传其犯罪行为及服刑经历_但是...\n",
       "12     11     21                 11_大家都去犯罪吧_坏事变好事_多平台回应刑满释放人员变励志网红_\n",
       "13     12     21            12_一问自己长大做什么_那会有多少孩子去犯罪_你奋斗四年_但是也带来众多问题\n",
       "14     13     20        13_污点不是卖点_包容绝非纵容_万物都敢_绝不意味着可以把过去犯下的错误当作流量密码\n",
       "15     14     18                  14_对此_多家平台回应_澎湃新闻的微博视频_其中部分行为引发讨论\n",
       "16     15     17           15_还是有的人就是病态_正义小黄鸭的微博视频_是社会变化快_出狱就能购买法拉利\n",
       "17     16     17           16_把这种经历当成了一种资本来炫耀_很多直播的_就可以不设底线_实际在变相炫耀\n",
       "18     17     16                      17_涉及金额较大_户外第一人_快手自称_希望有关部门监督\n",
       "19     18     15  18_大家怎么看_刑满释放人员成为网红到底励了谁的志_不说歧视与否_多平台回应刑满释放人员变..."
      ]
     },
     "execution_count": 16,
     "metadata": {},
     "output_type": "execute_result"
    }
   ],
   "source": [
    "topic_model.get_topic_info()"
   ]
  },
  {
   "cell_type": "code",
   "execution_count": 17,
   "id": "8ae7e05a",
   "metadata": {},
   "outputs": [
    {
     "data": {
      "text/plain": [
       "[('浪子回头励志网红', 0.036980848328799304),\n",
       " ('这样的', 0.031382090595629124),\n",
       " ('新赛道', 0.02585706013092949),\n",
       " ('首先', 0.02299134776853805),\n",
       " ('刑满释放就能引发关注', 0.02299134776853805),\n",
       " ('肯定有问题', 0.02299134776853805),\n",
       " ('主动曝光', 0.02299134776853805),\n",
       " ('事实上', 0.02299134776853805),\n",
       " ('也不宜一棒子全都打死', 0.02299134776853805),\n",
       " ('但作为从业属于互联网营销师下面的', 0.02299134776853805)]"
      ]
     },
     "execution_count": 17,
     "metadata": {},
     "output_type": "execute_result"
    }
   ],
   "source": [
    "topic_model.get_topic(1)"
   ]
  },
  {
   "cell_type": "code",
   "execution_count": 18,
   "id": "c5351dfe",
   "metadata": {},
   "outputs": [
    {
     "data": {
      "application/vnd.plotly.v1+json": {
       "config": {
        "plotlyServerURL": "https://plot.ly"
       },
       "data": [
        {
         "marker": {
          "color": "#D55E00"
         },
         "orientation": "h",
         "type": "bar",
         "x": [
          0.2954190976761173,
          0.2976781492534077,
          0.4271037780959285,
          0.4271037780959285,
          0.6811378366493144
         ],
         "xaxis": "x",
         "y": [
          "多平台回应刑满释放人员变励志网红  ",
          "网页链接  ",
          "你怎么看待此类账号  ",
          "来聊聊  ",
          "网红的门槛越来越低了  "
         ],
         "yaxis": "y"
        },
        {
         "marker": {
          "color": "#0072B2"
         },
         "orientation": "h",
         "type": "bar",
         "x": [
          0.02299134776853805,
          0.02299134776853805,
          0.02585706013092949,
          0.031382090595629124,
          0.036980848328799304
         ],
         "xaxis": "x2",
         "y": [
          "刑满释放就能引发关注  ",
          "首先  ",
          "新赛道  ",
          "这样的  ",
          "浪子回头励志网红  "
         ],
         "yaxis": "y2"
        },
        {
         "marker": {
          "color": "#CC79A7"
         },
         "orientation": "h",
         "type": "bar",
         "x": [
          0.3398661067887259,
          0.3398661067887259,
          0.3398661067887259,
          0.3398661067887259,
          0.3398661067887259
         ],
         "xaxis": "x3",
         "y": [
          "微博不就有吗  ",
          "成网红了  ",
          "现在摇身一变  ",
          "闫忠文  ",
          "辱骂援鄂医疗人员  "
         ],
         "yaxis": "y3"
        },
        {
         "marker": {
          "color": "#E69F00"
         },
         "orientation": "h",
         "type": "bar",
         "x": [
          0.11647428969348278,
          0.11985696397977096,
          0.1326967269533671,
          0.1326967269533671,
          0.1326967269533671
         ],
         "xaxis": "x4",
         "y": [
          "在快手  ",
          "网页链接  ",
          "综合网络  ",
          "素材来源  ",
          "红星新闻  "
         ],
         "yaxis": "y4"
        },
        {
         "marker": {
          "color": "#56B4E9"
         },
         "orientation": "h",
         "type": "bar",
         "x": [
          0.08788094581872069,
          0.08788094581872069,
          0.08788094581872069,
          0.08788094581872069,
          0.08788094581872069
         ],
         "xaxis": "x5",
         "y": [
          "这都小事儿  ",
          "以后再拿这事整没有用了  ",
          "轮岗之后起来叠被  ",
          "洗完澡之后直接就是按摩找妹唱歌  ",
          "挣钱我就继续潇洒去  "
         ],
         "yaxis": "y5"
        },
        {
         "marker": {
          "color": "#009E73"
         },
         "orientation": "h",
         "type": "bar",
         "x": [
          0.39094470829167666,
          0.39094470829167666,
          0.39094470829167666,
          0.39651045792018025,
          0.39651045792018025
         ],
         "xaxis": "x6",
         "y": [
          "哪个也没快手的刑满释放的网红多  ",
          "现在都很励志  ",
          "曾经都蹲过监狱  ",
          "ks岩少  ",
          "ks岩少的微博视频  "
         ],
         "yaxis": "y6"
        },
        {
         "marker": {
          "color": "#F0E442"
         },
         "orientation": "h",
         "type": "bar",
         "x": [
          0.07199994198855057,
          0.07199994198855057,
          0.09063096181032691,
          0.09063096181032691,
          0.09063096181032691
         ],
         "xaxis": "x7",
         "y": [
          "的新赛道  ",
          "用短视频或者直播进行分享和创作  ",
          "北京青年报  ",
          "以服刑为亮点博流量令人不敢苟同  ",
          "媒体评刑满释放人员成励志网红  "
         ],
         "yaxis": "y7"
        },
        {
         "marker": {
          "color": "#D55E00"
         },
         "orientation": "h",
         "type": "bar",
         "x": [
          0.39651045792018025,
          0.39651045792018025,
          0.39651045792018025,
          0.39651045792018025,
          0.39651045792018025
         ],
         "xaxis": "x8",
         "y": [
          "国家对这些舆论导向是完全放任的  ",
          "立地成佛  ",
          "好像压根就没有部门在管  ",
          "放下屠刀  ",
          "没什么毛病  "
         ],
         "yaxis": "y8"
        }
       ],
       "layout": {
        "annotations": [
         {
          "font": {
           "size": 16
          },
          "showarrow": false,
          "text": "Topic 0",
          "x": 0.0875,
          "xanchor": "center",
          "xref": "paper",
          "y": 1,
          "yanchor": "bottom",
          "yref": "paper"
         },
         {
          "font": {
           "size": 16
          },
          "showarrow": false,
          "text": "Topic 1",
          "x": 0.36250000000000004,
          "xanchor": "center",
          "xref": "paper",
          "y": 1,
          "yanchor": "bottom",
          "yref": "paper"
         },
         {
          "font": {
           "size": 16
          },
          "showarrow": false,
          "text": "Topic 2",
          "x": 0.6375000000000001,
          "xanchor": "center",
          "xref": "paper",
          "y": 1,
          "yanchor": "bottom",
          "yref": "paper"
         },
         {
          "font": {
           "size": 16
          },
          "showarrow": false,
          "text": "Topic 3",
          "x": 0.9125,
          "xanchor": "center",
          "xref": "paper",
          "y": 1,
          "yanchor": "bottom",
          "yref": "paper"
         },
         {
          "font": {
           "size": 16
          },
          "showarrow": false,
          "text": "Topic 4",
          "x": 0.0875,
          "xanchor": "center",
          "xref": "paper",
          "y": 0.4,
          "yanchor": "bottom",
          "yref": "paper"
         },
         {
          "font": {
           "size": 16
          },
          "showarrow": false,
          "text": "Topic 5",
          "x": 0.36250000000000004,
          "xanchor": "center",
          "xref": "paper",
          "y": 0.4,
          "yanchor": "bottom",
          "yref": "paper"
         },
         {
          "font": {
           "size": 16
          },
          "showarrow": false,
          "text": "Topic 6",
          "x": 0.6375000000000001,
          "xanchor": "center",
          "xref": "paper",
          "y": 0.4,
          "yanchor": "bottom",
          "yref": "paper"
         },
         {
          "font": {
           "size": 16
          },
          "showarrow": false,
          "text": "Topic 8",
          "x": 0.9125,
          "xanchor": "center",
          "xref": "paper",
          "y": 0.4,
          "yanchor": "bottom",
          "yref": "paper"
         }
        ],
        "height": 500,
        "hoverlabel": {
         "bgcolor": "white",
         "font": {
          "family": "Rockwell",
          "size": 16
         }
        },
        "showlegend": false,
        "template": {
         "data": {
          "bar": [
           {
            "error_x": {
             "color": "#2a3f5f"
            },
            "error_y": {
             "color": "#2a3f5f"
            },
            "marker": {
             "line": {
              "color": "white",
              "width": 0.5
             },
             "pattern": {
              "fillmode": "overlay",
              "size": 10,
              "solidity": 0.2
             }
            },
            "type": "bar"
           }
          ],
          "barpolar": [
           {
            "marker": {
             "line": {
              "color": "white",
              "width": 0.5
             },
             "pattern": {
              "fillmode": "overlay",
              "size": 10,
              "solidity": 0.2
             }
            },
            "type": "barpolar"
           }
          ],
          "carpet": [
           {
            "aaxis": {
             "endlinecolor": "#2a3f5f",
             "gridcolor": "#C8D4E3",
             "linecolor": "#C8D4E3",
             "minorgridcolor": "#C8D4E3",
             "startlinecolor": "#2a3f5f"
            },
            "baxis": {
             "endlinecolor": "#2a3f5f",
             "gridcolor": "#C8D4E3",
             "linecolor": "#C8D4E3",
             "minorgridcolor": "#C8D4E3",
             "startlinecolor": "#2a3f5f"
            },
            "type": "carpet"
           }
          ],
          "choropleth": [
           {
            "colorbar": {
             "outlinewidth": 0,
             "ticks": ""
            },
            "type": "choropleth"
           }
          ],
          "contour": [
           {
            "colorbar": {
             "outlinewidth": 0,
             "ticks": ""
            },
            "colorscale": [
             [
              0,
              "#0d0887"
             ],
             [
              0.1111111111111111,
              "#46039f"
             ],
             [
              0.2222222222222222,
              "#7201a8"
             ],
             [
              0.3333333333333333,
              "#9c179e"
             ],
             [
              0.4444444444444444,
              "#bd3786"
             ],
             [
              0.5555555555555556,
              "#d8576b"
             ],
             [
              0.6666666666666666,
              "#ed7953"
             ],
             [
              0.7777777777777778,
              "#fb9f3a"
             ],
             [
              0.8888888888888888,
              "#fdca26"
             ],
             [
              1,
              "#f0f921"
             ]
            ],
            "type": "contour"
           }
          ],
          "contourcarpet": [
           {
            "colorbar": {
             "outlinewidth": 0,
             "ticks": ""
            },
            "type": "contourcarpet"
           }
          ],
          "heatmap": [
           {
            "colorbar": {
             "outlinewidth": 0,
             "ticks": ""
            },
            "colorscale": [
             [
              0,
              "#0d0887"
             ],
             [
              0.1111111111111111,
              "#46039f"
             ],
             [
              0.2222222222222222,
              "#7201a8"
             ],
             [
              0.3333333333333333,
              "#9c179e"
             ],
             [
              0.4444444444444444,
              "#bd3786"
             ],
             [
              0.5555555555555556,
              "#d8576b"
             ],
             [
              0.6666666666666666,
              "#ed7953"
             ],
             [
              0.7777777777777778,
              "#fb9f3a"
             ],
             [
              0.8888888888888888,
              "#fdca26"
             ],
             [
              1,
              "#f0f921"
             ]
            ],
            "type": "heatmap"
           }
          ],
          "heatmapgl": [
           {
            "colorbar": {
             "outlinewidth": 0,
             "ticks": ""
            },
            "colorscale": [
             [
              0,
              "#0d0887"
             ],
             [
              0.1111111111111111,
              "#46039f"
             ],
             [
              0.2222222222222222,
              "#7201a8"
             ],
             [
              0.3333333333333333,
              "#9c179e"
             ],
             [
              0.4444444444444444,
              "#bd3786"
             ],
             [
              0.5555555555555556,
              "#d8576b"
             ],
             [
              0.6666666666666666,
              "#ed7953"
             ],
             [
              0.7777777777777778,
              "#fb9f3a"
             ],
             [
              0.8888888888888888,
              "#fdca26"
             ],
             [
              1,
              "#f0f921"
             ]
            ],
            "type": "heatmapgl"
           }
          ],
          "histogram": [
           {
            "marker": {
             "pattern": {
              "fillmode": "overlay",
              "size": 10,
              "solidity": 0.2
             }
            },
            "type": "histogram"
           }
          ],
          "histogram2d": [
           {
            "colorbar": {
             "outlinewidth": 0,
             "ticks": ""
            },
            "colorscale": [
             [
              0,
              "#0d0887"
             ],
             [
              0.1111111111111111,
              "#46039f"
             ],
             [
              0.2222222222222222,
              "#7201a8"
             ],
             [
              0.3333333333333333,
              "#9c179e"
             ],
             [
              0.4444444444444444,
              "#bd3786"
             ],
             [
              0.5555555555555556,
              "#d8576b"
             ],
             [
              0.6666666666666666,
              "#ed7953"
             ],
             [
              0.7777777777777778,
              "#fb9f3a"
             ],
             [
              0.8888888888888888,
              "#fdca26"
             ],
             [
              1,
              "#f0f921"
             ]
            ],
            "type": "histogram2d"
           }
          ],
          "histogram2dcontour": [
           {
            "colorbar": {
             "outlinewidth": 0,
             "ticks": ""
            },
            "colorscale": [
             [
              0,
              "#0d0887"
             ],
             [
              0.1111111111111111,
              "#46039f"
             ],
             [
              0.2222222222222222,
              "#7201a8"
             ],
             [
              0.3333333333333333,
              "#9c179e"
             ],
             [
              0.4444444444444444,
              "#bd3786"
             ],
             [
              0.5555555555555556,
              "#d8576b"
             ],
             [
              0.6666666666666666,
              "#ed7953"
             ],
             [
              0.7777777777777778,
              "#fb9f3a"
             ],
             [
              0.8888888888888888,
              "#fdca26"
             ],
             [
              1,
              "#f0f921"
             ]
            ],
            "type": "histogram2dcontour"
           }
          ],
          "mesh3d": [
           {
            "colorbar": {
             "outlinewidth": 0,
             "ticks": ""
            },
            "type": "mesh3d"
           }
          ],
          "parcoords": [
           {
            "line": {
             "colorbar": {
              "outlinewidth": 0,
              "ticks": ""
             }
            },
            "type": "parcoords"
           }
          ],
          "pie": [
           {
            "automargin": true,
            "type": "pie"
           }
          ],
          "scatter": [
           {
            "fillpattern": {
             "fillmode": "overlay",
             "size": 10,
             "solidity": 0.2
            },
            "type": "scatter"
           }
          ],
          "scatter3d": [
           {
            "line": {
             "colorbar": {
              "outlinewidth": 0,
              "ticks": ""
             }
            },
            "marker": {
             "colorbar": {
              "outlinewidth": 0,
              "ticks": ""
             }
            },
            "type": "scatter3d"
           }
          ],
          "scattercarpet": [
           {
            "marker": {
             "colorbar": {
              "outlinewidth": 0,
              "ticks": ""
             }
            },
            "type": "scattercarpet"
           }
          ],
          "scattergeo": [
           {
            "marker": {
             "colorbar": {
              "outlinewidth": 0,
              "ticks": ""
             }
            },
            "type": "scattergeo"
           }
          ],
          "scattergl": [
           {
            "marker": {
             "colorbar": {
              "outlinewidth": 0,
              "ticks": ""
             }
            },
            "type": "scattergl"
           }
          ],
          "scattermapbox": [
           {
            "marker": {
             "colorbar": {
              "outlinewidth": 0,
              "ticks": ""
             }
            },
            "type": "scattermapbox"
           }
          ],
          "scatterpolar": [
           {
            "marker": {
             "colorbar": {
              "outlinewidth": 0,
              "ticks": ""
             }
            },
            "type": "scatterpolar"
           }
          ],
          "scatterpolargl": [
           {
            "marker": {
             "colorbar": {
              "outlinewidth": 0,
              "ticks": ""
             }
            },
            "type": "scatterpolargl"
           }
          ],
          "scatterternary": [
           {
            "marker": {
             "colorbar": {
              "outlinewidth": 0,
              "ticks": ""
             }
            },
            "type": "scatterternary"
           }
          ],
          "surface": [
           {
            "colorbar": {
             "outlinewidth": 0,
             "ticks": ""
            },
            "colorscale": [
             [
              0,
              "#0d0887"
             ],
             [
              0.1111111111111111,
              "#46039f"
             ],
             [
              0.2222222222222222,
              "#7201a8"
             ],
             [
              0.3333333333333333,
              "#9c179e"
             ],
             [
              0.4444444444444444,
              "#bd3786"
             ],
             [
              0.5555555555555556,
              "#d8576b"
             ],
             [
              0.6666666666666666,
              "#ed7953"
             ],
             [
              0.7777777777777778,
              "#fb9f3a"
             ],
             [
              0.8888888888888888,
              "#fdca26"
             ],
             [
              1,
              "#f0f921"
             ]
            ],
            "type": "surface"
           }
          ],
          "table": [
           {
            "cells": {
             "fill": {
              "color": "#EBF0F8"
             },
             "line": {
              "color": "white"
             }
            },
            "header": {
             "fill": {
              "color": "#C8D4E3"
             },
             "line": {
              "color": "white"
             }
            },
            "type": "table"
           }
          ]
         },
         "layout": {
          "annotationdefaults": {
           "arrowcolor": "#2a3f5f",
           "arrowhead": 0,
           "arrowwidth": 1
          },
          "autotypenumbers": "strict",
          "coloraxis": {
           "colorbar": {
            "outlinewidth": 0,
            "ticks": ""
           }
          },
          "colorscale": {
           "diverging": [
            [
             0,
             "#8e0152"
            ],
            [
             0.1,
             "#c51b7d"
            ],
            [
             0.2,
             "#de77ae"
            ],
            [
             0.3,
             "#f1b6da"
            ],
            [
             0.4,
             "#fde0ef"
            ],
            [
             0.5,
             "#f7f7f7"
            ],
            [
             0.6,
             "#e6f5d0"
            ],
            [
             0.7,
             "#b8e186"
            ],
            [
             0.8,
             "#7fbc41"
            ],
            [
             0.9,
             "#4d9221"
            ],
            [
             1,
             "#276419"
            ]
           ],
           "sequential": [
            [
             0,
             "#0d0887"
            ],
            [
             0.1111111111111111,
             "#46039f"
            ],
            [
             0.2222222222222222,
             "#7201a8"
            ],
            [
             0.3333333333333333,
             "#9c179e"
            ],
            [
             0.4444444444444444,
             "#bd3786"
            ],
            [
             0.5555555555555556,
             "#d8576b"
            ],
            [
             0.6666666666666666,
             "#ed7953"
            ],
            [
             0.7777777777777778,
             "#fb9f3a"
            ],
            [
             0.8888888888888888,
             "#fdca26"
            ],
            [
             1,
             "#f0f921"
            ]
           ],
           "sequentialminus": [
            [
             0,
             "#0d0887"
            ],
            [
             0.1111111111111111,
             "#46039f"
            ],
            [
             0.2222222222222222,
             "#7201a8"
            ],
            [
             0.3333333333333333,
             "#9c179e"
            ],
            [
             0.4444444444444444,
             "#bd3786"
            ],
            [
             0.5555555555555556,
             "#d8576b"
            ],
            [
             0.6666666666666666,
             "#ed7953"
            ],
            [
             0.7777777777777778,
             "#fb9f3a"
            ],
            [
             0.8888888888888888,
             "#fdca26"
            ],
            [
             1,
             "#f0f921"
            ]
           ]
          },
          "colorway": [
           "#636efa",
           "#EF553B",
           "#00cc96",
           "#ab63fa",
           "#FFA15A",
           "#19d3f3",
           "#FF6692",
           "#B6E880",
           "#FF97FF",
           "#FECB52"
          ],
          "font": {
           "color": "#2a3f5f"
          },
          "geo": {
           "bgcolor": "white",
           "lakecolor": "white",
           "landcolor": "white",
           "showlakes": true,
           "showland": true,
           "subunitcolor": "#C8D4E3"
          },
          "hoverlabel": {
           "align": "left"
          },
          "hovermode": "closest",
          "mapbox": {
           "style": "light"
          },
          "paper_bgcolor": "white",
          "plot_bgcolor": "white",
          "polar": {
           "angularaxis": {
            "gridcolor": "#EBF0F8",
            "linecolor": "#EBF0F8",
            "ticks": ""
           },
           "bgcolor": "white",
           "radialaxis": {
            "gridcolor": "#EBF0F8",
            "linecolor": "#EBF0F8",
            "ticks": ""
           }
          },
          "scene": {
           "xaxis": {
            "backgroundcolor": "white",
            "gridcolor": "#DFE8F3",
            "gridwidth": 2,
            "linecolor": "#EBF0F8",
            "showbackground": true,
            "ticks": "",
            "zerolinecolor": "#EBF0F8"
           },
           "yaxis": {
            "backgroundcolor": "white",
            "gridcolor": "#DFE8F3",
            "gridwidth": 2,
            "linecolor": "#EBF0F8",
            "showbackground": true,
            "ticks": "",
            "zerolinecolor": "#EBF0F8"
           },
           "zaxis": {
            "backgroundcolor": "white",
            "gridcolor": "#DFE8F3",
            "gridwidth": 2,
            "linecolor": "#EBF0F8",
            "showbackground": true,
            "ticks": "",
            "zerolinecolor": "#EBF0F8"
           }
          },
          "shapedefaults": {
           "line": {
            "color": "#2a3f5f"
           }
          },
          "ternary": {
           "aaxis": {
            "gridcolor": "#DFE8F3",
            "linecolor": "#A2B1C6",
            "ticks": ""
           },
           "baxis": {
            "gridcolor": "#DFE8F3",
            "linecolor": "#A2B1C6",
            "ticks": ""
           },
           "bgcolor": "white",
           "caxis": {
            "gridcolor": "#DFE8F3",
            "linecolor": "#A2B1C6",
            "ticks": ""
           }
          },
          "title": {
           "x": 0.05
          },
          "xaxis": {
           "automargin": true,
           "gridcolor": "#EBF0F8",
           "linecolor": "#EBF0F8",
           "ticks": "",
           "title": {
            "standoff": 15
           },
           "zerolinecolor": "#EBF0F8",
           "zerolinewidth": 2
          },
          "yaxis": {
           "automargin": true,
           "gridcolor": "#EBF0F8",
           "linecolor": "#EBF0F8",
           "ticks": "",
           "title": {
            "standoff": 15
           },
           "zerolinecolor": "#EBF0F8",
           "zerolinewidth": 2
          }
         }
        },
        "title": {
         "font": {
          "color": "Black",
          "size": 22
         },
         "text": "Topic Word Scores",
         "x": 0.5,
         "xanchor": "center",
         "yanchor": "top"
        },
        "width": 1000,
        "xaxis": {
         "anchor": "y",
         "domain": [
          0,
          0.175
         ],
         "showgrid": true
        },
        "xaxis2": {
         "anchor": "y2",
         "domain": [
          0.275,
          0.45
         ],
         "showgrid": true
        },
        "xaxis3": {
         "anchor": "y3",
         "domain": [
          0.55,
          0.7250000000000001
         ],
         "showgrid": true
        },
        "xaxis4": {
         "anchor": "y4",
         "domain": [
          0.825,
          1
         ],
         "showgrid": true
        },
        "xaxis5": {
         "anchor": "y5",
         "domain": [
          0,
          0.175
         ],
         "showgrid": true
        },
        "xaxis6": {
         "anchor": "y6",
         "domain": [
          0.275,
          0.45
         ],
         "showgrid": true
        },
        "xaxis7": {
         "anchor": "y7",
         "domain": [
          0.55,
          0.7250000000000001
         ],
         "showgrid": true
        },
        "xaxis8": {
         "anchor": "y8",
         "domain": [
          0.825,
          1
         ],
         "showgrid": true
        },
        "yaxis": {
         "anchor": "x",
         "domain": [
          0.6000000000000001,
          1
         ],
         "showgrid": true
        },
        "yaxis2": {
         "anchor": "x2",
         "domain": [
          0.6000000000000001,
          1
         ],
         "showgrid": true
        },
        "yaxis3": {
         "anchor": "x3",
         "domain": [
          0.6000000000000001,
          1
         ],
         "showgrid": true
        },
        "yaxis4": {
         "anchor": "x4",
         "domain": [
          0.6000000000000001,
          1
         ],
         "showgrid": true
        },
        "yaxis5": {
         "anchor": "x5",
         "domain": [
          0,
          0.4
         ],
         "showgrid": true
        },
        "yaxis6": {
         "anchor": "x6",
         "domain": [
          0,
          0.4
         ],
         "showgrid": true
        },
        "yaxis7": {
         "anchor": "x7",
         "domain": [
          0,
          0.4
         ],
         "showgrid": true
        },
        "yaxis8": {
         "anchor": "x8",
         "domain": [
          0,
          0.4
         ],
         "showgrid": true
        }
       }
      },
      "text/html": [
       "<div>                            <div id=\"f5f6434d-41af-40c0-b6b0-e101bf88dc9c\" class=\"plotly-graph-div\" style=\"height:500px; width:1000px;\"></div>            <script type=\"text/javascript\">                require([\"plotly\"], function(Plotly) {                    window.PLOTLYENV=window.PLOTLYENV || {};                                    if (document.getElementById(\"f5f6434d-41af-40c0-b6b0-e101bf88dc9c\")) {                    Plotly.newPlot(                        \"f5f6434d-41af-40c0-b6b0-e101bf88dc9c\",                        [{\"marker\":{\"color\":\"#D55E00\"},\"orientation\":\"h\",\"x\":[0.2954190976761173,0.2976781492534077,0.4271037780959285,0.4271037780959285,0.6811378366493144],\"y\":[\"\\u591a\\u5e73\\u53f0\\u56de\\u5e94\\u5211\\u6ee1\\u91ca\\u653e\\u4eba\\u5458\\u53d8\\u52b1\\u5fd7\\u7f51\\u7ea2  \",\"\\u7f51\\u9875\\u94fe\\u63a5  \",\"\\u4f60\\u600e\\u4e48\\u770b\\u5f85\\u6b64\\u7c7b\\u8d26\\u53f7  \",\"\\u6765\\u804a\\u804a  \",\"\\u7f51\\u7ea2\\u7684\\u95e8\\u69db\\u8d8a\\u6765\\u8d8a\\u4f4e\\u4e86  \"],\"type\":\"bar\",\"xaxis\":\"x\",\"yaxis\":\"y\"},{\"marker\":{\"color\":\"#0072B2\"},\"orientation\":\"h\",\"x\":[0.02299134776853805,0.02299134776853805,0.02585706013092949,0.031382090595629124,0.036980848328799304],\"y\":[\"\\u5211\\u6ee1\\u91ca\\u653e\\u5c31\\u80fd\\u5f15\\u53d1\\u5173\\u6ce8  \",\"\\u9996\\u5148  \",\"\\u65b0\\u8d5b\\u9053  \",\"\\u8fd9\\u6837\\u7684  \",\"\\u6d6a\\u5b50\\u56de\\u5934\\u52b1\\u5fd7\\u7f51\\u7ea2  \"],\"type\":\"bar\",\"xaxis\":\"x2\",\"yaxis\":\"y2\"},{\"marker\":{\"color\":\"#CC79A7\"},\"orientation\":\"h\",\"x\":[0.3398661067887259,0.3398661067887259,0.3398661067887259,0.3398661067887259,0.3398661067887259],\"y\":[\"\\u5fae\\u535a\\u4e0d\\u5c31\\u6709\\u5417  \",\"\\u6210\\u7f51\\u7ea2\\u4e86  \",\"\\u73b0\\u5728\\u6447\\u8eab\\u4e00\\u53d8  \",\"\\u95eb\\u5fe0\\u6587  \",\"\\u8fb1\\u9a82\\u63f4\\u9102\\u533b\\u7597\\u4eba\\u5458  \"],\"type\":\"bar\",\"xaxis\":\"x3\",\"yaxis\":\"y3\"},{\"marker\":{\"color\":\"#E69F00\"},\"orientation\":\"h\",\"x\":[0.11647428969348278,0.11985696397977096,0.1326967269533671,0.1326967269533671,0.1326967269533671],\"y\":[\"\\u5728\\u5feb\\u624b  \",\"\\u7f51\\u9875\\u94fe\\u63a5  \",\"\\u7efc\\u5408\\u7f51\\u7edc  \",\"\\u7d20\\u6750\\u6765\\u6e90  \",\"\\u7ea2\\u661f\\u65b0\\u95fb  \"],\"type\":\"bar\",\"xaxis\":\"x4\",\"yaxis\":\"y4\"},{\"marker\":{\"color\":\"#56B4E9\"},\"orientation\":\"h\",\"x\":[0.08788094581872069,0.08788094581872069,0.08788094581872069,0.08788094581872069,0.08788094581872069],\"y\":[\"\\u8fd9\\u90fd\\u5c0f\\u4e8b\\u513f  \",\"\\u4ee5\\u540e\\u518d\\u62ff\\u8fd9\\u4e8b\\u6574\\u6ca1\\u6709\\u7528\\u4e86  \",\"\\u8f6e\\u5c97\\u4e4b\\u540e\\u8d77\\u6765\\u53e0\\u88ab  \",\"\\u6d17\\u5b8c\\u6fa1\\u4e4b\\u540e\\u76f4\\u63a5\\u5c31\\u662f\\u6309\\u6469\\u627e\\u59b9\\u5531\\u6b4c  \",\"\\u6323\\u94b1\\u6211\\u5c31\\u7ee7\\u7eed\\u6f47\\u6d12\\u53bb  \"],\"type\":\"bar\",\"xaxis\":\"x5\",\"yaxis\":\"y5\"},{\"marker\":{\"color\":\"#009E73\"},\"orientation\":\"h\",\"x\":[0.39094470829167666,0.39094470829167666,0.39094470829167666,0.39651045792018025,0.39651045792018025],\"y\":[\"\\u54ea\\u4e2a\\u4e5f\\u6ca1\\u5feb\\u624b\\u7684\\u5211\\u6ee1\\u91ca\\u653e\\u7684\\u7f51\\u7ea2\\u591a  \",\"\\u73b0\\u5728\\u90fd\\u5f88\\u52b1\\u5fd7  \",\"\\u66fe\\u7ecf\\u90fd\\u8e72\\u8fc7\\u76d1\\u72f1  \",\"ks\\u5ca9\\u5c11  \",\"ks\\u5ca9\\u5c11\\u7684\\u5fae\\u535a\\u89c6\\u9891  \"],\"type\":\"bar\",\"xaxis\":\"x6\",\"yaxis\":\"y6\"},{\"marker\":{\"color\":\"#F0E442\"},\"orientation\":\"h\",\"x\":[0.07199994198855057,0.07199994198855057,0.09063096181032691,0.09063096181032691,0.09063096181032691],\"y\":[\"\\u7684\\u65b0\\u8d5b\\u9053  \",\"\\u7528\\u77ed\\u89c6\\u9891\\u6216\\u8005\\u76f4\\u64ad\\u8fdb\\u884c\\u5206\\u4eab\\u548c\\u521b\\u4f5c  \",\"\\u5317\\u4eac\\u9752\\u5e74\\u62a5  \",\"\\u4ee5\\u670d\\u5211\\u4e3a\\u4eae\\u70b9\\u535a\\u6d41\\u91cf\\u4ee4\\u4eba\\u4e0d\\u6562\\u82df\\u540c  \",\"\\u5a92\\u4f53\\u8bc4\\u5211\\u6ee1\\u91ca\\u653e\\u4eba\\u5458\\u6210\\u52b1\\u5fd7\\u7f51\\u7ea2  \"],\"type\":\"bar\",\"xaxis\":\"x7\",\"yaxis\":\"y7\"},{\"marker\":{\"color\":\"#D55E00\"},\"orientation\":\"h\",\"x\":[0.39651045792018025,0.39651045792018025,0.39651045792018025,0.39651045792018025,0.39651045792018025],\"y\":[\"\\u56fd\\u5bb6\\u5bf9\\u8fd9\\u4e9b\\u8206\\u8bba\\u5bfc\\u5411\\u662f\\u5b8c\\u5168\\u653e\\u4efb\\u7684  \",\"\\u7acb\\u5730\\u6210\\u4f5b  \",\"\\u597d\\u50cf\\u538b\\u6839\\u5c31\\u6ca1\\u6709\\u90e8\\u95e8\\u5728\\u7ba1  \",\"\\u653e\\u4e0b\\u5c60\\u5200  \",\"\\u6ca1\\u4ec0\\u4e48\\u6bdb\\u75c5  \"],\"type\":\"bar\",\"xaxis\":\"x8\",\"yaxis\":\"y8\"}],                        {\"template\":{\"data\":{\"barpolar\":[{\"marker\":{\"line\":{\"color\":\"white\",\"width\":0.5},\"pattern\":{\"fillmode\":\"overlay\",\"size\":10,\"solidity\":0.2}},\"type\":\"barpolar\"}],\"bar\":[{\"error_x\":{\"color\":\"#2a3f5f\"},\"error_y\":{\"color\":\"#2a3f5f\"},\"marker\":{\"line\":{\"color\":\"white\",\"width\":0.5},\"pattern\":{\"fillmode\":\"overlay\",\"size\":10,\"solidity\":0.2}},\"type\":\"bar\"}],\"carpet\":[{\"aaxis\":{\"endlinecolor\":\"#2a3f5f\",\"gridcolor\":\"#C8D4E3\",\"linecolor\":\"#C8D4E3\",\"minorgridcolor\":\"#C8D4E3\",\"startlinecolor\":\"#2a3f5f\"},\"baxis\":{\"endlinecolor\":\"#2a3f5f\",\"gridcolor\":\"#C8D4E3\",\"linecolor\":\"#C8D4E3\",\"minorgridcolor\":\"#C8D4E3\",\"startlinecolor\":\"#2a3f5f\"},\"type\":\"carpet\"}],\"choropleth\":[{\"colorbar\":{\"outlinewidth\":0,\"ticks\":\"\"},\"type\":\"choropleth\"}],\"contourcarpet\":[{\"colorbar\":{\"outlinewidth\":0,\"ticks\":\"\"},\"type\":\"contourcarpet\"}],\"contour\":[{\"colorbar\":{\"outlinewidth\":0,\"ticks\":\"\"},\"colorscale\":[[0.0,\"#0d0887\"],[0.1111111111111111,\"#46039f\"],[0.2222222222222222,\"#7201a8\"],[0.3333333333333333,\"#9c179e\"],[0.4444444444444444,\"#bd3786\"],[0.5555555555555556,\"#d8576b\"],[0.6666666666666666,\"#ed7953\"],[0.7777777777777778,\"#fb9f3a\"],[0.8888888888888888,\"#fdca26\"],[1.0,\"#f0f921\"]],\"type\":\"contour\"}],\"heatmapgl\":[{\"colorbar\":{\"outlinewidth\":0,\"ticks\":\"\"},\"colorscale\":[[0.0,\"#0d0887\"],[0.1111111111111111,\"#46039f\"],[0.2222222222222222,\"#7201a8\"],[0.3333333333333333,\"#9c179e\"],[0.4444444444444444,\"#bd3786\"],[0.5555555555555556,\"#d8576b\"],[0.6666666666666666,\"#ed7953\"],[0.7777777777777778,\"#fb9f3a\"],[0.8888888888888888,\"#fdca26\"],[1.0,\"#f0f921\"]],\"type\":\"heatmapgl\"}],\"heatmap\":[{\"colorbar\":{\"outlinewidth\":0,\"ticks\":\"\"},\"colorscale\":[[0.0,\"#0d0887\"],[0.1111111111111111,\"#46039f\"],[0.2222222222222222,\"#7201a8\"],[0.3333333333333333,\"#9c179e\"],[0.4444444444444444,\"#bd3786\"],[0.5555555555555556,\"#d8576b\"],[0.6666666666666666,\"#ed7953\"],[0.7777777777777778,\"#fb9f3a\"],[0.8888888888888888,\"#fdca26\"],[1.0,\"#f0f921\"]],\"type\":\"heatmap\"}],\"histogram2dcontour\":[{\"colorbar\":{\"outlinewidth\":0,\"ticks\":\"\"},\"colorscale\":[[0.0,\"#0d0887\"],[0.1111111111111111,\"#46039f\"],[0.2222222222222222,\"#7201a8\"],[0.3333333333333333,\"#9c179e\"],[0.4444444444444444,\"#bd3786\"],[0.5555555555555556,\"#d8576b\"],[0.6666666666666666,\"#ed7953\"],[0.7777777777777778,\"#fb9f3a\"],[0.8888888888888888,\"#fdca26\"],[1.0,\"#f0f921\"]],\"type\":\"histogram2dcontour\"}],\"histogram2d\":[{\"colorbar\":{\"outlinewidth\":0,\"ticks\":\"\"},\"colorscale\":[[0.0,\"#0d0887\"],[0.1111111111111111,\"#46039f\"],[0.2222222222222222,\"#7201a8\"],[0.3333333333333333,\"#9c179e\"],[0.4444444444444444,\"#bd3786\"],[0.5555555555555556,\"#d8576b\"],[0.6666666666666666,\"#ed7953\"],[0.7777777777777778,\"#fb9f3a\"],[0.8888888888888888,\"#fdca26\"],[1.0,\"#f0f921\"]],\"type\":\"histogram2d\"}],\"histogram\":[{\"marker\":{\"pattern\":{\"fillmode\":\"overlay\",\"size\":10,\"solidity\":0.2}},\"type\":\"histogram\"}],\"mesh3d\":[{\"colorbar\":{\"outlinewidth\":0,\"ticks\":\"\"},\"type\":\"mesh3d\"}],\"parcoords\":[{\"line\":{\"colorbar\":{\"outlinewidth\":0,\"ticks\":\"\"}},\"type\":\"parcoords\"}],\"pie\":[{\"automargin\":true,\"type\":\"pie\"}],\"scatter3d\":[{\"line\":{\"colorbar\":{\"outlinewidth\":0,\"ticks\":\"\"}},\"marker\":{\"colorbar\":{\"outlinewidth\":0,\"ticks\":\"\"}},\"type\":\"scatter3d\"}],\"scattercarpet\":[{\"marker\":{\"colorbar\":{\"outlinewidth\":0,\"ticks\":\"\"}},\"type\":\"scattercarpet\"}],\"scattergeo\":[{\"marker\":{\"colorbar\":{\"outlinewidth\":0,\"ticks\":\"\"}},\"type\":\"scattergeo\"}],\"scattergl\":[{\"marker\":{\"colorbar\":{\"outlinewidth\":0,\"ticks\":\"\"}},\"type\":\"scattergl\"}],\"scattermapbox\":[{\"marker\":{\"colorbar\":{\"outlinewidth\":0,\"ticks\":\"\"}},\"type\":\"scattermapbox\"}],\"scatterpolargl\":[{\"marker\":{\"colorbar\":{\"outlinewidth\":0,\"ticks\":\"\"}},\"type\":\"scatterpolargl\"}],\"scatterpolar\":[{\"marker\":{\"colorbar\":{\"outlinewidth\":0,\"ticks\":\"\"}},\"type\":\"scatterpolar\"}],\"scatter\":[{\"fillpattern\":{\"fillmode\":\"overlay\",\"size\":10,\"solidity\":0.2},\"type\":\"scatter\"}],\"scatterternary\":[{\"marker\":{\"colorbar\":{\"outlinewidth\":0,\"ticks\":\"\"}},\"type\":\"scatterternary\"}],\"surface\":[{\"colorbar\":{\"outlinewidth\":0,\"ticks\":\"\"},\"colorscale\":[[0.0,\"#0d0887\"],[0.1111111111111111,\"#46039f\"],[0.2222222222222222,\"#7201a8\"],[0.3333333333333333,\"#9c179e\"],[0.4444444444444444,\"#bd3786\"],[0.5555555555555556,\"#d8576b\"],[0.6666666666666666,\"#ed7953\"],[0.7777777777777778,\"#fb9f3a\"],[0.8888888888888888,\"#fdca26\"],[1.0,\"#f0f921\"]],\"type\":\"surface\"}],\"table\":[{\"cells\":{\"fill\":{\"color\":\"#EBF0F8\"},\"line\":{\"color\":\"white\"}},\"header\":{\"fill\":{\"color\":\"#C8D4E3\"},\"line\":{\"color\":\"white\"}},\"type\":\"table\"}]},\"layout\":{\"annotationdefaults\":{\"arrowcolor\":\"#2a3f5f\",\"arrowhead\":0,\"arrowwidth\":1},\"autotypenumbers\":\"strict\",\"coloraxis\":{\"colorbar\":{\"outlinewidth\":0,\"ticks\":\"\"}},\"colorscale\":{\"diverging\":[[0,\"#8e0152\"],[0.1,\"#c51b7d\"],[0.2,\"#de77ae\"],[0.3,\"#f1b6da\"],[0.4,\"#fde0ef\"],[0.5,\"#f7f7f7\"],[0.6,\"#e6f5d0\"],[0.7,\"#b8e186\"],[0.8,\"#7fbc41\"],[0.9,\"#4d9221\"],[1,\"#276419\"]],\"sequential\":[[0.0,\"#0d0887\"],[0.1111111111111111,\"#46039f\"],[0.2222222222222222,\"#7201a8\"],[0.3333333333333333,\"#9c179e\"],[0.4444444444444444,\"#bd3786\"],[0.5555555555555556,\"#d8576b\"],[0.6666666666666666,\"#ed7953\"],[0.7777777777777778,\"#fb9f3a\"],[0.8888888888888888,\"#fdca26\"],[1.0,\"#f0f921\"]],\"sequentialminus\":[[0.0,\"#0d0887\"],[0.1111111111111111,\"#46039f\"],[0.2222222222222222,\"#7201a8\"],[0.3333333333333333,\"#9c179e\"],[0.4444444444444444,\"#bd3786\"],[0.5555555555555556,\"#d8576b\"],[0.6666666666666666,\"#ed7953\"],[0.7777777777777778,\"#fb9f3a\"],[0.8888888888888888,\"#fdca26\"],[1.0,\"#f0f921\"]]},\"colorway\":[\"#636efa\",\"#EF553B\",\"#00cc96\",\"#ab63fa\",\"#FFA15A\",\"#19d3f3\",\"#FF6692\",\"#B6E880\",\"#FF97FF\",\"#FECB52\"],\"font\":{\"color\":\"#2a3f5f\"},\"geo\":{\"bgcolor\":\"white\",\"lakecolor\":\"white\",\"landcolor\":\"white\",\"showlakes\":true,\"showland\":true,\"subunitcolor\":\"#C8D4E3\"},\"hoverlabel\":{\"align\":\"left\"},\"hovermode\":\"closest\",\"mapbox\":{\"style\":\"light\"},\"paper_bgcolor\":\"white\",\"plot_bgcolor\":\"white\",\"polar\":{\"angularaxis\":{\"gridcolor\":\"#EBF0F8\",\"linecolor\":\"#EBF0F8\",\"ticks\":\"\"},\"bgcolor\":\"white\",\"radialaxis\":{\"gridcolor\":\"#EBF0F8\",\"linecolor\":\"#EBF0F8\",\"ticks\":\"\"}},\"scene\":{\"xaxis\":{\"backgroundcolor\":\"white\",\"gridcolor\":\"#DFE8F3\",\"gridwidth\":2,\"linecolor\":\"#EBF0F8\",\"showbackground\":true,\"ticks\":\"\",\"zerolinecolor\":\"#EBF0F8\"},\"yaxis\":{\"backgroundcolor\":\"white\",\"gridcolor\":\"#DFE8F3\",\"gridwidth\":2,\"linecolor\":\"#EBF0F8\",\"showbackground\":true,\"ticks\":\"\",\"zerolinecolor\":\"#EBF0F8\"},\"zaxis\":{\"backgroundcolor\":\"white\",\"gridcolor\":\"#DFE8F3\",\"gridwidth\":2,\"linecolor\":\"#EBF0F8\",\"showbackground\":true,\"ticks\":\"\",\"zerolinecolor\":\"#EBF0F8\"}},\"shapedefaults\":{\"line\":{\"color\":\"#2a3f5f\"}},\"ternary\":{\"aaxis\":{\"gridcolor\":\"#DFE8F3\",\"linecolor\":\"#A2B1C6\",\"ticks\":\"\"},\"baxis\":{\"gridcolor\":\"#DFE8F3\",\"linecolor\":\"#A2B1C6\",\"ticks\":\"\"},\"bgcolor\":\"white\",\"caxis\":{\"gridcolor\":\"#DFE8F3\",\"linecolor\":\"#A2B1C6\",\"ticks\":\"\"}},\"title\":{\"x\":0.05},\"xaxis\":{\"automargin\":true,\"gridcolor\":\"#EBF0F8\",\"linecolor\":\"#EBF0F8\",\"ticks\":\"\",\"title\":{\"standoff\":15},\"zerolinecolor\":\"#EBF0F8\",\"zerolinewidth\":2},\"yaxis\":{\"automargin\":true,\"gridcolor\":\"#EBF0F8\",\"linecolor\":\"#EBF0F8\",\"ticks\":\"\",\"title\":{\"standoff\":15},\"zerolinecolor\":\"#EBF0F8\",\"zerolinewidth\":2}}},\"xaxis\":{\"anchor\":\"y\",\"domain\":[0.0,0.175],\"showgrid\":true},\"yaxis\":{\"anchor\":\"x\",\"domain\":[0.6000000000000001,1.0],\"showgrid\":true},\"xaxis2\":{\"anchor\":\"y2\",\"domain\":[0.275,0.45],\"showgrid\":true},\"yaxis2\":{\"anchor\":\"x2\",\"domain\":[0.6000000000000001,1.0],\"showgrid\":true},\"xaxis3\":{\"anchor\":\"y3\",\"domain\":[0.55,0.7250000000000001],\"showgrid\":true},\"yaxis3\":{\"anchor\":\"x3\",\"domain\":[0.6000000000000001,1.0],\"showgrid\":true},\"xaxis4\":{\"anchor\":\"y4\",\"domain\":[0.825,1.0],\"showgrid\":true},\"yaxis4\":{\"anchor\":\"x4\",\"domain\":[0.6000000000000001,1.0],\"showgrid\":true},\"xaxis5\":{\"anchor\":\"y5\",\"domain\":[0.0,0.175],\"showgrid\":true},\"yaxis5\":{\"anchor\":\"x5\",\"domain\":[0.0,0.4],\"showgrid\":true},\"xaxis6\":{\"anchor\":\"y6\",\"domain\":[0.275,0.45],\"showgrid\":true},\"yaxis6\":{\"anchor\":\"x6\",\"domain\":[0.0,0.4],\"showgrid\":true},\"xaxis7\":{\"anchor\":\"y7\",\"domain\":[0.55,0.7250000000000001],\"showgrid\":true},\"yaxis7\":{\"anchor\":\"x7\",\"domain\":[0.0,0.4],\"showgrid\":true},\"xaxis8\":{\"anchor\":\"y8\",\"domain\":[0.825,1.0],\"showgrid\":true},\"yaxis8\":{\"anchor\":\"x8\",\"domain\":[0.0,0.4],\"showgrid\":true},\"annotations\":[{\"font\":{\"size\":16},\"showarrow\":false,\"text\":\"Topic 0\",\"x\":0.0875,\"xanchor\":\"center\",\"xref\":\"paper\",\"y\":1.0,\"yanchor\":\"bottom\",\"yref\":\"paper\"},{\"font\":{\"size\":16},\"showarrow\":false,\"text\":\"Topic 1\",\"x\":0.36250000000000004,\"xanchor\":\"center\",\"xref\":\"paper\",\"y\":1.0,\"yanchor\":\"bottom\",\"yref\":\"paper\"},{\"font\":{\"size\":16},\"showarrow\":false,\"text\":\"Topic 2\",\"x\":0.6375000000000001,\"xanchor\":\"center\",\"xref\":\"paper\",\"y\":1.0,\"yanchor\":\"bottom\",\"yref\":\"paper\"},{\"font\":{\"size\":16},\"showarrow\":false,\"text\":\"Topic 3\",\"x\":0.9125,\"xanchor\":\"center\",\"xref\":\"paper\",\"y\":1.0,\"yanchor\":\"bottom\",\"yref\":\"paper\"},{\"font\":{\"size\":16},\"showarrow\":false,\"text\":\"Topic 4\",\"x\":0.0875,\"xanchor\":\"center\",\"xref\":\"paper\",\"y\":0.4,\"yanchor\":\"bottom\",\"yref\":\"paper\"},{\"font\":{\"size\":16},\"showarrow\":false,\"text\":\"Topic 5\",\"x\":0.36250000000000004,\"xanchor\":\"center\",\"xref\":\"paper\",\"y\":0.4,\"yanchor\":\"bottom\",\"yref\":\"paper\"},{\"font\":{\"size\":16},\"showarrow\":false,\"text\":\"Topic 6\",\"x\":0.6375000000000001,\"xanchor\":\"center\",\"xref\":\"paper\",\"y\":0.4,\"yanchor\":\"bottom\",\"yref\":\"paper\"},{\"font\":{\"size\":16},\"showarrow\":false,\"text\":\"Topic 8\",\"x\":0.9125,\"xanchor\":\"center\",\"xref\":\"paper\",\"y\":0.4,\"yanchor\":\"bottom\",\"yref\":\"paper\"}],\"title\":{\"font\":{\"size\":22,\"color\":\"Black\"},\"text\":\"Topic Word Scores\",\"x\":0.5,\"xanchor\":\"center\",\"yanchor\":\"top\"},\"hoverlabel\":{\"font\":{\"size\":16,\"family\":\"Rockwell\"},\"bgcolor\":\"white\"},\"showlegend\":false,\"width\":1000,\"height\":500},                        {\"responsive\": true}                    ).then(function(){\n",
       "                            \n",
       "var gd = document.getElementById('f5f6434d-41af-40c0-b6b0-e101bf88dc9c');\n",
       "var x = new MutationObserver(function (mutations, observer) {{\n",
       "        var display = window.getComputedStyle(gd).display;\n",
       "        if (!display || display === 'none') {{\n",
       "            console.log([gd, 'removed!']);\n",
       "            Plotly.purge(gd);\n",
       "            observer.disconnect();\n",
       "        }}\n",
       "}});\n",
       "\n",
       "// Listen for the removal of the full notebook cells\n",
       "var notebookContainer = gd.closest('#notebook-container');\n",
       "if (notebookContainer) {{\n",
       "    x.observe(notebookContainer, {childList: true});\n",
       "}}\n",
       "\n",
       "// Listen for the clearing of the current output cell\n",
       "var outputEl = gd.closest('.output');\n",
       "if (outputEl) {{\n",
       "    x.observe(outputEl, {childList: true});\n",
       "}}\n",
       "\n",
       "                        })                };                });            </script>        </div>"
      ]
     },
     "metadata": {},
     "output_type": "display_data"
    }
   ],
   "source": [
    "topic_model.visualize_barchart()"
   ]
  },
  {
   "cell_type": "code",
   "execution_count": 19,
   "id": "3403ab73",
   "metadata": {},
   "outputs": [
    {
     "data": {
      "application/vnd.plotly.v1+json": {
       "config": {
        "plotlyServerURL": "https://plot.ly"
       },
       "data": [
        {
         "coloraxis": "coloraxis",
         "hovertemplate": "x: %{x}<br>y: %{y}<br>Similarity Score: %{z}<extra></extra>",
         "name": "0",
         "type": "heatmap",
         "x": [
          "0_网红的门槛越来越低了_来聊聊_你怎么看待此类账号",
          "1_浪子回头励志网红_这样的_新赛道",
          "2_辱骂援鄂医疗人员_闫忠文_现在摇身一变",
          "3_红星新闻_素材来源_综合网络",
          "4_挣钱我就继续潇洒去_洗完澡之后直接就是按摩找妹唱歌...",
          "5_ks岩少的微博视频_ks岩少_曾经都蹲过监狱",
          "6_媒体评刑满释放人员成励志网红_以服刑为亮点博流量令...",
          "7_木森观察_明确哪些行业哪些职位必须持有无犯罪记录_...",
          "8_没什么毛病_放下屠刀_好像压根就没有部门在管",
          "9_有些可能是真改过自新吧_但是好奇图里这种为什么会火...",
          "10_但有一个共同点就是流量都不小_随便一搜出来了好多...",
          "11_大家都去犯罪吧_坏事变好事_多平台回应刑满释放人...",
          "12_一问自己长大做什么_那会有多少孩子去犯罪_你奋斗四年",
          "13_污点不是卖点_包容绝非纵容_万物都敢",
          "14_对此_多家平台回应_澎湃新闻的微博视频",
          "15_还是有的人就是病态_正义小黄鸭的微博视频_是社会...",
          "16_把这种经历当成了一种资本来炫耀_很多直播的_就可...",
          "17_涉及金额较大_户外第一人_快手自称",
          "18_大家怎么看_刑满释放人员成为网红到底励了谁的志_..."
         ],
         "xaxis": "x",
         "y": [
          "0_网红的门槛越来越低了_来聊聊_你怎么看待此类账号",
          "1_浪子回头励志网红_这样的_新赛道",
          "2_辱骂援鄂医疗人员_闫忠文_现在摇身一变",
          "3_红星新闻_素材来源_综合网络",
          "4_挣钱我就继续潇洒去_洗完澡之后直接就是按摩找妹唱歌...",
          "5_ks岩少的微博视频_ks岩少_曾经都蹲过监狱",
          "6_媒体评刑满释放人员成励志网红_以服刑为亮点博流量令...",
          "7_木森观察_明确哪些行业哪些职位必须持有无犯罪记录_...",
          "8_没什么毛病_放下屠刀_好像压根就没有部门在管",
          "9_有些可能是真改过自新吧_但是好奇图里这种为什么会火...",
          "10_但有一个共同点就是流量都不小_随便一搜出来了好多...",
          "11_大家都去犯罪吧_坏事变好事_多平台回应刑满释放人...",
          "12_一问自己长大做什么_那会有多少孩子去犯罪_你奋斗四年",
          "13_污点不是卖点_包容绝非纵容_万物都敢",
          "14_对此_多家平台回应_澎湃新闻的微博视频",
          "15_还是有的人就是病态_正义小黄鸭的微博视频_是社会...",
          "16_把这种经历当成了一种资本来炫耀_很多直播的_就可...",
          "17_涉及金额较大_户外第一人_快手自称",
          "18_大家怎么看_刑满释放人员成为网红到底励了谁的志_..."
         ],
         "yaxis": "y",
         "z": [
          [
           1.0000000000000002,
           0.8887172347002485,
           0.8509797324020184,
           0.9108054844754259,
           0.8574461712976791,
           0.878042338781158,
           0.8474576381374808,
           0.8827395564444689,
           0.8793832395444054,
           0.7348606954960113,
           0.8726127772240027,
           0.7343122182927491,
           0.9402107537327726,
           0.9150171316309867,
           0.8558388126679496,
           0.8588246668991086,
           0.9017342877499149,
           0.7852043404308965,
           0.8159435803386851
          ],
          [
           0.8887172347002485,
           0.9999999999999998,
           0.893684795330606,
           0.9307922109294765,
           0.8841610490328633,
           0.909997397076078,
           0.9112876734362361,
           0.9123348266284961,
           0.9144337851873487,
           0.8025807269831606,
           0.8886703881476121,
           0.833335090796137,
           0.9125334673087941,
           0.9300592781503979,
           0.9307209358024808,
           0.915358008055081,
           0.906653691881866,
           0.8804922745660412,
           0.8697456505952764
          ],
          [
           0.8509797324020184,
           0.893684795330606,
           0.9999999999999998,
           0.8858898505686428,
           0.8569463199121986,
           0.9112123904616476,
           0.902795907269917,
           0.8920465561929667,
           0.899089738073764,
           0.8119175685568072,
           0.9434947944412515,
           0.7737653174238635,
           0.9045925139729685,
           0.9456762322985766,
           0.8834338185491891,
           0.9113551836809721,
           0.9581940836028544,
           0.8697770696408575,
           0.9165956351111448
          ],
          [
           0.9108054844754259,
           0.9307922109294765,
           0.8858898505686428,
           1,
           0.8833760456229355,
           0.9064840858010814,
           0.8858580937313245,
           0.9007287667293284,
           0.8825024918552171,
           0.7559323048885156,
           0.873652961985631,
           0.7786021825279376,
           0.9233859844146722,
           0.9141069013342095,
           0.9329218781394218,
           0.8770263470731275,
           0.8994748540700781,
           0.88052413557026,
           0.8347067094700249
          ],
          [
           0.8574461712976791,
           0.8841610490328633,
           0.8569463199121986,
           0.8833760456229355,
           1,
           0.8999672840347952,
           0.8362119170759237,
           0.8684023181871174,
           0.8489366064656515,
           0.7590646109043877,
           0.8619411966436117,
           0.8811004368937174,
           0.8867255232286215,
           0.8887153841057769,
           0.8788150384518436,
           0.8463590152561056,
           0.8685344529937545,
           0.8561411904575448,
           0.8048349773053267
          ],
          [
           0.878042338781158,
           0.909997397076078,
           0.9112123904616476,
           0.9064840858010814,
           0.8999672840347952,
           1,
           0.9053113860920619,
           0.9117129781729716,
           0.893869305255817,
           0.7985988700693665,
           0.9286372488838188,
           0.8374600168990556,
           0.9082535287122241,
           0.9269130470103283,
           0.9368329975838792,
           0.9254530885985421,
           0.9313216729675737,
           0.8841843639112578,
           0.8796964443670015
          ],
          [
           0.8474576381374808,
           0.9112876734362361,
           0.902795907269917,
           0.8858580937313245,
           0.8362119170759237,
           0.9053113860920619,
           1.0000000000000002,
           0.885218961246272,
           0.8961935216191741,
           0.8379502199062134,
           0.8997507676753268,
           0.7750150240045405,
           0.8992288236778962,
           0.8960398709384374,
           0.9100483040901078,
           0.9281551530423003,
           0.9041754425554955,
           0.8678618079787702,
           0.8696208793328868
          ],
          [
           0.8827395564444689,
           0.9123348266284961,
           0.8920465561929667,
           0.9007287667293284,
           0.8684023181871174,
           0.9117129781729716,
           0.885218961246272,
           1.0000000000000004,
           0.9191068677550578,
           0.816075667336077,
           0.9015530170839883,
           0.7889551809873332,
           0.9293813973630582,
           0.9237182730876095,
           0.9225765637128212,
           0.9011084152797056,
           0.9026640984293769,
           0.8564729934723438,
           0.843368935959639
          ],
          [
           0.8793832395444054,
           0.9144337851873487,
           0.899089738073764,
           0.8825024918552171,
           0.8489366064656515,
           0.893869305255817,
           0.8961935216191741,
           0.9191068677550578,
           0.9999999999999998,
           0.8038047512760325,
           0.9052328040837809,
           0.7560484528724872,
           0.907479580118582,
           0.9331239094297491,
           0.8966979856330644,
           0.9098337796126945,
           0.923674213374729,
           0.8654504485659987,
           0.8564134096925613
          ],
          [
           0.7348606954960113,
           0.8025807269831606,
           0.8119175685568072,
           0.7559323048885156,
           0.7590646109043877,
           0.7985988700693665,
           0.8379502199062134,
           0.816075667336077,
           0.8038047512760325,
           0.9999999999999996,
           0.8093169761182317,
           0.6960881170406892,
           0.7962420071881244,
           0.817150104320661,
           0.7922150984475548,
           0.8065490480541184,
           0.8352346988090037,
           0.751713455248228,
           0.8169874778795334
          ],
          [
           0.8726127772240027,
           0.8886703881476121,
           0.9434947944412515,
           0.873652961985631,
           0.8619411966436117,
           0.9286372488838188,
           0.8997507676753268,
           0.9015530170839883,
           0.9052328040837809,
           0.8093169761182317,
           1,
           0.7927593648148392,
           0.9112302811474233,
           0.9452340866149352,
           0.8937444448224943,
           0.9051775377453172,
           0.9590478006927537,
           0.8639333761067061,
           0.9049481889277217
          ],
          [
           0.7343122182927491,
           0.833335090796137,
           0.7737653174238635,
           0.7786021825279376,
           0.8811004368937174,
           0.8374600168990556,
           0.7750150240045405,
           0.7889551809873332,
           0.7560484528724872,
           0.6960881170406892,
           0.7927593648148392,
           0.9999999999999998,
           0.7981549797298038,
           0.7979134115497123,
           0.823747064526887,
           0.7930748003112823,
           0.781052550739285,
           0.793977833561235,
           0.8075960430699145
          ],
          [
           0.9402107537327726,
           0.9125334673087941,
           0.9045925139729685,
           0.9233859844146722,
           0.8867255232286215,
           0.9082535287122241,
           0.8992288236778962,
           0.9293813973630582,
           0.907479580118582,
           0.7962420071881244,
           0.9112302811474233,
           0.7981549797298038,
           1,
           0.9375327624895313,
           0.8932644761306043,
           0.9001748668842604,
           0.9240804078801257,
           0.8632983151646976,
           0.8700817400397682
          ],
          [
           0.9150171316309867,
           0.9300592781503979,
           0.9456762322985766,
           0.9141069013342095,
           0.8887153841057769,
           0.9269130470103283,
           0.8960398709384374,
           0.9237182730876095,
           0.9331239094297491,
           0.817150104320661,
           0.9452340866149352,
           0.7979134115497123,
           0.9375327624895313,
           0.9999999999999994,
           0.9007028473274491,
           0.9233496037591302,
           0.9563268807479918,
           0.8674301183689102,
           0.889347656644486
          ],
          [
           0.8558388126679496,
           0.9307209358024808,
           0.8834338185491891,
           0.9329218781394218,
           0.8788150384518436,
           0.9368329975838792,
           0.9100483040901078,
           0.9225765637128212,
           0.8966979856330644,
           0.7922150984475548,
           0.8937444448224943,
           0.823747064526887,
           0.8932644761306043,
           0.9007028473274491,
           0.9999999999999996,
           0.9111573878833752,
           0.8979318737024078,
           0.9038590669098747,
           0.8538138077065542
          ],
          [
           0.8588246668991086,
           0.915358008055081,
           0.9113551836809721,
           0.8770263470731275,
           0.8463590152561056,
           0.9254530885985421,
           0.9281551530423003,
           0.9011084152797056,
           0.9098337796126945,
           0.8065490480541184,
           0.9051775377453172,
           0.7930748003112823,
           0.9001748668842604,
           0.9233496037591302,
           0.9111573878833752,
           1.0000000000000009,
           0.9234193782257007,
           0.8786469298473583,
           0.8735022988042258
          ],
          [
           0.9017342877499149,
           0.906653691881866,
           0.9581940836028544,
           0.8994748540700781,
           0.8685344529937545,
           0.9313216729675737,
           0.9041754425554955,
           0.9026640984293769,
           0.923674213374729,
           0.8352346988090037,
           0.9590478006927537,
           0.781052550739285,
           0.9240804078801257,
           0.9563268807479918,
           0.8979318737024078,
           0.9234193782257007,
           0.9999999999999997,
           0.8560869938153481,
           0.9176050006317003
          ],
          [
           0.7852043404308965,
           0.8804922745660412,
           0.8697770696408575,
           0.88052413557026,
           0.8561411904575448,
           0.8841843639112578,
           0.8678618079787702,
           0.8564729934723438,
           0.8654504485659987,
           0.751713455248228,
           0.8639333761067061,
           0.793977833561235,
           0.8632983151646976,
           0.8674301183689102,
           0.9038590669098747,
           0.8786469298473583,
           0.8560869938153481,
           0.9999999999999998,
           0.8288093497354005
          ],
          [
           0.8159435803386851,
           0.8697456505952764,
           0.9165956351111448,
           0.8347067094700249,
           0.8048349773053267,
           0.8796964443670015,
           0.8696208793328868,
           0.843368935959639,
           0.8564134096925613,
           0.8169874778795334,
           0.9049481889277217,
           0.8075960430699145,
           0.8700817400397682,
           0.889347656644486,
           0.8538138077065542,
           0.8735022988042258,
           0.9176050006317003,
           0.8288093497354005,
           1.0000000000000002
          ]
         ]
        }
       ],
       "layout": {
        "coloraxis": {
         "colorbar": {
          "title": {
           "text": "Similarity Score"
          }
         },
         "colorscale": [
          [
           0,
           "rgb(247,252,240)"
          ],
          [
           0.125,
           "rgb(224,243,219)"
          ],
          [
           0.25,
           "rgb(204,235,197)"
          ],
          [
           0.375,
           "rgb(168,221,181)"
          ],
          [
           0.5,
           "rgb(123,204,196)"
          ],
          [
           0.625,
           "rgb(78,179,211)"
          ],
          [
           0.75,
           "rgb(43,140,190)"
          ],
          [
           0.875,
           "rgb(8,104,172)"
          ],
          [
           1,
           "rgb(8,64,129)"
          ]
         ]
        },
        "height": 800,
        "hoverlabel": {
         "bgcolor": "white",
         "font": {
          "family": "Rockwell",
          "size": 16
         }
        },
        "legend": {
         "title": {
          "text": "Trend"
         }
        },
        "margin": {
         "t": 60
        },
        "showlegend": true,
        "template": {
         "data": {
          "bar": [
           {
            "error_x": {
             "color": "#2a3f5f"
            },
            "error_y": {
             "color": "#2a3f5f"
            },
            "marker": {
             "line": {
              "color": "#E5ECF6",
              "width": 0.5
             },
             "pattern": {
              "fillmode": "overlay",
              "size": 10,
              "solidity": 0.2
             }
            },
            "type": "bar"
           }
          ],
          "barpolar": [
           {
            "marker": {
             "line": {
              "color": "#E5ECF6",
              "width": 0.5
             },
             "pattern": {
              "fillmode": "overlay",
              "size": 10,
              "solidity": 0.2
             }
            },
            "type": "barpolar"
           }
          ],
          "carpet": [
           {
            "aaxis": {
             "endlinecolor": "#2a3f5f",
             "gridcolor": "white",
             "linecolor": "white",
             "minorgridcolor": "white",
             "startlinecolor": "#2a3f5f"
            },
            "baxis": {
             "endlinecolor": "#2a3f5f",
             "gridcolor": "white",
             "linecolor": "white",
             "minorgridcolor": "white",
             "startlinecolor": "#2a3f5f"
            },
            "type": "carpet"
           }
          ],
          "choropleth": [
           {
            "colorbar": {
             "outlinewidth": 0,
             "ticks": ""
            },
            "type": "choropleth"
           }
          ],
          "contour": [
           {
            "colorbar": {
             "outlinewidth": 0,
             "ticks": ""
            },
            "colorscale": [
             [
              0,
              "#0d0887"
             ],
             [
              0.1111111111111111,
              "#46039f"
             ],
             [
              0.2222222222222222,
              "#7201a8"
             ],
             [
              0.3333333333333333,
              "#9c179e"
             ],
             [
              0.4444444444444444,
              "#bd3786"
             ],
             [
              0.5555555555555556,
              "#d8576b"
             ],
             [
              0.6666666666666666,
              "#ed7953"
             ],
             [
              0.7777777777777778,
              "#fb9f3a"
             ],
             [
              0.8888888888888888,
              "#fdca26"
             ],
             [
              1,
              "#f0f921"
             ]
            ],
            "type": "contour"
           }
          ],
          "contourcarpet": [
           {
            "colorbar": {
             "outlinewidth": 0,
             "ticks": ""
            },
            "type": "contourcarpet"
           }
          ],
          "heatmap": [
           {
            "colorbar": {
             "outlinewidth": 0,
             "ticks": ""
            },
            "colorscale": [
             [
              0,
              "#0d0887"
             ],
             [
              0.1111111111111111,
              "#46039f"
             ],
             [
              0.2222222222222222,
              "#7201a8"
             ],
             [
              0.3333333333333333,
              "#9c179e"
             ],
             [
              0.4444444444444444,
              "#bd3786"
             ],
             [
              0.5555555555555556,
              "#d8576b"
             ],
             [
              0.6666666666666666,
              "#ed7953"
             ],
             [
              0.7777777777777778,
              "#fb9f3a"
             ],
             [
              0.8888888888888888,
              "#fdca26"
             ],
             [
              1,
              "#f0f921"
             ]
            ],
            "type": "heatmap"
           }
          ],
          "heatmapgl": [
           {
            "colorbar": {
             "outlinewidth": 0,
             "ticks": ""
            },
            "colorscale": [
             [
              0,
              "#0d0887"
             ],
             [
              0.1111111111111111,
              "#46039f"
             ],
             [
              0.2222222222222222,
              "#7201a8"
             ],
             [
              0.3333333333333333,
              "#9c179e"
             ],
             [
              0.4444444444444444,
              "#bd3786"
             ],
             [
              0.5555555555555556,
              "#d8576b"
             ],
             [
              0.6666666666666666,
              "#ed7953"
             ],
             [
              0.7777777777777778,
              "#fb9f3a"
             ],
             [
              0.8888888888888888,
              "#fdca26"
             ],
             [
              1,
              "#f0f921"
             ]
            ],
            "type": "heatmapgl"
           }
          ],
          "histogram": [
           {
            "marker": {
             "pattern": {
              "fillmode": "overlay",
              "size": 10,
              "solidity": 0.2
             }
            },
            "type": "histogram"
           }
          ],
          "histogram2d": [
           {
            "colorbar": {
             "outlinewidth": 0,
             "ticks": ""
            },
            "colorscale": [
             [
              0,
              "#0d0887"
             ],
             [
              0.1111111111111111,
              "#46039f"
             ],
             [
              0.2222222222222222,
              "#7201a8"
             ],
             [
              0.3333333333333333,
              "#9c179e"
             ],
             [
              0.4444444444444444,
              "#bd3786"
             ],
             [
              0.5555555555555556,
              "#d8576b"
             ],
             [
              0.6666666666666666,
              "#ed7953"
             ],
             [
              0.7777777777777778,
              "#fb9f3a"
             ],
             [
              0.8888888888888888,
              "#fdca26"
             ],
             [
              1,
              "#f0f921"
             ]
            ],
            "type": "histogram2d"
           }
          ],
          "histogram2dcontour": [
           {
            "colorbar": {
             "outlinewidth": 0,
             "ticks": ""
            },
            "colorscale": [
             [
              0,
              "#0d0887"
             ],
             [
              0.1111111111111111,
              "#46039f"
             ],
             [
              0.2222222222222222,
              "#7201a8"
             ],
             [
              0.3333333333333333,
              "#9c179e"
             ],
             [
              0.4444444444444444,
              "#bd3786"
             ],
             [
              0.5555555555555556,
              "#d8576b"
             ],
             [
              0.6666666666666666,
              "#ed7953"
             ],
             [
              0.7777777777777778,
              "#fb9f3a"
             ],
             [
              0.8888888888888888,
              "#fdca26"
             ],
             [
              1,
              "#f0f921"
             ]
            ],
            "type": "histogram2dcontour"
           }
          ],
          "mesh3d": [
           {
            "colorbar": {
             "outlinewidth": 0,
             "ticks": ""
            },
            "type": "mesh3d"
           }
          ],
          "parcoords": [
           {
            "line": {
             "colorbar": {
              "outlinewidth": 0,
              "ticks": ""
             }
            },
            "type": "parcoords"
           }
          ],
          "pie": [
           {
            "automargin": true,
            "type": "pie"
           }
          ],
          "scatter": [
           {
            "fillpattern": {
             "fillmode": "overlay",
             "size": 10,
             "solidity": 0.2
            },
            "type": "scatter"
           }
          ],
          "scatter3d": [
           {
            "line": {
             "colorbar": {
              "outlinewidth": 0,
              "ticks": ""
             }
            },
            "marker": {
             "colorbar": {
              "outlinewidth": 0,
              "ticks": ""
             }
            },
            "type": "scatter3d"
           }
          ],
          "scattercarpet": [
           {
            "marker": {
             "colorbar": {
              "outlinewidth": 0,
              "ticks": ""
             }
            },
            "type": "scattercarpet"
           }
          ],
          "scattergeo": [
           {
            "marker": {
             "colorbar": {
              "outlinewidth": 0,
              "ticks": ""
             }
            },
            "type": "scattergeo"
           }
          ],
          "scattergl": [
           {
            "marker": {
             "colorbar": {
              "outlinewidth": 0,
              "ticks": ""
             }
            },
            "type": "scattergl"
           }
          ],
          "scattermapbox": [
           {
            "marker": {
             "colorbar": {
              "outlinewidth": 0,
              "ticks": ""
             }
            },
            "type": "scattermapbox"
           }
          ],
          "scatterpolar": [
           {
            "marker": {
             "colorbar": {
              "outlinewidth": 0,
              "ticks": ""
             }
            },
            "type": "scatterpolar"
           }
          ],
          "scatterpolargl": [
           {
            "marker": {
             "colorbar": {
              "outlinewidth": 0,
              "ticks": ""
             }
            },
            "type": "scatterpolargl"
           }
          ],
          "scatterternary": [
           {
            "marker": {
             "colorbar": {
              "outlinewidth": 0,
              "ticks": ""
             }
            },
            "type": "scatterternary"
           }
          ],
          "surface": [
           {
            "colorbar": {
             "outlinewidth": 0,
             "ticks": ""
            },
            "colorscale": [
             [
              0,
              "#0d0887"
             ],
             [
              0.1111111111111111,
              "#46039f"
             ],
             [
              0.2222222222222222,
              "#7201a8"
             ],
             [
              0.3333333333333333,
              "#9c179e"
             ],
             [
              0.4444444444444444,
              "#bd3786"
             ],
             [
              0.5555555555555556,
              "#d8576b"
             ],
             [
              0.6666666666666666,
              "#ed7953"
             ],
             [
              0.7777777777777778,
              "#fb9f3a"
             ],
             [
              0.8888888888888888,
              "#fdca26"
             ],
             [
              1,
              "#f0f921"
             ]
            ],
            "type": "surface"
           }
          ],
          "table": [
           {
            "cells": {
             "fill": {
              "color": "#EBF0F8"
             },
             "line": {
              "color": "white"
             }
            },
            "header": {
             "fill": {
              "color": "#C8D4E3"
             },
             "line": {
              "color": "white"
             }
            },
            "type": "table"
           }
          ]
         },
         "layout": {
          "annotationdefaults": {
           "arrowcolor": "#2a3f5f",
           "arrowhead": 0,
           "arrowwidth": 1
          },
          "autotypenumbers": "strict",
          "coloraxis": {
           "colorbar": {
            "outlinewidth": 0,
            "ticks": ""
           }
          },
          "colorscale": {
           "diverging": [
            [
             0,
             "#8e0152"
            ],
            [
             0.1,
             "#c51b7d"
            ],
            [
             0.2,
             "#de77ae"
            ],
            [
             0.3,
             "#f1b6da"
            ],
            [
             0.4,
             "#fde0ef"
            ],
            [
             0.5,
             "#f7f7f7"
            ],
            [
             0.6,
             "#e6f5d0"
            ],
            [
             0.7,
             "#b8e186"
            ],
            [
             0.8,
             "#7fbc41"
            ],
            [
             0.9,
             "#4d9221"
            ],
            [
             1,
             "#276419"
            ]
           ],
           "sequential": [
            [
             0,
             "#0d0887"
            ],
            [
             0.1111111111111111,
             "#46039f"
            ],
            [
             0.2222222222222222,
             "#7201a8"
            ],
            [
             0.3333333333333333,
             "#9c179e"
            ],
            [
             0.4444444444444444,
             "#bd3786"
            ],
            [
             0.5555555555555556,
             "#d8576b"
            ],
            [
             0.6666666666666666,
             "#ed7953"
            ],
            [
             0.7777777777777778,
             "#fb9f3a"
            ],
            [
             0.8888888888888888,
             "#fdca26"
            ],
            [
             1,
             "#f0f921"
            ]
           ],
           "sequentialminus": [
            [
             0,
             "#0d0887"
            ],
            [
             0.1111111111111111,
             "#46039f"
            ],
            [
             0.2222222222222222,
             "#7201a8"
            ],
            [
             0.3333333333333333,
             "#9c179e"
            ],
            [
             0.4444444444444444,
             "#bd3786"
            ],
            [
             0.5555555555555556,
             "#d8576b"
            ],
            [
             0.6666666666666666,
             "#ed7953"
            ],
            [
             0.7777777777777778,
             "#fb9f3a"
            ],
            [
             0.8888888888888888,
             "#fdca26"
            ],
            [
             1,
             "#f0f921"
            ]
           ]
          },
          "colorway": [
           "#636efa",
           "#EF553B",
           "#00cc96",
           "#ab63fa",
           "#FFA15A",
           "#19d3f3",
           "#FF6692",
           "#B6E880",
           "#FF97FF",
           "#FECB52"
          ],
          "font": {
           "color": "#2a3f5f"
          },
          "geo": {
           "bgcolor": "white",
           "lakecolor": "white",
           "landcolor": "#E5ECF6",
           "showlakes": true,
           "showland": true,
           "subunitcolor": "white"
          },
          "hoverlabel": {
           "align": "left"
          },
          "hovermode": "closest",
          "mapbox": {
           "style": "light"
          },
          "paper_bgcolor": "white",
          "plot_bgcolor": "#E5ECF6",
          "polar": {
           "angularaxis": {
            "gridcolor": "white",
            "linecolor": "white",
            "ticks": ""
           },
           "bgcolor": "#E5ECF6",
           "radialaxis": {
            "gridcolor": "white",
            "linecolor": "white",
            "ticks": ""
           }
          },
          "scene": {
           "xaxis": {
            "backgroundcolor": "#E5ECF6",
            "gridcolor": "white",
            "gridwidth": 2,
            "linecolor": "white",
            "showbackground": true,
            "ticks": "",
            "zerolinecolor": "white"
           },
           "yaxis": {
            "backgroundcolor": "#E5ECF6",
            "gridcolor": "white",
            "gridwidth": 2,
            "linecolor": "white",
            "showbackground": true,
            "ticks": "",
            "zerolinecolor": "white"
           },
           "zaxis": {
            "backgroundcolor": "#E5ECF6",
            "gridcolor": "white",
            "gridwidth": 2,
            "linecolor": "white",
            "showbackground": true,
            "ticks": "",
            "zerolinecolor": "white"
           }
          },
          "shapedefaults": {
           "line": {
            "color": "#2a3f5f"
           }
          },
          "ternary": {
           "aaxis": {
            "gridcolor": "white",
            "linecolor": "white",
            "ticks": ""
           },
           "baxis": {
            "gridcolor": "white",
            "linecolor": "white",
            "ticks": ""
           },
           "bgcolor": "#E5ECF6",
           "caxis": {
            "gridcolor": "white",
            "linecolor": "white",
            "ticks": ""
           }
          },
          "title": {
           "x": 0.05
          },
          "xaxis": {
           "automargin": true,
           "gridcolor": "white",
           "linecolor": "white",
           "ticks": "",
           "title": {
            "standoff": 15
           },
           "zerolinecolor": "white",
           "zerolinewidth": 2
          },
          "yaxis": {
           "automargin": true,
           "gridcolor": "white",
           "linecolor": "white",
           "ticks": "",
           "title": {
            "standoff": 15
           },
           "zerolinecolor": "white",
           "zerolinewidth": 2
          }
         }
        },
        "title": {
         "font": {
          "color": "Black",
          "size": 22
         },
         "text": "<b>Similarity Matrix</b>",
         "x": 0.55,
         "xanchor": "center",
         "y": 0.95,
         "yanchor": "top"
        },
        "width": 800,
        "xaxis": {
         "anchor": "y",
         "constrain": "domain",
         "domain": [
          0,
          1
         ],
         "scaleanchor": "y"
        },
        "yaxis": {
         "anchor": "x",
         "autorange": "reversed",
         "constrain": "domain",
         "domain": [
          0,
          1
         ]
        }
       }
      },
      "text/html": [
       "<div>                            <div id=\"3ffec703-99d0-4f04-bb6c-27adc66da70e\" class=\"plotly-graph-div\" style=\"height:800px; width:800px;\"></div>            <script type=\"text/javascript\">                require([\"plotly\"], function(Plotly) {                    window.PLOTLYENV=window.PLOTLYENV || {};                                    if (document.getElementById(\"3ffec703-99d0-4f04-bb6c-27adc66da70e\")) {                    Plotly.newPlot(                        \"3ffec703-99d0-4f04-bb6c-27adc66da70e\",                        [{\"coloraxis\":\"coloraxis\",\"name\":\"0\",\"x\":[\"0_\\u7f51\\u7ea2\\u7684\\u95e8\\u69db\\u8d8a\\u6765\\u8d8a\\u4f4e\\u4e86_\\u6765\\u804a\\u804a_\\u4f60\\u600e\\u4e48\\u770b\\u5f85\\u6b64\\u7c7b\\u8d26\\u53f7\",\"1_\\u6d6a\\u5b50\\u56de\\u5934\\u52b1\\u5fd7\\u7f51\\u7ea2_\\u8fd9\\u6837\\u7684_\\u65b0\\u8d5b\\u9053\",\"2_\\u8fb1\\u9a82\\u63f4\\u9102\\u533b\\u7597\\u4eba\\u5458_\\u95eb\\u5fe0\\u6587_\\u73b0\\u5728\\u6447\\u8eab\\u4e00\\u53d8\",\"3_\\u7ea2\\u661f\\u65b0\\u95fb_\\u7d20\\u6750\\u6765\\u6e90_\\u7efc\\u5408\\u7f51\\u7edc\",\"4_\\u6323\\u94b1\\u6211\\u5c31\\u7ee7\\u7eed\\u6f47\\u6d12\\u53bb_\\u6d17\\u5b8c\\u6fa1\\u4e4b\\u540e\\u76f4\\u63a5\\u5c31\\u662f\\u6309\\u6469\\u627e\\u59b9\\u5531\\u6b4c...\",\"5_ks\\u5ca9\\u5c11\\u7684\\u5fae\\u535a\\u89c6\\u9891_ks\\u5ca9\\u5c11_\\u66fe\\u7ecf\\u90fd\\u8e72\\u8fc7\\u76d1\\u72f1\",\"6_\\u5a92\\u4f53\\u8bc4\\u5211\\u6ee1\\u91ca\\u653e\\u4eba\\u5458\\u6210\\u52b1\\u5fd7\\u7f51\\u7ea2_\\u4ee5\\u670d\\u5211\\u4e3a\\u4eae\\u70b9\\u535a\\u6d41\\u91cf\\u4ee4...\",\"7_\\u6728\\u68ee\\u89c2\\u5bdf_\\u660e\\u786e\\u54ea\\u4e9b\\u884c\\u4e1a\\u54ea\\u4e9b\\u804c\\u4f4d\\u5fc5\\u987b\\u6301\\u6709\\u65e0\\u72af\\u7f6a\\u8bb0\\u5f55_...\",\"8_\\u6ca1\\u4ec0\\u4e48\\u6bdb\\u75c5_\\u653e\\u4e0b\\u5c60\\u5200_\\u597d\\u50cf\\u538b\\u6839\\u5c31\\u6ca1\\u6709\\u90e8\\u95e8\\u5728\\u7ba1\",\"9_\\u6709\\u4e9b\\u53ef\\u80fd\\u662f\\u771f\\u6539\\u8fc7\\u81ea\\u65b0\\u5427_\\u4f46\\u662f\\u597d\\u5947\\u56fe\\u91cc\\u8fd9\\u79cd\\u4e3a\\u4ec0\\u4e48\\u4f1a\\u706b...\",\"10_\\u4f46\\u6709\\u4e00\\u4e2a\\u5171\\u540c\\u70b9\\u5c31\\u662f\\u6d41\\u91cf\\u90fd\\u4e0d\\u5c0f_\\u968f\\u4fbf\\u4e00\\u641c\\u51fa\\u6765\\u4e86\\u597d\\u591a...\",\"11_\\u5927\\u5bb6\\u90fd\\u53bb\\u72af\\u7f6a\\u5427_\\u574f\\u4e8b\\u53d8\\u597d\\u4e8b_\\u591a\\u5e73\\u53f0\\u56de\\u5e94\\u5211\\u6ee1\\u91ca\\u653e\\u4eba...\",\"12_\\u4e00\\u95ee\\u81ea\\u5df1\\u957f\\u5927\\u505a\\u4ec0\\u4e48_\\u90a3\\u4f1a\\u6709\\u591a\\u5c11\\u5b69\\u5b50\\u53bb\\u72af\\u7f6a_\\u4f60\\u594b\\u6597\\u56db\\u5e74\",\"13_\\u6c61\\u70b9\\u4e0d\\u662f\\u5356\\u70b9_\\u5305\\u5bb9\\u7edd\\u975e\\u7eb5\\u5bb9_\\u4e07\\u7269\\u90fd\\u6562\",\"14_\\u5bf9\\u6b64_\\u591a\\u5bb6\\u5e73\\u53f0\\u56de\\u5e94_\\u6f8e\\u6e43\\u65b0\\u95fb\\u7684\\u5fae\\u535a\\u89c6\\u9891\",\"15_\\u8fd8\\u662f\\u6709\\u7684\\u4eba\\u5c31\\u662f\\u75c5\\u6001_\\u6b63\\u4e49\\u5c0f\\u9ec4\\u9e2d\\u7684\\u5fae\\u535a\\u89c6\\u9891_\\u662f\\u793e\\u4f1a...\",\"16_\\u628a\\u8fd9\\u79cd\\u7ecf\\u5386\\u5f53\\u6210\\u4e86\\u4e00\\u79cd\\u8d44\\u672c\\u6765\\u70ab\\u8000_\\u5f88\\u591a\\u76f4\\u64ad\\u7684_\\u5c31\\u53ef...\",\"17_\\u6d89\\u53ca\\u91d1\\u989d\\u8f83\\u5927_\\u6237\\u5916\\u7b2c\\u4e00\\u4eba_\\u5feb\\u624b\\u81ea\\u79f0\",\"18_\\u5927\\u5bb6\\u600e\\u4e48\\u770b_\\u5211\\u6ee1\\u91ca\\u653e\\u4eba\\u5458\\u6210\\u4e3a\\u7f51\\u7ea2\\u5230\\u5e95\\u52b1\\u4e86\\u8c01\\u7684\\u5fd7_...\"],\"y\":[\"0_\\u7f51\\u7ea2\\u7684\\u95e8\\u69db\\u8d8a\\u6765\\u8d8a\\u4f4e\\u4e86_\\u6765\\u804a\\u804a_\\u4f60\\u600e\\u4e48\\u770b\\u5f85\\u6b64\\u7c7b\\u8d26\\u53f7\",\"1_\\u6d6a\\u5b50\\u56de\\u5934\\u52b1\\u5fd7\\u7f51\\u7ea2_\\u8fd9\\u6837\\u7684_\\u65b0\\u8d5b\\u9053\",\"2_\\u8fb1\\u9a82\\u63f4\\u9102\\u533b\\u7597\\u4eba\\u5458_\\u95eb\\u5fe0\\u6587_\\u73b0\\u5728\\u6447\\u8eab\\u4e00\\u53d8\",\"3_\\u7ea2\\u661f\\u65b0\\u95fb_\\u7d20\\u6750\\u6765\\u6e90_\\u7efc\\u5408\\u7f51\\u7edc\",\"4_\\u6323\\u94b1\\u6211\\u5c31\\u7ee7\\u7eed\\u6f47\\u6d12\\u53bb_\\u6d17\\u5b8c\\u6fa1\\u4e4b\\u540e\\u76f4\\u63a5\\u5c31\\u662f\\u6309\\u6469\\u627e\\u59b9\\u5531\\u6b4c...\",\"5_ks\\u5ca9\\u5c11\\u7684\\u5fae\\u535a\\u89c6\\u9891_ks\\u5ca9\\u5c11_\\u66fe\\u7ecf\\u90fd\\u8e72\\u8fc7\\u76d1\\u72f1\",\"6_\\u5a92\\u4f53\\u8bc4\\u5211\\u6ee1\\u91ca\\u653e\\u4eba\\u5458\\u6210\\u52b1\\u5fd7\\u7f51\\u7ea2_\\u4ee5\\u670d\\u5211\\u4e3a\\u4eae\\u70b9\\u535a\\u6d41\\u91cf\\u4ee4...\",\"7_\\u6728\\u68ee\\u89c2\\u5bdf_\\u660e\\u786e\\u54ea\\u4e9b\\u884c\\u4e1a\\u54ea\\u4e9b\\u804c\\u4f4d\\u5fc5\\u987b\\u6301\\u6709\\u65e0\\u72af\\u7f6a\\u8bb0\\u5f55_...\",\"8_\\u6ca1\\u4ec0\\u4e48\\u6bdb\\u75c5_\\u653e\\u4e0b\\u5c60\\u5200_\\u597d\\u50cf\\u538b\\u6839\\u5c31\\u6ca1\\u6709\\u90e8\\u95e8\\u5728\\u7ba1\",\"9_\\u6709\\u4e9b\\u53ef\\u80fd\\u662f\\u771f\\u6539\\u8fc7\\u81ea\\u65b0\\u5427_\\u4f46\\u662f\\u597d\\u5947\\u56fe\\u91cc\\u8fd9\\u79cd\\u4e3a\\u4ec0\\u4e48\\u4f1a\\u706b...\",\"10_\\u4f46\\u6709\\u4e00\\u4e2a\\u5171\\u540c\\u70b9\\u5c31\\u662f\\u6d41\\u91cf\\u90fd\\u4e0d\\u5c0f_\\u968f\\u4fbf\\u4e00\\u641c\\u51fa\\u6765\\u4e86\\u597d\\u591a...\",\"11_\\u5927\\u5bb6\\u90fd\\u53bb\\u72af\\u7f6a\\u5427_\\u574f\\u4e8b\\u53d8\\u597d\\u4e8b_\\u591a\\u5e73\\u53f0\\u56de\\u5e94\\u5211\\u6ee1\\u91ca\\u653e\\u4eba...\",\"12_\\u4e00\\u95ee\\u81ea\\u5df1\\u957f\\u5927\\u505a\\u4ec0\\u4e48_\\u90a3\\u4f1a\\u6709\\u591a\\u5c11\\u5b69\\u5b50\\u53bb\\u72af\\u7f6a_\\u4f60\\u594b\\u6597\\u56db\\u5e74\",\"13_\\u6c61\\u70b9\\u4e0d\\u662f\\u5356\\u70b9_\\u5305\\u5bb9\\u7edd\\u975e\\u7eb5\\u5bb9_\\u4e07\\u7269\\u90fd\\u6562\",\"14_\\u5bf9\\u6b64_\\u591a\\u5bb6\\u5e73\\u53f0\\u56de\\u5e94_\\u6f8e\\u6e43\\u65b0\\u95fb\\u7684\\u5fae\\u535a\\u89c6\\u9891\",\"15_\\u8fd8\\u662f\\u6709\\u7684\\u4eba\\u5c31\\u662f\\u75c5\\u6001_\\u6b63\\u4e49\\u5c0f\\u9ec4\\u9e2d\\u7684\\u5fae\\u535a\\u89c6\\u9891_\\u662f\\u793e\\u4f1a...\",\"16_\\u628a\\u8fd9\\u79cd\\u7ecf\\u5386\\u5f53\\u6210\\u4e86\\u4e00\\u79cd\\u8d44\\u672c\\u6765\\u70ab\\u8000_\\u5f88\\u591a\\u76f4\\u64ad\\u7684_\\u5c31\\u53ef...\",\"17_\\u6d89\\u53ca\\u91d1\\u989d\\u8f83\\u5927_\\u6237\\u5916\\u7b2c\\u4e00\\u4eba_\\u5feb\\u624b\\u81ea\\u79f0\",\"18_\\u5927\\u5bb6\\u600e\\u4e48\\u770b_\\u5211\\u6ee1\\u91ca\\u653e\\u4eba\\u5458\\u6210\\u4e3a\\u7f51\\u7ea2\\u5230\\u5e95\\u52b1\\u4e86\\u8c01\\u7684\\u5fd7_...\"],\"z\":[[1.0000000000000002,0.8887172347002485,0.8509797324020184,0.9108054844754259,0.8574461712976791,0.878042338781158,0.8474576381374808,0.8827395564444689,0.8793832395444054,0.7348606954960113,0.8726127772240027,0.7343122182927491,0.9402107537327726,0.9150171316309867,0.8558388126679496,0.8588246668991086,0.9017342877499149,0.7852043404308965,0.8159435803386851],[0.8887172347002485,0.9999999999999998,0.893684795330606,0.9307922109294765,0.8841610490328633,0.909997397076078,0.9112876734362361,0.9123348266284961,0.9144337851873487,0.8025807269831606,0.8886703881476121,0.833335090796137,0.9125334673087941,0.9300592781503979,0.9307209358024808,0.915358008055081,0.906653691881866,0.8804922745660412,0.8697456505952764],[0.8509797324020184,0.893684795330606,0.9999999999999998,0.8858898505686428,0.8569463199121986,0.9112123904616476,0.902795907269917,0.8920465561929667,0.899089738073764,0.8119175685568072,0.9434947944412515,0.7737653174238635,0.9045925139729685,0.9456762322985766,0.8834338185491891,0.9113551836809721,0.9581940836028544,0.8697770696408575,0.9165956351111448],[0.9108054844754259,0.9307922109294765,0.8858898505686428,1.0,0.8833760456229355,0.9064840858010814,0.8858580937313245,0.9007287667293284,0.8825024918552171,0.7559323048885156,0.873652961985631,0.7786021825279376,0.9233859844146722,0.9141069013342095,0.9329218781394218,0.8770263470731275,0.8994748540700781,0.88052413557026,0.8347067094700249],[0.8574461712976791,0.8841610490328633,0.8569463199121986,0.8833760456229355,1.0,0.8999672840347952,0.8362119170759237,0.8684023181871174,0.8489366064656515,0.7590646109043877,0.8619411966436117,0.8811004368937174,0.8867255232286215,0.8887153841057769,0.8788150384518436,0.8463590152561056,0.8685344529937545,0.8561411904575448,0.8048349773053267],[0.878042338781158,0.909997397076078,0.9112123904616476,0.9064840858010814,0.8999672840347952,1.0,0.9053113860920619,0.9117129781729716,0.893869305255817,0.7985988700693665,0.9286372488838188,0.8374600168990556,0.9082535287122241,0.9269130470103283,0.9368329975838792,0.9254530885985421,0.9313216729675737,0.8841843639112578,0.8796964443670015],[0.8474576381374808,0.9112876734362361,0.902795907269917,0.8858580937313245,0.8362119170759237,0.9053113860920619,1.0000000000000002,0.885218961246272,0.8961935216191741,0.8379502199062134,0.8997507676753268,0.7750150240045405,0.8992288236778962,0.8960398709384374,0.9100483040901078,0.9281551530423003,0.9041754425554955,0.8678618079787702,0.8696208793328868],[0.8827395564444689,0.9123348266284961,0.8920465561929667,0.9007287667293284,0.8684023181871174,0.9117129781729716,0.885218961246272,1.0000000000000004,0.9191068677550578,0.816075667336077,0.9015530170839883,0.7889551809873332,0.9293813973630582,0.9237182730876095,0.9225765637128212,0.9011084152797056,0.9026640984293769,0.8564729934723438,0.843368935959639],[0.8793832395444054,0.9144337851873487,0.899089738073764,0.8825024918552171,0.8489366064656515,0.893869305255817,0.8961935216191741,0.9191068677550578,0.9999999999999998,0.8038047512760325,0.9052328040837809,0.7560484528724872,0.907479580118582,0.9331239094297491,0.8966979856330644,0.9098337796126945,0.923674213374729,0.8654504485659987,0.8564134096925613],[0.7348606954960113,0.8025807269831606,0.8119175685568072,0.7559323048885156,0.7590646109043877,0.7985988700693665,0.8379502199062134,0.816075667336077,0.8038047512760325,0.9999999999999996,0.8093169761182317,0.6960881170406892,0.7962420071881244,0.817150104320661,0.7922150984475548,0.8065490480541184,0.8352346988090037,0.751713455248228,0.8169874778795334],[0.8726127772240027,0.8886703881476121,0.9434947944412515,0.873652961985631,0.8619411966436117,0.9286372488838188,0.8997507676753268,0.9015530170839883,0.9052328040837809,0.8093169761182317,1.0,0.7927593648148392,0.9112302811474233,0.9452340866149352,0.8937444448224943,0.9051775377453172,0.9590478006927537,0.8639333761067061,0.9049481889277217],[0.7343122182927491,0.833335090796137,0.7737653174238635,0.7786021825279376,0.8811004368937174,0.8374600168990556,0.7750150240045405,0.7889551809873332,0.7560484528724872,0.6960881170406892,0.7927593648148392,0.9999999999999998,0.7981549797298038,0.7979134115497123,0.823747064526887,0.7930748003112823,0.781052550739285,0.793977833561235,0.8075960430699145],[0.9402107537327726,0.9125334673087941,0.9045925139729685,0.9233859844146722,0.8867255232286215,0.9082535287122241,0.8992288236778962,0.9293813973630582,0.907479580118582,0.7962420071881244,0.9112302811474233,0.7981549797298038,1.0,0.9375327624895313,0.8932644761306043,0.9001748668842604,0.9240804078801257,0.8632983151646976,0.8700817400397682],[0.9150171316309867,0.9300592781503979,0.9456762322985766,0.9141069013342095,0.8887153841057769,0.9269130470103283,0.8960398709384374,0.9237182730876095,0.9331239094297491,0.817150104320661,0.9452340866149352,0.7979134115497123,0.9375327624895313,0.9999999999999994,0.9007028473274491,0.9233496037591302,0.9563268807479918,0.8674301183689102,0.889347656644486],[0.8558388126679496,0.9307209358024808,0.8834338185491891,0.9329218781394218,0.8788150384518436,0.9368329975838792,0.9100483040901078,0.9225765637128212,0.8966979856330644,0.7922150984475548,0.8937444448224943,0.823747064526887,0.8932644761306043,0.9007028473274491,0.9999999999999996,0.9111573878833752,0.8979318737024078,0.9038590669098747,0.8538138077065542],[0.8588246668991086,0.915358008055081,0.9113551836809721,0.8770263470731275,0.8463590152561056,0.9254530885985421,0.9281551530423003,0.9011084152797056,0.9098337796126945,0.8065490480541184,0.9051775377453172,0.7930748003112823,0.9001748668842604,0.9233496037591302,0.9111573878833752,1.0000000000000009,0.9234193782257007,0.8786469298473583,0.8735022988042258],[0.9017342877499149,0.906653691881866,0.9581940836028544,0.8994748540700781,0.8685344529937545,0.9313216729675737,0.9041754425554955,0.9026640984293769,0.923674213374729,0.8352346988090037,0.9590478006927537,0.781052550739285,0.9240804078801257,0.9563268807479918,0.8979318737024078,0.9234193782257007,0.9999999999999997,0.8560869938153481,0.9176050006317003],[0.7852043404308965,0.8804922745660412,0.8697770696408575,0.88052413557026,0.8561411904575448,0.8841843639112578,0.8678618079787702,0.8564729934723438,0.8654504485659987,0.751713455248228,0.8639333761067061,0.793977833561235,0.8632983151646976,0.8674301183689102,0.9038590669098747,0.8786469298473583,0.8560869938153481,0.9999999999999998,0.8288093497354005],[0.8159435803386851,0.8697456505952764,0.9165956351111448,0.8347067094700249,0.8048349773053267,0.8796964443670015,0.8696208793328868,0.843368935959639,0.8564134096925613,0.8169874778795334,0.9049481889277217,0.8075960430699145,0.8700817400397682,0.889347656644486,0.8538138077065542,0.8735022988042258,0.9176050006317003,0.8288093497354005,1.0000000000000002]],\"type\":\"heatmap\",\"xaxis\":\"x\",\"yaxis\":\"y\",\"hovertemplate\":\"x: %{x}<br>y: %{y}<br>Similarity Score: %{z}<extra></extra>\"}],                        {\"template\":{\"data\":{\"histogram2dcontour\":[{\"type\":\"histogram2dcontour\",\"colorbar\":{\"outlinewidth\":0,\"ticks\":\"\"},\"colorscale\":[[0.0,\"#0d0887\"],[0.1111111111111111,\"#46039f\"],[0.2222222222222222,\"#7201a8\"],[0.3333333333333333,\"#9c179e\"],[0.4444444444444444,\"#bd3786\"],[0.5555555555555556,\"#d8576b\"],[0.6666666666666666,\"#ed7953\"],[0.7777777777777778,\"#fb9f3a\"],[0.8888888888888888,\"#fdca26\"],[1.0,\"#f0f921\"]]}],\"choropleth\":[{\"type\":\"choropleth\",\"colorbar\":{\"outlinewidth\":0,\"ticks\":\"\"}}],\"histogram2d\":[{\"type\":\"histogram2d\",\"colorbar\":{\"outlinewidth\":0,\"ticks\":\"\"},\"colorscale\":[[0.0,\"#0d0887\"],[0.1111111111111111,\"#46039f\"],[0.2222222222222222,\"#7201a8\"],[0.3333333333333333,\"#9c179e\"],[0.4444444444444444,\"#bd3786\"],[0.5555555555555556,\"#d8576b\"],[0.6666666666666666,\"#ed7953\"],[0.7777777777777778,\"#fb9f3a\"],[0.8888888888888888,\"#fdca26\"],[1.0,\"#f0f921\"]]}],\"heatmap\":[{\"type\":\"heatmap\",\"colorbar\":{\"outlinewidth\":0,\"ticks\":\"\"},\"colorscale\":[[0.0,\"#0d0887\"],[0.1111111111111111,\"#46039f\"],[0.2222222222222222,\"#7201a8\"],[0.3333333333333333,\"#9c179e\"],[0.4444444444444444,\"#bd3786\"],[0.5555555555555556,\"#d8576b\"],[0.6666666666666666,\"#ed7953\"],[0.7777777777777778,\"#fb9f3a\"],[0.8888888888888888,\"#fdca26\"],[1.0,\"#f0f921\"]]}],\"heatmapgl\":[{\"type\":\"heatmapgl\",\"colorbar\":{\"outlinewidth\":0,\"ticks\":\"\"},\"colorscale\":[[0.0,\"#0d0887\"],[0.1111111111111111,\"#46039f\"],[0.2222222222222222,\"#7201a8\"],[0.3333333333333333,\"#9c179e\"],[0.4444444444444444,\"#bd3786\"],[0.5555555555555556,\"#d8576b\"],[0.6666666666666666,\"#ed7953\"],[0.7777777777777778,\"#fb9f3a\"],[0.8888888888888888,\"#fdca26\"],[1.0,\"#f0f921\"]]}],\"contourcarpet\":[{\"type\":\"contourcarpet\",\"colorbar\":{\"outlinewidth\":0,\"ticks\":\"\"}}],\"contour\":[{\"type\":\"contour\",\"colorbar\":{\"outlinewidth\":0,\"ticks\":\"\"},\"colorscale\":[[0.0,\"#0d0887\"],[0.1111111111111111,\"#46039f\"],[0.2222222222222222,\"#7201a8\"],[0.3333333333333333,\"#9c179e\"],[0.4444444444444444,\"#bd3786\"],[0.5555555555555556,\"#d8576b\"],[0.6666666666666666,\"#ed7953\"],[0.7777777777777778,\"#fb9f3a\"],[0.8888888888888888,\"#fdca26\"],[1.0,\"#f0f921\"]]}],\"surface\":[{\"type\":\"surface\",\"colorbar\":{\"outlinewidth\":0,\"ticks\":\"\"},\"colorscale\":[[0.0,\"#0d0887\"],[0.1111111111111111,\"#46039f\"],[0.2222222222222222,\"#7201a8\"],[0.3333333333333333,\"#9c179e\"],[0.4444444444444444,\"#bd3786\"],[0.5555555555555556,\"#d8576b\"],[0.6666666666666666,\"#ed7953\"],[0.7777777777777778,\"#fb9f3a\"],[0.8888888888888888,\"#fdca26\"],[1.0,\"#f0f921\"]]}],\"mesh3d\":[{\"type\":\"mesh3d\",\"colorbar\":{\"outlinewidth\":0,\"ticks\":\"\"}}],\"scatter\":[{\"fillpattern\":{\"fillmode\":\"overlay\",\"size\":10,\"solidity\":0.2},\"type\":\"scatter\"}],\"parcoords\":[{\"type\":\"parcoords\",\"line\":{\"colorbar\":{\"outlinewidth\":0,\"ticks\":\"\"}}}],\"scatterpolargl\":[{\"type\":\"scatterpolargl\",\"marker\":{\"colorbar\":{\"outlinewidth\":0,\"ticks\":\"\"}}}],\"bar\":[{\"error_x\":{\"color\":\"#2a3f5f\"},\"error_y\":{\"color\":\"#2a3f5f\"},\"marker\":{\"line\":{\"color\":\"#E5ECF6\",\"width\":0.5},\"pattern\":{\"fillmode\":\"overlay\",\"size\":10,\"solidity\":0.2}},\"type\":\"bar\"}],\"scattergeo\":[{\"type\":\"scattergeo\",\"marker\":{\"colorbar\":{\"outlinewidth\":0,\"ticks\":\"\"}}}],\"scatterpolar\":[{\"type\":\"scatterpolar\",\"marker\":{\"colorbar\":{\"outlinewidth\":0,\"ticks\":\"\"}}}],\"histogram\":[{\"marker\":{\"pattern\":{\"fillmode\":\"overlay\",\"size\":10,\"solidity\":0.2}},\"type\":\"histogram\"}],\"scattergl\":[{\"type\":\"scattergl\",\"marker\":{\"colorbar\":{\"outlinewidth\":0,\"ticks\":\"\"}}}],\"scatter3d\":[{\"type\":\"scatter3d\",\"line\":{\"colorbar\":{\"outlinewidth\":0,\"ticks\":\"\"}},\"marker\":{\"colorbar\":{\"outlinewidth\":0,\"ticks\":\"\"}}}],\"scattermapbox\":[{\"type\":\"scattermapbox\",\"marker\":{\"colorbar\":{\"outlinewidth\":0,\"ticks\":\"\"}}}],\"scatterternary\":[{\"type\":\"scatterternary\",\"marker\":{\"colorbar\":{\"outlinewidth\":0,\"ticks\":\"\"}}}],\"scattercarpet\":[{\"type\":\"scattercarpet\",\"marker\":{\"colorbar\":{\"outlinewidth\":0,\"ticks\":\"\"}}}],\"carpet\":[{\"aaxis\":{\"endlinecolor\":\"#2a3f5f\",\"gridcolor\":\"white\",\"linecolor\":\"white\",\"minorgridcolor\":\"white\",\"startlinecolor\":\"#2a3f5f\"},\"baxis\":{\"endlinecolor\":\"#2a3f5f\",\"gridcolor\":\"white\",\"linecolor\":\"white\",\"minorgridcolor\":\"white\",\"startlinecolor\":\"#2a3f5f\"},\"type\":\"carpet\"}],\"table\":[{\"cells\":{\"fill\":{\"color\":\"#EBF0F8\"},\"line\":{\"color\":\"white\"}},\"header\":{\"fill\":{\"color\":\"#C8D4E3\"},\"line\":{\"color\":\"white\"}},\"type\":\"table\"}],\"barpolar\":[{\"marker\":{\"line\":{\"color\":\"#E5ECF6\",\"width\":0.5},\"pattern\":{\"fillmode\":\"overlay\",\"size\":10,\"solidity\":0.2}},\"type\":\"barpolar\"}],\"pie\":[{\"automargin\":true,\"type\":\"pie\"}]},\"layout\":{\"autotypenumbers\":\"strict\",\"colorway\":[\"#636efa\",\"#EF553B\",\"#00cc96\",\"#ab63fa\",\"#FFA15A\",\"#19d3f3\",\"#FF6692\",\"#B6E880\",\"#FF97FF\",\"#FECB52\"],\"font\":{\"color\":\"#2a3f5f\"},\"hovermode\":\"closest\",\"hoverlabel\":{\"align\":\"left\"},\"paper_bgcolor\":\"white\",\"plot_bgcolor\":\"#E5ECF6\",\"polar\":{\"bgcolor\":\"#E5ECF6\",\"angularaxis\":{\"gridcolor\":\"white\",\"linecolor\":\"white\",\"ticks\":\"\"},\"radialaxis\":{\"gridcolor\":\"white\",\"linecolor\":\"white\",\"ticks\":\"\"}},\"ternary\":{\"bgcolor\":\"#E5ECF6\",\"aaxis\":{\"gridcolor\":\"white\",\"linecolor\":\"white\",\"ticks\":\"\"},\"baxis\":{\"gridcolor\":\"white\",\"linecolor\":\"white\",\"ticks\":\"\"},\"caxis\":{\"gridcolor\":\"white\",\"linecolor\":\"white\",\"ticks\":\"\"}},\"coloraxis\":{\"colorbar\":{\"outlinewidth\":0,\"ticks\":\"\"}},\"colorscale\":{\"sequential\":[[0.0,\"#0d0887\"],[0.1111111111111111,\"#46039f\"],[0.2222222222222222,\"#7201a8\"],[0.3333333333333333,\"#9c179e\"],[0.4444444444444444,\"#bd3786\"],[0.5555555555555556,\"#d8576b\"],[0.6666666666666666,\"#ed7953\"],[0.7777777777777778,\"#fb9f3a\"],[0.8888888888888888,\"#fdca26\"],[1.0,\"#f0f921\"]],\"sequentialminus\":[[0.0,\"#0d0887\"],[0.1111111111111111,\"#46039f\"],[0.2222222222222222,\"#7201a8\"],[0.3333333333333333,\"#9c179e\"],[0.4444444444444444,\"#bd3786\"],[0.5555555555555556,\"#d8576b\"],[0.6666666666666666,\"#ed7953\"],[0.7777777777777778,\"#fb9f3a\"],[0.8888888888888888,\"#fdca26\"],[1.0,\"#f0f921\"]],\"diverging\":[[0,\"#8e0152\"],[0.1,\"#c51b7d\"],[0.2,\"#de77ae\"],[0.3,\"#f1b6da\"],[0.4,\"#fde0ef\"],[0.5,\"#f7f7f7\"],[0.6,\"#e6f5d0\"],[0.7,\"#b8e186\"],[0.8,\"#7fbc41\"],[0.9,\"#4d9221\"],[1,\"#276419\"]]},\"xaxis\":{\"gridcolor\":\"white\",\"linecolor\":\"white\",\"ticks\":\"\",\"title\":{\"standoff\":15},\"zerolinecolor\":\"white\",\"automargin\":true,\"zerolinewidth\":2},\"yaxis\":{\"gridcolor\":\"white\",\"linecolor\":\"white\",\"ticks\":\"\",\"title\":{\"standoff\":15},\"zerolinecolor\":\"white\",\"automargin\":true,\"zerolinewidth\":2},\"scene\":{\"xaxis\":{\"backgroundcolor\":\"#E5ECF6\",\"gridcolor\":\"white\",\"linecolor\":\"white\",\"showbackground\":true,\"ticks\":\"\",\"zerolinecolor\":\"white\",\"gridwidth\":2},\"yaxis\":{\"backgroundcolor\":\"#E5ECF6\",\"gridcolor\":\"white\",\"linecolor\":\"white\",\"showbackground\":true,\"ticks\":\"\",\"zerolinecolor\":\"white\",\"gridwidth\":2},\"zaxis\":{\"backgroundcolor\":\"#E5ECF6\",\"gridcolor\":\"white\",\"linecolor\":\"white\",\"showbackground\":true,\"ticks\":\"\",\"zerolinecolor\":\"white\",\"gridwidth\":2}},\"shapedefaults\":{\"line\":{\"color\":\"#2a3f5f\"}},\"annotationdefaults\":{\"arrowcolor\":\"#2a3f5f\",\"arrowhead\":0,\"arrowwidth\":1},\"geo\":{\"bgcolor\":\"white\",\"landcolor\":\"#E5ECF6\",\"subunitcolor\":\"white\",\"showland\":true,\"showlakes\":true,\"lakecolor\":\"white\"},\"title\":{\"x\":0.05},\"mapbox\":{\"style\":\"light\"}}},\"xaxis\":{\"anchor\":\"y\",\"domain\":[0.0,1.0],\"scaleanchor\":\"y\",\"constrain\":\"domain\"},\"yaxis\":{\"anchor\":\"x\",\"domain\":[0.0,1.0],\"autorange\":\"reversed\",\"constrain\":\"domain\"},\"coloraxis\":{\"colorbar\":{\"title\":{\"text\":\"Similarity Score\"}},\"colorscale\":[[0.0,\"rgb(247,252,240)\"],[0.125,\"rgb(224,243,219)\"],[0.25,\"rgb(204,235,197)\"],[0.375,\"rgb(168,221,181)\"],[0.5,\"rgb(123,204,196)\"],[0.625,\"rgb(78,179,211)\"],[0.75,\"rgb(43,140,190)\"],[0.875,\"rgb(8,104,172)\"],[1.0,\"rgb(8,64,129)\"]]},\"margin\":{\"t\":60},\"title\":{\"font\":{\"size\":22,\"color\":\"Black\"},\"text\":\"<b>Similarity Matrix</b>\",\"y\":0.95,\"x\":0.55,\"xanchor\":\"center\",\"yanchor\":\"top\"},\"hoverlabel\":{\"font\":{\"size\":16,\"family\":\"Rockwell\"},\"bgcolor\":\"white\"},\"width\":800,\"height\":800,\"showlegend\":true,\"legend\":{\"title\":{\"text\":\"Trend\"}}},                        {\"responsive\": true}                    ).then(function(){\n",
       "                            \n",
       "var gd = document.getElementById('3ffec703-99d0-4f04-bb6c-27adc66da70e');\n",
       "var x = new MutationObserver(function (mutations, observer) {{\n",
       "        var display = window.getComputedStyle(gd).display;\n",
       "        if (!display || display === 'none') {{\n",
       "            console.log([gd, 'removed!']);\n",
       "            Plotly.purge(gd);\n",
       "            observer.disconnect();\n",
       "        }}\n",
       "}});\n",
       "\n",
       "// Listen for the removal of the full notebook cells\n",
       "var notebookContainer = gd.closest('#notebook-container');\n",
       "if (notebookContainer) {{\n",
       "    x.observe(notebookContainer, {childList: true});\n",
       "}}\n",
       "\n",
       "// Listen for the clearing of the current output cell\n",
       "var outputEl = gd.closest('.output');\n",
       "if (outputEl) {{\n",
       "    x.observe(outputEl, {childList: true});\n",
       "}}\n",
       "\n",
       "                        })                };                });            </script>        </div>"
      ]
     },
     "metadata": {},
     "output_type": "display_data"
    }
   ],
   "source": [
    "topic_model.visualize_heatmap()"
   ]
  },
  {
   "cell_type": "code",
   "execution_count": null,
   "id": "5fbacd97",
   "metadata": {},
   "outputs": [],
   "source": []
  }
 ],
 "metadata": {
  "kernelspec": {
   "display_name": "Python 3 (ipykernel)",
   "language": "python",
   "name": "python3"
  },
  "language_info": {
   "codemirror_mode": {
    "name": "ipython",
    "version": 3
   },
   "file_extension": ".py",
   "mimetype": "text/x-python",
   "name": "python",
   "nbconvert_exporter": "python",
   "pygments_lexer": "ipython3",
   "version": "3.8.10"
  }
 },
 "nbformat": 4,
 "nbformat_minor": 5
}
